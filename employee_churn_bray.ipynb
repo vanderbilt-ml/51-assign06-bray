{
  "cells": [
    {
      "cell_type": "markdown",
      "metadata": {
        "id": "view-in-github",
        "colab_type": "text"
      },
      "source": [
        "<a href=\"https://colab.research.google.com/github/vanderbilt-ml/51-assign06-bray/blob/main/employee_churn_bray.ipynb\" target=\"_parent\"><img src=\"https://colab.research.google.com/assets/colab-badge.svg\" alt=\"Open In Colab\"/></a>"
      ]
    },
    {
      "cell_type": "markdown",
      "source": [
        "# Assignment 6"
      ],
      "metadata": {
        "id": "zUVLvzAXBgsm"
      },
      "id": "zUVLvzAXBgsm"
    },
    {
      "cell_type": "markdown",
      "source": [
        "# Feature 1: College Diploma\n",
        "\n",
        "Based on the existing \"Education\" feature, I created a new feature called CollegeDiploma to see if it made a difference if an employee who has earned a degree is less or more likely to leave the company. \n",
        "\n",
        "My hypothesis is that employees who don't have at least a bachelors degree may not want to leave if they are worried about finding employment outside of the company because of there qualifications.\n",
        "\n"
      ],
      "metadata": {
        "id": "f6I-X9i2BnbR"
      },
      "id": "f6I-X9i2BnbR"
    },
    {
      "cell_type": "markdown",
      "source": [
        "# Feature 2: Employee Generation\n",
        "\n",
        "I wanted to take a deeper dive on the existing \"Age\" feature to explore if generational data could have an impact on attrition rates. I created a new feature call \"Generation\" which categorizes employees age groups by Gen Z (0-25), Gen Millenial (26-40), Gen X (42-57), and Baby boomer (over 57).\n",
        "\n",
        "My assumption would be that people who are baby boomers or gen X would have a lower rate of attrition due to the fact that they are more conservative and take less chances because it might be harder to find other employment because of their advanced age."
      ],
      "metadata": {
        "id": "YZwXX-FUBsjr"
      },
      "id": "YZwXX-FUBsjr"
    },
    {
      "cell_type": "markdown",
      "id": "3a251b12-73f7-4007-8f91-a866b8539ded",
      "metadata": {
        "id": "3a251b12-73f7-4007-8f91-a866b8539ded"
      },
      "source": [
        "## Problem Formulation\n",
        "\n",
        "In this example, we will use IBM's HR Attrition dataset, available here: https://www.kaggle.com/datasets/pavansubhasht/ibm-hr-analytics-attrition-dataset.\n",
        "The dataset contains data on 1470 employees. The variables covered in this dataset focus heavily on demographic attributes (e.g. gender, age and race), social related attributes (e.g. marital status) and work related attributes (e.g. tenure and pay)."
      ]
    },
    {
      "cell_type": "code",
      "execution_count": null,
      "id": "5d51761d-af0e-411f-9375-54bcd91a62db",
      "metadata": {
        "id": "5d51761d-af0e-411f-9375-54bcd91a62db"
      },
      "outputs": [],
      "source": [
        "#tables and visualizations\n",
        "import pandas as pd\n",
        "import numpy as np\n",
        "import seaborn as sns\n",
        "import matplotlib.pyplot as plt\n",
        "\n",
        "#machine learning\n",
        "from sklearn.ensemble import GradientBoostingClassifier, RandomTreesEmbedding #Gradient Model\n",
        "from sklearn.model_selection import train_test_split, GridSearchCV\n",
        "from sklearn.linear_model import LogisticRegression\n",
        "from sklearn.ensemble import RandomForestClassifier\n",
        "from sklearn.pipeline import Pipeline \n",
        "from sklearn.compose import ColumnTransformer, make_column_selector\n",
        "from sklearn.impute import SimpleImputer\n",
        "from sklearn.preprocessing import OneHotEncoder, LabelBinarizer, StandardScaler\n",
        "from sklearn import config_context\n",
        "from sklearn.metrics import classification_report, confusion_matrix, ConfusionMatrixDisplay"
      ]
    },
    {
      "cell_type": "markdown",
      "id": "87e69be8-1415-482e-adc2-4d71a697535b",
      "metadata": {
        "id": "87e69be8-1415-482e-adc2-4d71a697535b"
      },
      "source": [
        "## Load Data\n",
        "\n",
        "Here we first load the data into python using pandas and read it in as a pandas dataframe which is the format which we will use throughout the example. "
      ]
    },
    {
      "cell_type": "code",
      "execution_count": null,
      "id": "6b347d70-2e7b-4cdc-a290-ace614045711",
      "metadata": {
        "colab": {
          "base_uri": "https://localhost:8080/",
          "height": 1000
        },
        "id": "6b347d70-2e7b-4cdc-a290-ace614045711",
        "outputId": "673559b6-f1f1-4e79-b71f-feee5ffd4ccd"
      },
      "outputs": [
        {
          "output_type": "display_data",
          "data": {
            "text/plain": [
              "   Age Attrition     BusinessTravel  DailyRate              Department  \\\n",
              "0   41       Yes      Travel_Rarely       1102                   Sales   \n",
              "1   49        No  Travel_Frequently        279  Research & Development   \n",
              "2   37       Yes      Travel_Rarely       1373  Research & Development   \n",
              "3   33        No  Travel_Frequently       1392  Research & Development   \n",
              "4   27        No      Travel_Rarely        591  Research & Development   \n",
              "\n",
              "   DistanceFromHome  Education EducationField  EmployeeCount  EmployeeNumber  \\\n",
              "0                 1          2  Life Sciences              1               1   \n",
              "1                 8          1  Life Sciences              1               2   \n",
              "2                 2          2          Other              1               4   \n",
              "3                 3          4  Life Sciences              1               5   \n",
              "4                 2          1        Medical              1               7   \n",
              "\n",
              "   ...  RelationshipSatisfaction StandardHours  StockOptionLevel  \\\n",
              "0  ...                         1            80                 0   \n",
              "1  ...                         4            80                 1   \n",
              "2  ...                         2            80                 0   \n",
              "3  ...                         3            80                 0   \n",
              "4  ...                         4            80                 1   \n",
              "\n",
              "   TotalWorkingYears  TrainingTimesLastYear WorkLifeBalance  YearsAtCompany  \\\n",
              "0                  8                      0               1               6   \n",
              "1                 10                      3               3              10   \n",
              "2                  7                      3               3               0   \n",
              "3                  8                      3               3               8   \n",
              "4                  6                      3               3               2   \n",
              "\n",
              "  YearsInCurrentRole  YearsSinceLastPromotion  YearsWithCurrManager  \n",
              "0                  4                        0                     5  \n",
              "1                  7                        1                     7  \n",
              "2                  0                        0                     0  \n",
              "3                  7                        3                     0  \n",
              "4                  2                        2                     2  \n",
              "\n",
              "[5 rows x 35 columns]"
            ],
            "text/html": [
              "\n",
              "  <div id=\"df-bb4ba090-67aa-48cb-9d4d-712f59fcec3e\">\n",
              "    <div class=\"colab-df-container\">\n",
              "      <div>\n",
              "<style scoped>\n",
              "    .dataframe tbody tr th:only-of-type {\n",
              "        vertical-align: middle;\n",
              "    }\n",
              "\n",
              "    .dataframe tbody tr th {\n",
              "        vertical-align: top;\n",
              "    }\n",
              "\n",
              "    .dataframe thead th {\n",
              "        text-align: right;\n",
              "    }\n",
              "</style>\n",
              "<table border=\"1\" class=\"dataframe\">\n",
              "  <thead>\n",
              "    <tr style=\"text-align: right;\">\n",
              "      <th></th>\n",
              "      <th>Age</th>\n",
              "      <th>Attrition</th>\n",
              "      <th>BusinessTravel</th>\n",
              "      <th>DailyRate</th>\n",
              "      <th>Department</th>\n",
              "      <th>DistanceFromHome</th>\n",
              "      <th>Education</th>\n",
              "      <th>EducationField</th>\n",
              "      <th>EmployeeCount</th>\n",
              "      <th>EmployeeNumber</th>\n",
              "      <th>...</th>\n",
              "      <th>RelationshipSatisfaction</th>\n",
              "      <th>StandardHours</th>\n",
              "      <th>StockOptionLevel</th>\n",
              "      <th>TotalWorkingYears</th>\n",
              "      <th>TrainingTimesLastYear</th>\n",
              "      <th>WorkLifeBalance</th>\n",
              "      <th>YearsAtCompany</th>\n",
              "      <th>YearsInCurrentRole</th>\n",
              "      <th>YearsSinceLastPromotion</th>\n",
              "      <th>YearsWithCurrManager</th>\n",
              "    </tr>\n",
              "  </thead>\n",
              "  <tbody>\n",
              "    <tr>\n",
              "      <th>0</th>\n",
              "      <td>41</td>\n",
              "      <td>Yes</td>\n",
              "      <td>Travel_Rarely</td>\n",
              "      <td>1102</td>\n",
              "      <td>Sales</td>\n",
              "      <td>1</td>\n",
              "      <td>2</td>\n",
              "      <td>Life Sciences</td>\n",
              "      <td>1</td>\n",
              "      <td>1</td>\n",
              "      <td>...</td>\n",
              "      <td>1</td>\n",
              "      <td>80</td>\n",
              "      <td>0</td>\n",
              "      <td>8</td>\n",
              "      <td>0</td>\n",
              "      <td>1</td>\n",
              "      <td>6</td>\n",
              "      <td>4</td>\n",
              "      <td>0</td>\n",
              "      <td>5</td>\n",
              "    </tr>\n",
              "    <tr>\n",
              "      <th>1</th>\n",
              "      <td>49</td>\n",
              "      <td>No</td>\n",
              "      <td>Travel_Frequently</td>\n",
              "      <td>279</td>\n",
              "      <td>Research &amp; Development</td>\n",
              "      <td>8</td>\n",
              "      <td>1</td>\n",
              "      <td>Life Sciences</td>\n",
              "      <td>1</td>\n",
              "      <td>2</td>\n",
              "      <td>...</td>\n",
              "      <td>4</td>\n",
              "      <td>80</td>\n",
              "      <td>1</td>\n",
              "      <td>10</td>\n",
              "      <td>3</td>\n",
              "      <td>3</td>\n",
              "      <td>10</td>\n",
              "      <td>7</td>\n",
              "      <td>1</td>\n",
              "      <td>7</td>\n",
              "    </tr>\n",
              "    <tr>\n",
              "      <th>2</th>\n",
              "      <td>37</td>\n",
              "      <td>Yes</td>\n",
              "      <td>Travel_Rarely</td>\n",
              "      <td>1373</td>\n",
              "      <td>Research &amp; Development</td>\n",
              "      <td>2</td>\n",
              "      <td>2</td>\n",
              "      <td>Other</td>\n",
              "      <td>1</td>\n",
              "      <td>4</td>\n",
              "      <td>...</td>\n",
              "      <td>2</td>\n",
              "      <td>80</td>\n",
              "      <td>0</td>\n",
              "      <td>7</td>\n",
              "      <td>3</td>\n",
              "      <td>3</td>\n",
              "      <td>0</td>\n",
              "      <td>0</td>\n",
              "      <td>0</td>\n",
              "      <td>0</td>\n",
              "    </tr>\n",
              "    <tr>\n",
              "      <th>3</th>\n",
              "      <td>33</td>\n",
              "      <td>No</td>\n",
              "      <td>Travel_Frequently</td>\n",
              "      <td>1392</td>\n",
              "      <td>Research &amp; Development</td>\n",
              "      <td>3</td>\n",
              "      <td>4</td>\n",
              "      <td>Life Sciences</td>\n",
              "      <td>1</td>\n",
              "      <td>5</td>\n",
              "      <td>...</td>\n",
              "      <td>3</td>\n",
              "      <td>80</td>\n",
              "      <td>0</td>\n",
              "      <td>8</td>\n",
              "      <td>3</td>\n",
              "      <td>3</td>\n",
              "      <td>8</td>\n",
              "      <td>7</td>\n",
              "      <td>3</td>\n",
              "      <td>0</td>\n",
              "    </tr>\n",
              "    <tr>\n",
              "      <th>4</th>\n",
              "      <td>27</td>\n",
              "      <td>No</td>\n",
              "      <td>Travel_Rarely</td>\n",
              "      <td>591</td>\n",
              "      <td>Research &amp; Development</td>\n",
              "      <td>2</td>\n",
              "      <td>1</td>\n",
              "      <td>Medical</td>\n",
              "      <td>1</td>\n",
              "      <td>7</td>\n",
              "      <td>...</td>\n",
              "      <td>4</td>\n",
              "      <td>80</td>\n",
              "      <td>1</td>\n",
              "      <td>6</td>\n",
              "      <td>3</td>\n",
              "      <td>3</td>\n",
              "      <td>2</td>\n",
              "      <td>2</td>\n",
              "      <td>2</td>\n",
              "      <td>2</td>\n",
              "    </tr>\n",
              "  </tbody>\n",
              "</table>\n",
              "<p>5 rows × 35 columns</p>\n",
              "</div>\n",
              "      <button class=\"colab-df-convert\" onclick=\"convertToInteractive('df-bb4ba090-67aa-48cb-9d4d-712f59fcec3e')\"\n",
              "              title=\"Convert this dataframe to an interactive table.\"\n",
              "              style=\"display:none;\">\n",
              "        \n",
              "  <svg xmlns=\"http://www.w3.org/2000/svg\" height=\"24px\"viewBox=\"0 0 24 24\"\n",
              "       width=\"24px\">\n",
              "    <path d=\"M0 0h24v24H0V0z\" fill=\"none\"/>\n",
              "    <path d=\"M18.56 5.44l.94 2.06.94-2.06 2.06-.94-2.06-.94-.94-2.06-.94 2.06-2.06.94zm-11 1L8.5 8.5l.94-2.06 2.06-.94-2.06-.94L8.5 2.5l-.94 2.06-2.06.94zm10 10l.94 2.06.94-2.06 2.06-.94-2.06-.94-.94-2.06-.94 2.06-2.06.94z\"/><path d=\"M17.41 7.96l-1.37-1.37c-.4-.4-.92-.59-1.43-.59-.52 0-1.04.2-1.43.59L10.3 9.45l-7.72 7.72c-.78.78-.78 2.05 0 2.83L4 21.41c.39.39.9.59 1.41.59.51 0 1.02-.2 1.41-.59l7.78-7.78 2.81-2.81c.8-.78.8-2.07 0-2.86zM5.41 20L4 18.59l7.72-7.72 1.47 1.35L5.41 20z\"/>\n",
              "  </svg>\n",
              "      </button>\n",
              "      \n",
              "  <style>\n",
              "    .colab-df-container {\n",
              "      display:flex;\n",
              "      flex-wrap:wrap;\n",
              "      gap: 12px;\n",
              "    }\n",
              "\n",
              "    .colab-df-convert {\n",
              "      background-color: #E8F0FE;\n",
              "      border: none;\n",
              "      border-radius: 50%;\n",
              "      cursor: pointer;\n",
              "      display: none;\n",
              "      fill: #1967D2;\n",
              "      height: 32px;\n",
              "      padding: 0 0 0 0;\n",
              "      width: 32px;\n",
              "    }\n",
              "\n",
              "    .colab-df-convert:hover {\n",
              "      background-color: #E2EBFA;\n",
              "      box-shadow: 0px 1px 2px rgba(60, 64, 67, 0.3), 0px 1px 3px 1px rgba(60, 64, 67, 0.15);\n",
              "      fill: #174EA6;\n",
              "    }\n",
              "\n",
              "    [theme=dark] .colab-df-convert {\n",
              "      background-color: #3B4455;\n",
              "      fill: #D2E3FC;\n",
              "    }\n",
              "\n",
              "    [theme=dark] .colab-df-convert:hover {\n",
              "      background-color: #434B5C;\n",
              "      box-shadow: 0px 1px 3px 1px rgba(0, 0, 0, 0.15);\n",
              "      filter: drop-shadow(0px 1px 2px rgba(0, 0, 0, 0.3));\n",
              "      fill: #FFFFFF;\n",
              "    }\n",
              "  </style>\n",
              "\n",
              "      <script>\n",
              "        const buttonEl =\n",
              "          document.querySelector('#df-bb4ba090-67aa-48cb-9d4d-712f59fcec3e button.colab-df-convert');\n",
              "        buttonEl.style.display =\n",
              "          google.colab.kernel.accessAllowed ? 'block' : 'none';\n",
              "\n",
              "        async function convertToInteractive(key) {\n",
              "          const element = document.querySelector('#df-bb4ba090-67aa-48cb-9d4d-712f59fcec3e');\n",
              "          const dataTable =\n",
              "            await google.colab.kernel.invokeFunction('convertToInteractive',\n",
              "                                                     [key], {});\n",
              "          if (!dataTable) return;\n",
              "\n",
              "          const docLinkHtml = 'Like what you see? Visit the ' +\n",
              "            '<a target=\"_blank\" href=https://colab.research.google.com/notebooks/data_table.ipynb>data table notebook</a>'\n",
              "            + ' to learn more about interactive tables.';\n",
              "          element.innerHTML = '';\n",
              "          dataTable['output_type'] = 'display_data';\n",
              "          await google.colab.output.renderOutput(dataTable, element);\n",
              "          const docLink = document.createElement('div');\n",
              "          docLink.innerHTML = docLinkHtml;\n",
              "          element.appendChild(docLink);\n",
              "        }\n",
              "      </script>\n",
              "    </div>\n",
              "  </div>\n",
              "  "
            ]
          },
          "metadata": {}
        },
        {
          "output_type": "stream",
          "name": "stdout",
          "text": [
            "<class 'pandas.core.frame.DataFrame'>\n",
            "RangeIndex: 1470 entries, 0 to 1469\n",
            "Data columns (total 35 columns):\n",
            " #   Column                    Non-Null Count  Dtype \n",
            "---  ------                    --------------  ----- \n",
            " 0   Age                       1470 non-null   int64 \n",
            " 1   Attrition                 1470 non-null   object\n",
            " 2   BusinessTravel            1470 non-null   object\n",
            " 3   DailyRate                 1470 non-null   int64 \n",
            " 4   Department                1470 non-null   object\n",
            " 5   DistanceFromHome          1470 non-null   int64 \n",
            " 6   Education                 1470 non-null   int64 \n",
            " 7   EducationField            1470 non-null   object\n",
            " 8   EmployeeCount             1470 non-null   int64 \n",
            " 9   EmployeeNumber            1470 non-null   int64 \n",
            " 10  EnvironmentSatisfaction   1470 non-null   int64 \n",
            " 11  Gender                    1470 non-null   object\n",
            " 12  HourlyRate                1470 non-null   int64 \n",
            " 13  JobInvolvement            1470 non-null   int64 \n",
            " 14  JobLevel                  1470 non-null   int64 \n",
            " 15  JobRole                   1470 non-null   object\n",
            " 16  JobSatisfaction           1470 non-null   int64 \n",
            " 17  MaritalStatus             1470 non-null   object\n",
            " 18  MonthlyIncome             1470 non-null   int64 \n",
            " 19  MonthlyRate               1470 non-null   int64 \n",
            " 20  NumCompaniesWorked        1470 non-null   int64 \n",
            " 21  Over18                    1470 non-null   object\n",
            " 22  OverTime                  1470 non-null   object\n",
            " 23  PercentSalaryHike         1470 non-null   int64 \n",
            " 24  PerformanceRating         1470 non-null   int64 \n",
            " 25  RelationshipSatisfaction  1470 non-null   int64 \n",
            " 26  StandardHours             1470 non-null   int64 \n",
            " 27  StockOptionLevel          1470 non-null   int64 \n",
            " 28  TotalWorkingYears         1470 non-null   int64 \n",
            " 29  TrainingTimesLastYear     1470 non-null   int64 \n",
            " 30  WorkLifeBalance           1470 non-null   int64 \n",
            " 31  YearsAtCompany            1470 non-null   int64 \n",
            " 32  YearsInCurrentRole        1470 non-null   int64 \n",
            " 33  YearsSinceLastPromotion   1470 non-null   int64 \n",
            " 34  YearsWithCurrManager      1470 non-null   int64 \n",
            "dtypes: int64(26), object(9)\n",
            "memory usage: 402.1+ KB\n"
          ]
        }
      ],
      "source": [
        "employee_df = pd.read_excel('IBM-HR-Data-Employee-Attrition.xlsx')\n",
        "features = ['CollegeDegree'] # Has College Degree\n",
        "features = ['Genration'] # Employee Generation\n",
        "display(employee_df.head())\n",
        "employee_df.info()"
      ]
    },
    {
      "cell_type": "code",
      "execution_count": null,
      "id": "107620e0-89ee-4f53-ac2e-dd0d03b15b66",
      "metadata": {
        "id": "107620e0-89ee-4f53-ac2e-dd0d03b15b66",
        "colab": {
          "base_uri": "https://localhost:8080/"
        },
        "outputId": "9b979038-7959-4ef9-f0e4-19d7a14ce766"
      },
      "outputs": [
        {
          "output_type": "execute_result",
          "data": {
            "text/plain": [
              "Age                         0\n",
              "Attrition                   0\n",
              "BusinessTravel              0\n",
              "DailyRate                   0\n",
              "Department                  0\n",
              "DistanceFromHome            0\n",
              "Education                   0\n",
              "EducationField              0\n",
              "EmployeeCount               0\n",
              "EmployeeNumber              0\n",
              "EnvironmentSatisfaction     0\n",
              "Gender                      0\n",
              "HourlyRate                  0\n",
              "JobInvolvement              0\n",
              "JobLevel                    0\n",
              "JobRole                     0\n",
              "JobSatisfaction             0\n",
              "MaritalStatus               0\n",
              "MonthlyIncome               0\n",
              "MonthlyRate                 0\n",
              "NumCompaniesWorked          0\n",
              "Over18                      0\n",
              "OverTime                    0\n",
              "PercentSalaryHike           0\n",
              "PerformanceRating           0\n",
              "RelationshipSatisfaction    0\n",
              "StandardHours               0\n",
              "StockOptionLevel            0\n",
              "TotalWorkingYears           0\n",
              "TrainingTimesLastYear       0\n",
              "WorkLifeBalance             0\n",
              "YearsAtCompany              0\n",
              "YearsInCurrentRole          0\n",
              "YearsSinceLastPromotion     0\n",
              "YearsWithCurrManager        0\n",
              "dtype: int64"
            ]
          },
          "metadata": {},
          "execution_count": 480
        }
      ],
      "source": [
        "employee_df.isna().sum()"
      ]
    },
    {
      "cell_type": "code",
      "execution_count": null,
      "id": "a54164ec",
      "metadata": {
        "id": "a54164ec"
      },
      "outputs": [],
      "source": [
        ""
      ]
    },
    {
      "cell_type": "markdown",
      "id": "f3200837-3b0e-42f5-aac2-c2dc6dec3fd0",
      "metadata": {
        "id": "f3200837-3b0e-42f5-aac2-c2dc6dec3fd0"
      },
      "source": [
        "## Data cleaning and EDA\n",
        "\n",
        "We can now briefly explore our data. For now, we can observe that there are a zero NA values which will likely need imputation. We'll wait for this step so that we can put it within our training loop in case future data sets from IBM HR might have NA values. You are welcome to explore additional aspects of the data and build out 2-3 features on your own"
      ]
    },
    {
      "cell_type": "code",
      "execution_count": null,
      "id": "ae42a8db-457d-4532-934b-b4be3e6ce33b",
      "metadata": {
        "id": "ae42a8db-457d-4532-934b-b4be3e6ce33b",
        "colab": {
          "base_uri": "https://localhost:8080/"
        },
        "outputId": "3d0cbb7a-dce2-4d47-9bfd-8563556cd746"
      },
      "outputs": [
        {
          "output_type": "execute_result",
          "data": {
            "text/plain": [
              "(1470, 35)"
            ]
          },
          "metadata": {},
          "execution_count": 481
        }
      ],
      "source": [
        "employee_df = employee_df.dropna(subset=['Attrition'])\n",
        "employee_df.shape"
      ]
    },
    {
      "cell_type": "markdown",
      "source": [
        ""
      ],
      "metadata": {
        "id": "xaVSFcJWYlBF"
      },
      "id": "xaVSFcJWYlBF"
    },
    {
      "cell_type": "markdown",
      "source": [
        "Feature 1"
      ],
      "metadata": {
        "id": "4NUefWZjPQsa"
      },
      "id": "4NUefWZjPQsa"
    },
    {
      "cell_type": "code",
      "source": [
        "employee_df.loc[employee_df['Education'] < 3, 'CollegeDegree'] = 'No Degree'\n",
        "employee_df.loc[employee_df['Education'] > 2, 'CollegeDegree'] = 'College Degree'\n",
        " \n",
        "employee_df.head()\n"
      ],
      "metadata": {
        "colab": {
          "base_uri": "https://localhost:8080/",
          "height": 369
        },
        "id": "URRlQsSEPUjT",
        "outputId": "076b9503-bc4d-48ec-9ddc-8297167c40b1"
      },
      "id": "URRlQsSEPUjT",
      "execution_count": null,
      "outputs": [
        {
          "output_type": "execute_result",
          "data": {
            "text/plain": [
              "   Age Attrition     BusinessTravel  DailyRate              Department  \\\n",
              "0   41       Yes      Travel_Rarely       1102                   Sales   \n",
              "1   49        No  Travel_Frequently        279  Research & Development   \n",
              "2   37       Yes      Travel_Rarely       1373  Research & Development   \n",
              "3   33        No  Travel_Frequently       1392  Research & Development   \n",
              "4   27        No      Travel_Rarely        591  Research & Development   \n",
              "\n",
              "   DistanceFromHome  Education EducationField  EmployeeCount  EmployeeNumber  \\\n",
              "0                 1          2  Life Sciences              1               1   \n",
              "1                 8          1  Life Sciences              1               2   \n",
              "2                 2          2          Other              1               4   \n",
              "3                 3          4  Life Sciences              1               5   \n",
              "4                 2          1        Medical              1               7   \n",
              "\n",
              "   ...  StandardHours StockOptionLevel  TotalWorkingYears  \\\n",
              "0  ...             80                0                  8   \n",
              "1  ...             80                1                 10   \n",
              "2  ...             80                0                  7   \n",
              "3  ...             80                0                  8   \n",
              "4  ...             80                1                  6   \n",
              "\n",
              "   TrainingTimesLastYear  WorkLifeBalance YearsAtCompany  YearsInCurrentRole  \\\n",
              "0                      0                1              6                   4   \n",
              "1                      3                3             10                   7   \n",
              "2                      3                3              0                   0   \n",
              "3                      3                3              8                   7   \n",
              "4                      3                3              2                   2   \n",
              "\n",
              "  YearsSinceLastPromotion  YearsWithCurrManager   CollegeDegree  \n",
              "0                       0                     5       No Degree  \n",
              "1                       1                     7       No Degree  \n",
              "2                       0                     0       No Degree  \n",
              "3                       3                     0  College Degree  \n",
              "4                       2                     2       No Degree  \n",
              "\n",
              "[5 rows x 36 columns]"
            ],
            "text/html": [
              "\n",
              "  <div id=\"df-0214d369-d5b5-4c75-a10c-51947401cf17\">\n",
              "    <div class=\"colab-df-container\">\n",
              "      <div>\n",
              "<style scoped>\n",
              "    .dataframe tbody tr th:only-of-type {\n",
              "        vertical-align: middle;\n",
              "    }\n",
              "\n",
              "    .dataframe tbody tr th {\n",
              "        vertical-align: top;\n",
              "    }\n",
              "\n",
              "    .dataframe thead th {\n",
              "        text-align: right;\n",
              "    }\n",
              "</style>\n",
              "<table border=\"1\" class=\"dataframe\">\n",
              "  <thead>\n",
              "    <tr style=\"text-align: right;\">\n",
              "      <th></th>\n",
              "      <th>Age</th>\n",
              "      <th>Attrition</th>\n",
              "      <th>BusinessTravel</th>\n",
              "      <th>DailyRate</th>\n",
              "      <th>Department</th>\n",
              "      <th>DistanceFromHome</th>\n",
              "      <th>Education</th>\n",
              "      <th>EducationField</th>\n",
              "      <th>EmployeeCount</th>\n",
              "      <th>EmployeeNumber</th>\n",
              "      <th>...</th>\n",
              "      <th>StandardHours</th>\n",
              "      <th>StockOptionLevel</th>\n",
              "      <th>TotalWorkingYears</th>\n",
              "      <th>TrainingTimesLastYear</th>\n",
              "      <th>WorkLifeBalance</th>\n",
              "      <th>YearsAtCompany</th>\n",
              "      <th>YearsInCurrentRole</th>\n",
              "      <th>YearsSinceLastPromotion</th>\n",
              "      <th>YearsWithCurrManager</th>\n",
              "      <th>CollegeDegree</th>\n",
              "    </tr>\n",
              "  </thead>\n",
              "  <tbody>\n",
              "    <tr>\n",
              "      <th>0</th>\n",
              "      <td>41</td>\n",
              "      <td>Yes</td>\n",
              "      <td>Travel_Rarely</td>\n",
              "      <td>1102</td>\n",
              "      <td>Sales</td>\n",
              "      <td>1</td>\n",
              "      <td>2</td>\n",
              "      <td>Life Sciences</td>\n",
              "      <td>1</td>\n",
              "      <td>1</td>\n",
              "      <td>...</td>\n",
              "      <td>80</td>\n",
              "      <td>0</td>\n",
              "      <td>8</td>\n",
              "      <td>0</td>\n",
              "      <td>1</td>\n",
              "      <td>6</td>\n",
              "      <td>4</td>\n",
              "      <td>0</td>\n",
              "      <td>5</td>\n",
              "      <td>No Degree</td>\n",
              "    </tr>\n",
              "    <tr>\n",
              "      <th>1</th>\n",
              "      <td>49</td>\n",
              "      <td>No</td>\n",
              "      <td>Travel_Frequently</td>\n",
              "      <td>279</td>\n",
              "      <td>Research &amp; Development</td>\n",
              "      <td>8</td>\n",
              "      <td>1</td>\n",
              "      <td>Life Sciences</td>\n",
              "      <td>1</td>\n",
              "      <td>2</td>\n",
              "      <td>...</td>\n",
              "      <td>80</td>\n",
              "      <td>1</td>\n",
              "      <td>10</td>\n",
              "      <td>3</td>\n",
              "      <td>3</td>\n",
              "      <td>10</td>\n",
              "      <td>7</td>\n",
              "      <td>1</td>\n",
              "      <td>7</td>\n",
              "      <td>No Degree</td>\n",
              "    </tr>\n",
              "    <tr>\n",
              "      <th>2</th>\n",
              "      <td>37</td>\n",
              "      <td>Yes</td>\n",
              "      <td>Travel_Rarely</td>\n",
              "      <td>1373</td>\n",
              "      <td>Research &amp; Development</td>\n",
              "      <td>2</td>\n",
              "      <td>2</td>\n",
              "      <td>Other</td>\n",
              "      <td>1</td>\n",
              "      <td>4</td>\n",
              "      <td>...</td>\n",
              "      <td>80</td>\n",
              "      <td>0</td>\n",
              "      <td>7</td>\n",
              "      <td>3</td>\n",
              "      <td>3</td>\n",
              "      <td>0</td>\n",
              "      <td>0</td>\n",
              "      <td>0</td>\n",
              "      <td>0</td>\n",
              "      <td>No Degree</td>\n",
              "    </tr>\n",
              "    <tr>\n",
              "      <th>3</th>\n",
              "      <td>33</td>\n",
              "      <td>No</td>\n",
              "      <td>Travel_Frequently</td>\n",
              "      <td>1392</td>\n",
              "      <td>Research &amp; Development</td>\n",
              "      <td>3</td>\n",
              "      <td>4</td>\n",
              "      <td>Life Sciences</td>\n",
              "      <td>1</td>\n",
              "      <td>5</td>\n",
              "      <td>...</td>\n",
              "      <td>80</td>\n",
              "      <td>0</td>\n",
              "      <td>8</td>\n",
              "      <td>3</td>\n",
              "      <td>3</td>\n",
              "      <td>8</td>\n",
              "      <td>7</td>\n",
              "      <td>3</td>\n",
              "      <td>0</td>\n",
              "      <td>College Degree</td>\n",
              "    </tr>\n",
              "    <tr>\n",
              "      <th>4</th>\n",
              "      <td>27</td>\n",
              "      <td>No</td>\n",
              "      <td>Travel_Rarely</td>\n",
              "      <td>591</td>\n",
              "      <td>Research &amp; Development</td>\n",
              "      <td>2</td>\n",
              "      <td>1</td>\n",
              "      <td>Medical</td>\n",
              "      <td>1</td>\n",
              "      <td>7</td>\n",
              "      <td>...</td>\n",
              "      <td>80</td>\n",
              "      <td>1</td>\n",
              "      <td>6</td>\n",
              "      <td>3</td>\n",
              "      <td>3</td>\n",
              "      <td>2</td>\n",
              "      <td>2</td>\n",
              "      <td>2</td>\n",
              "      <td>2</td>\n",
              "      <td>No Degree</td>\n",
              "    </tr>\n",
              "  </tbody>\n",
              "</table>\n",
              "<p>5 rows × 36 columns</p>\n",
              "</div>\n",
              "      <button class=\"colab-df-convert\" onclick=\"convertToInteractive('df-0214d369-d5b5-4c75-a10c-51947401cf17')\"\n",
              "              title=\"Convert this dataframe to an interactive table.\"\n",
              "              style=\"display:none;\">\n",
              "        \n",
              "  <svg xmlns=\"http://www.w3.org/2000/svg\" height=\"24px\"viewBox=\"0 0 24 24\"\n",
              "       width=\"24px\">\n",
              "    <path d=\"M0 0h24v24H0V0z\" fill=\"none\"/>\n",
              "    <path d=\"M18.56 5.44l.94 2.06.94-2.06 2.06-.94-2.06-.94-.94-2.06-.94 2.06-2.06.94zm-11 1L8.5 8.5l.94-2.06 2.06-.94-2.06-.94L8.5 2.5l-.94 2.06-2.06.94zm10 10l.94 2.06.94-2.06 2.06-.94-2.06-.94-.94-2.06-.94 2.06-2.06.94z\"/><path d=\"M17.41 7.96l-1.37-1.37c-.4-.4-.92-.59-1.43-.59-.52 0-1.04.2-1.43.59L10.3 9.45l-7.72 7.72c-.78.78-.78 2.05 0 2.83L4 21.41c.39.39.9.59 1.41.59.51 0 1.02-.2 1.41-.59l7.78-7.78 2.81-2.81c.8-.78.8-2.07 0-2.86zM5.41 20L4 18.59l7.72-7.72 1.47 1.35L5.41 20z\"/>\n",
              "  </svg>\n",
              "      </button>\n",
              "      \n",
              "  <style>\n",
              "    .colab-df-container {\n",
              "      display:flex;\n",
              "      flex-wrap:wrap;\n",
              "      gap: 12px;\n",
              "    }\n",
              "\n",
              "    .colab-df-convert {\n",
              "      background-color: #E8F0FE;\n",
              "      border: none;\n",
              "      border-radius: 50%;\n",
              "      cursor: pointer;\n",
              "      display: none;\n",
              "      fill: #1967D2;\n",
              "      height: 32px;\n",
              "      padding: 0 0 0 0;\n",
              "      width: 32px;\n",
              "    }\n",
              "\n",
              "    .colab-df-convert:hover {\n",
              "      background-color: #E2EBFA;\n",
              "      box-shadow: 0px 1px 2px rgba(60, 64, 67, 0.3), 0px 1px 3px 1px rgba(60, 64, 67, 0.15);\n",
              "      fill: #174EA6;\n",
              "    }\n",
              "\n",
              "    [theme=dark] .colab-df-convert {\n",
              "      background-color: #3B4455;\n",
              "      fill: #D2E3FC;\n",
              "    }\n",
              "\n",
              "    [theme=dark] .colab-df-convert:hover {\n",
              "      background-color: #434B5C;\n",
              "      box-shadow: 0px 1px 3px 1px rgba(0, 0, 0, 0.15);\n",
              "      filter: drop-shadow(0px 1px 2px rgba(0, 0, 0, 0.3));\n",
              "      fill: #FFFFFF;\n",
              "    }\n",
              "  </style>\n",
              "\n",
              "      <script>\n",
              "        const buttonEl =\n",
              "          document.querySelector('#df-0214d369-d5b5-4c75-a10c-51947401cf17 button.colab-df-convert');\n",
              "        buttonEl.style.display =\n",
              "          google.colab.kernel.accessAllowed ? 'block' : 'none';\n",
              "\n",
              "        async function convertToInteractive(key) {\n",
              "          const element = document.querySelector('#df-0214d369-d5b5-4c75-a10c-51947401cf17');\n",
              "          const dataTable =\n",
              "            await google.colab.kernel.invokeFunction('convertToInteractive',\n",
              "                                                     [key], {});\n",
              "          if (!dataTable) return;\n",
              "\n",
              "          const docLinkHtml = 'Like what you see? Visit the ' +\n",
              "            '<a target=\"_blank\" href=https://colab.research.google.com/notebooks/data_table.ipynb>data table notebook</a>'\n",
              "            + ' to learn more about interactive tables.';\n",
              "          element.innerHTML = '';\n",
              "          dataTable['output_type'] = 'display_data';\n",
              "          await google.colab.output.renderOutput(dataTable, element);\n",
              "          const docLink = document.createElement('div');\n",
              "          docLink.innerHTML = docLinkHtml;\n",
              "          element.appendChild(docLink);\n",
              "        }\n",
              "      </script>\n",
              "    </div>\n",
              "  </div>\n",
              "  "
            ]
          },
          "metadata": {},
          "execution_count": 482
        }
      ]
    },
    {
      "cell_type": "markdown",
      "source": [
        "Feature 2"
      ],
      "metadata": {
        "id": "9iNjtdUuLUwx"
      },
      "id": "9iNjtdUuLUwx"
    },
    {
      "cell_type": "code",
      "source": [
        "employee_df.loc[employee_df['Age'] < 26, 'Generation'] = 'Gen Z'\n",
        "employee_df.loc[(employee_df.Age > 25) & (employee_df.Age < 42), 'Generation'] = 'Millenial'\n",
        "employee_df.loc[(employee_df.Age > 42) & (employee_df.Age < 58), 'Generation'] = 'Gen X'\n",
        "employee_df.loc[(employee_df.Age > 42) & (employee_df.Age > 57), 'Generation'] = 'Boomer'\n",
        "\n",
        "employee_df.head()"
      ],
      "metadata": {
        "colab": {
          "base_uri": "https://localhost:8080/",
          "height": 369
        },
        "id": "3_Hl1vmdLXrN",
        "outputId": "cfb00606-9fae-4ea2-898e-ba47f0fc8f1f"
      },
      "id": "3_Hl1vmdLXrN",
      "execution_count": null,
      "outputs": [
        {
          "output_type": "execute_result",
          "data": {
            "text/plain": [
              "   Age Attrition     BusinessTravel  DailyRate              Department  \\\n",
              "0   41       Yes      Travel_Rarely       1102                   Sales   \n",
              "1   49        No  Travel_Frequently        279  Research & Development   \n",
              "2   37       Yes      Travel_Rarely       1373  Research & Development   \n",
              "3   33        No  Travel_Frequently       1392  Research & Development   \n",
              "4   27        No      Travel_Rarely        591  Research & Development   \n",
              "\n",
              "   DistanceFromHome  Education EducationField  EmployeeCount  EmployeeNumber  \\\n",
              "0                 1          2  Life Sciences              1               1   \n",
              "1                 8          1  Life Sciences              1               2   \n",
              "2                 2          2          Other              1               4   \n",
              "3                 3          4  Life Sciences              1               5   \n",
              "4                 2          1        Medical              1               7   \n",
              "\n",
              "   ...  StockOptionLevel TotalWorkingYears  TrainingTimesLastYear  \\\n",
              "0  ...                 0                 8                      0   \n",
              "1  ...                 1                10                      3   \n",
              "2  ...                 0                 7                      3   \n",
              "3  ...                 0                 8                      3   \n",
              "4  ...                 1                 6                      3   \n",
              "\n",
              "   WorkLifeBalance  YearsAtCompany YearsInCurrentRole  \\\n",
              "0                1               6                  4   \n",
              "1                3              10                  7   \n",
              "2                3               0                  0   \n",
              "3                3               8                  7   \n",
              "4                3               2                  2   \n",
              "\n",
              "   YearsSinceLastPromotion YearsWithCurrManager   CollegeDegree  Generation  \n",
              "0                        0                    5       No Degree   Millenial  \n",
              "1                        1                    7       No Degree       Gen X  \n",
              "2                        0                    0       No Degree   Millenial  \n",
              "3                        3                    0  College Degree   Millenial  \n",
              "4                        2                    2       No Degree   Millenial  \n",
              "\n",
              "[5 rows x 37 columns]"
            ],
            "text/html": [
              "\n",
              "  <div id=\"df-fcfca785-16dd-4ea2-af20-29132bbf0243\">\n",
              "    <div class=\"colab-df-container\">\n",
              "      <div>\n",
              "<style scoped>\n",
              "    .dataframe tbody tr th:only-of-type {\n",
              "        vertical-align: middle;\n",
              "    }\n",
              "\n",
              "    .dataframe tbody tr th {\n",
              "        vertical-align: top;\n",
              "    }\n",
              "\n",
              "    .dataframe thead th {\n",
              "        text-align: right;\n",
              "    }\n",
              "</style>\n",
              "<table border=\"1\" class=\"dataframe\">\n",
              "  <thead>\n",
              "    <tr style=\"text-align: right;\">\n",
              "      <th></th>\n",
              "      <th>Age</th>\n",
              "      <th>Attrition</th>\n",
              "      <th>BusinessTravel</th>\n",
              "      <th>DailyRate</th>\n",
              "      <th>Department</th>\n",
              "      <th>DistanceFromHome</th>\n",
              "      <th>Education</th>\n",
              "      <th>EducationField</th>\n",
              "      <th>EmployeeCount</th>\n",
              "      <th>EmployeeNumber</th>\n",
              "      <th>...</th>\n",
              "      <th>StockOptionLevel</th>\n",
              "      <th>TotalWorkingYears</th>\n",
              "      <th>TrainingTimesLastYear</th>\n",
              "      <th>WorkLifeBalance</th>\n",
              "      <th>YearsAtCompany</th>\n",
              "      <th>YearsInCurrentRole</th>\n",
              "      <th>YearsSinceLastPromotion</th>\n",
              "      <th>YearsWithCurrManager</th>\n",
              "      <th>CollegeDegree</th>\n",
              "      <th>Generation</th>\n",
              "    </tr>\n",
              "  </thead>\n",
              "  <tbody>\n",
              "    <tr>\n",
              "      <th>0</th>\n",
              "      <td>41</td>\n",
              "      <td>Yes</td>\n",
              "      <td>Travel_Rarely</td>\n",
              "      <td>1102</td>\n",
              "      <td>Sales</td>\n",
              "      <td>1</td>\n",
              "      <td>2</td>\n",
              "      <td>Life Sciences</td>\n",
              "      <td>1</td>\n",
              "      <td>1</td>\n",
              "      <td>...</td>\n",
              "      <td>0</td>\n",
              "      <td>8</td>\n",
              "      <td>0</td>\n",
              "      <td>1</td>\n",
              "      <td>6</td>\n",
              "      <td>4</td>\n",
              "      <td>0</td>\n",
              "      <td>5</td>\n",
              "      <td>No Degree</td>\n",
              "      <td>Millenial</td>\n",
              "    </tr>\n",
              "    <tr>\n",
              "      <th>1</th>\n",
              "      <td>49</td>\n",
              "      <td>No</td>\n",
              "      <td>Travel_Frequently</td>\n",
              "      <td>279</td>\n",
              "      <td>Research &amp; Development</td>\n",
              "      <td>8</td>\n",
              "      <td>1</td>\n",
              "      <td>Life Sciences</td>\n",
              "      <td>1</td>\n",
              "      <td>2</td>\n",
              "      <td>...</td>\n",
              "      <td>1</td>\n",
              "      <td>10</td>\n",
              "      <td>3</td>\n",
              "      <td>3</td>\n",
              "      <td>10</td>\n",
              "      <td>7</td>\n",
              "      <td>1</td>\n",
              "      <td>7</td>\n",
              "      <td>No Degree</td>\n",
              "      <td>Gen X</td>\n",
              "    </tr>\n",
              "    <tr>\n",
              "      <th>2</th>\n",
              "      <td>37</td>\n",
              "      <td>Yes</td>\n",
              "      <td>Travel_Rarely</td>\n",
              "      <td>1373</td>\n",
              "      <td>Research &amp; Development</td>\n",
              "      <td>2</td>\n",
              "      <td>2</td>\n",
              "      <td>Other</td>\n",
              "      <td>1</td>\n",
              "      <td>4</td>\n",
              "      <td>...</td>\n",
              "      <td>0</td>\n",
              "      <td>7</td>\n",
              "      <td>3</td>\n",
              "      <td>3</td>\n",
              "      <td>0</td>\n",
              "      <td>0</td>\n",
              "      <td>0</td>\n",
              "      <td>0</td>\n",
              "      <td>No Degree</td>\n",
              "      <td>Millenial</td>\n",
              "    </tr>\n",
              "    <tr>\n",
              "      <th>3</th>\n",
              "      <td>33</td>\n",
              "      <td>No</td>\n",
              "      <td>Travel_Frequently</td>\n",
              "      <td>1392</td>\n",
              "      <td>Research &amp; Development</td>\n",
              "      <td>3</td>\n",
              "      <td>4</td>\n",
              "      <td>Life Sciences</td>\n",
              "      <td>1</td>\n",
              "      <td>5</td>\n",
              "      <td>...</td>\n",
              "      <td>0</td>\n",
              "      <td>8</td>\n",
              "      <td>3</td>\n",
              "      <td>3</td>\n",
              "      <td>8</td>\n",
              "      <td>7</td>\n",
              "      <td>3</td>\n",
              "      <td>0</td>\n",
              "      <td>College Degree</td>\n",
              "      <td>Millenial</td>\n",
              "    </tr>\n",
              "    <tr>\n",
              "      <th>4</th>\n",
              "      <td>27</td>\n",
              "      <td>No</td>\n",
              "      <td>Travel_Rarely</td>\n",
              "      <td>591</td>\n",
              "      <td>Research &amp; Development</td>\n",
              "      <td>2</td>\n",
              "      <td>1</td>\n",
              "      <td>Medical</td>\n",
              "      <td>1</td>\n",
              "      <td>7</td>\n",
              "      <td>...</td>\n",
              "      <td>1</td>\n",
              "      <td>6</td>\n",
              "      <td>3</td>\n",
              "      <td>3</td>\n",
              "      <td>2</td>\n",
              "      <td>2</td>\n",
              "      <td>2</td>\n",
              "      <td>2</td>\n",
              "      <td>No Degree</td>\n",
              "      <td>Millenial</td>\n",
              "    </tr>\n",
              "  </tbody>\n",
              "</table>\n",
              "<p>5 rows × 37 columns</p>\n",
              "</div>\n",
              "      <button class=\"colab-df-convert\" onclick=\"convertToInteractive('df-fcfca785-16dd-4ea2-af20-29132bbf0243')\"\n",
              "              title=\"Convert this dataframe to an interactive table.\"\n",
              "              style=\"display:none;\">\n",
              "        \n",
              "  <svg xmlns=\"http://www.w3.org/2000/svg\" height=\"24px\"viewBox=\"0 0 24 24\"\n",
              "       width=\"24px\">\n",
              "    <path d=\"M0 0h24v24H0V0z\" fill=\"none\"/>\n",
              "    <path d=\"M18.56 5.44l.94 2.06.94-2.06 2.06-.94-2.06-.94-.94-2.06-.94 2.06-2.06.94zm-11 1L8.5 8.5l.94-2.06 2.06-.94-2.06-.94L8.5 2.5l-.94 2.06-2.06.94zm10 10l.94 2.06.94-2.06 2.06-.94-2.06-.94-.94-2.06-.94 2.06-2.06.94z\"/><path d=\"M17.41 7.96l-1.37-1.37c-.4-.4-.92-.59-1.43-.59-.52 0-1.04.2-1.43.59L10.3 9.45l-7.72 7.72c-.78.78-.78 2.05 0 2.83L4 21.41c.39.39.9.59 1.41.59.51 0 1.02-.2 1.41-.59l7.78-7.78 2.81-2.81c.8-.78.8-2.07 0-2.86zM5.41 20L4 18.59l7.72-7.72 1.47 1.35L5.41 20z\"/>\n",
              "  </svg>\n",
              "      </button>\n",
              "      \n",
              "  <style>\n",
              "    .colab-df-container {\n",
              "      display:flex;\n",
              "      flex-wrap:wrap;\n",
              "      gap: 12px;\n",
              "    }\n",
              "\n",
              "    .colab-df-convert {\n",
              "      background-color: #E8F0FE;\n",
              "      border: none;\n",
              "      border-radius: 50%;\n",
              "      cursor: pointer;\n",
              "      display: none;\n",
              "      fill: #1967D2;\n",
              "      height: 32px;\n",
              "      padding: 0 0 0 0;\n",
              "      width: 32px;\n",
              "    }\n",
              "\n",
              "    .colab-df-convert:hover {\n",
              "      background-color: #E2EBFA;\n",
              "      box-shadow: 0px 1px 2px rgba(60, 64, 67, 0.3), 0px 1px 3px 1px rgba(60, 64, 67, 0.15);\n",
              "      fill: #174EA6;\n",
              "    }\n",
              "\n",
              "    [theme=dark] .colab-df-convert {\n",
              "      background-color: #3B4455;\n",
              "      fill: #D2E3FC;\n",
              "    }\n",
              "\n",
              "    [theme=dark] .colab-df-convert:hover {\n",
              "      background-color: #434B5C;\n",
              "      box-shadow: 0px 1px 3px 1px rgba(0, 0, 0, 0.15);\n",
              "      filter: drop-shadow(0px 1px 2px rgba(0, 0, 0, 0.3));\n",
              "      fill: #FFFFFF;\n",
              "    }\n",
              "  </style>\n",
              "\n",
              "      <script>\n",
              "        const buttonEl =\n",
              "          document.querySelector('#df-fcfca785-16dd-4ea2-af20-29132bbf0243 button.colab-df-convert');\n",
              "        buttonEl.style.display =\n",
              "          google.colab.kernel.accessAllowed ? 'block' : 'none';\n",
              "\n",
              "        async function convertToInteractive(key) {\n",
              "          const element = document.querySelector('#df-fcfca785-16dd-4ea2-af20-29132bbf0243');\n",
              "          const dataTable =\n",
              "            await google.colab.kernel.invokeFunction('convertToInteractive',\n",
              "                                                     [key], {});\n",
              "          if (!dataTable) return;\n",
              "\n",
              "          const docLinkHtml = 'Like what you see? Visit the ' +\n",
              "            '<a target=\"_blank\" href=https://colab.research.google.com/notebooks/data_table.ipynb>data table notebook</a>'\n",
              "            + ' to learn more about interactive tables.';\n",
              "          element.innerHTML = '';\n",
              "          dataTable['output_type'] = 'display_data';\n",
              "          await google.colab.output.renderOutput(dataTable, element);\n",
              "          const docLink = document.createElement('div');\n",
              "          docLink.innerHTML = docLinkHtml;\n",
              "          element.appendChild(docLink);\n",
              "        }\n",
              "      </script>\n",
              "    </div>\n",
              "  </div>\n",
              "  "
            ]
          },
          "metadata": {},
          "execution_count": 483
        }
      ]
    },
    {
      "cell_type": "code",
      "execution_count": null,
      "id": "02c5bb25-8c26-47b0-b53c-f352babdb717",
      "metadata": {
        "id": "02c5bb25-8c26-47b0-b53c-f352babdb717"
      },
      "outputs": [],
      "source": [
        "class_column = 'Attrition'\n",
        "random_seed = 2435\n",
        "\n",
        "X_train, X_test, y_train, y_test = train_test_split(employee_df.drop(columns=class_column), employee_df[class_column],\n",
        "                                                   test_size=0.25, random_state=random_seed, stratify=employee_df[class_column])"
      ]
    },
    {
      "cell_type": "markdown",
      "id": "9774a06c-3c40-48c0-8834-2570785a918f",
      "metadata": {
        "id": "9774a06c-3c40-48c0-8834-2570785a918f"
      },
      "source": [
        "Quick sanity check to make sure that everything seems correct:"
      ]
    },
    {
      "cell_type": "code",
      "execution_count": null,
      "id": "2c32bbd1-5392-4281-a1a4-a38ed6dd6390",
      "metadata": {
        "id": "2c32bbd1-5392-4281-a1a4-a38ed6dd6390",
        "colab": {
          "base_uri": "https://localhost:8080/",
          "height": 746
        },
        "outputId": "f153b44b-8982-4ba4-9ca6-12947fc58a1e"
      },
      "outputs": [
        {
          "output_type": "stream",
          "name": "stdout",
          "text": [
            "On X train: \n",
            "X train dimensions:  (1102, 36)\n"
          ]
        },
        {
          "output_type": "display_data",
          "data": {
            "text/plain": [
              "      Age     BusinessTravel  DailyRate              Department  \\\n",
              "1331   48      Travel_Rarely       1224  Research & Development   \n",
              "485    27      Travel_Rarely        798  Research & Development   \n",
              "1368   34  Travel_Frequently        735  Research & Development   \n",
              "579    34      Travel_Rarely        121  Research & Development   \n",
              "142    38      Travel_Rarely        364  Research & Development   \n",
              "\n",
              "      DistanceFromHome  Education    EducationField  EmployeeCount  \\\n",
              "1331                10          3     Life Sciences              1   \n",
              "485                  6          4           Medical              1   \n",
              "1368                22          4             Other              1   \n",
              "579                  2          4           Medical              1   \n",
              "142                  3          5  Technical Degree              1   \n",
              "\n",
              "      EmployeeNumber  EnvironmentSatisfaction  ... StockOptionLevel  \\\n",
              "1331            1867                        4  ...                0   \n",
              "485              655                        1  ...                2   \n",
              "1368            1932                        3  ...                0   \n",
              "579              804                        3  ...                0   \n",
              "142              193                        4  ...                0   \n",
              "\n",
              "      TotalWorkingYears  TrainingTimesLastYear  WorkLifeBalance  \\\n",
              "1331                 29                      3                3   \n",
              "485                   6                      5                2   \n",
              "1368                 16                      3                3   \n",
              "579                   6                      3                3   \n",
              "142                  19                      2                3   \n",
              "\n",
              "     YearsAtCompany  YearsInCurrentRole YearsSinceLastPromotion  \\\n",
              "1331             22                  10                      12   \n",
              "485               5                   3                       0   \n",
              "1368             15                  10                       6   \n",
              "579               6                   5                       1   \n",
              "142               3                   2                       2   \n",
              "\n",
              "      YearsWithCurrManager   CollegeDegree  Generation  \n",
              "1331                     9  College Degree       Gen X  \n",
              "485                      3  College Degree   Millenial  \n",
              "1368                    11  College Degree   Millenial  \n",
              "579                      3  College Degree   Millenial  \n",
              "142                      2  College Degree   Millenial  \n",
              "\n",
              "[5 rows x 36 columns]"
            ],
            "text/html": [
              "\n",
              "  <div id=\"df-6509d60c-37f1-48ce-9be3-adfff3d53506\">\n",
              "    <div class=\"colab-df-container\">\n",
              "      <div>\n",
              "<style scoped>\n",
              "    .dataframe tbody tr th:only-of-type {\n",
              "        vertical-align: middle;\n",
              "    }\n",
              "\n",
              "    .dataframe tbody tr th {\n",
              "        vertical-align: top;\n",
              "    }\n",
              "\n",
              "    .dataframe thead th {\n",
              "        text-align: right;\n",
              "    }\n",
              "</style>\n",
              "<table border=\"1\" class=\"dataframe\">\n",
              "  <thead>\n",
              "    <tr style=\"text-align: right;\">\n",
              "      <th></th>\n",
              "      <th>Age</th>\n",
              "      <th>BusinessTravel</th>\n",
              "      <th>DailyRate</th>\n",
              "      <th>Department</th>\n",
              "      <th>DistanceFromHome</th>\n",
              "      <th>Education</th>\n",
              "      <th>EducationField</th>\n",
              "      <th>EmployeeCount</th>\n",
              "      <th>EmployeeNumber</th>\n",
              "      <th>EnvironmentSatisfaction</th>\n",
              "      <th>...</th>\n",
              "      <th>StockOptionLevel</th>\n",
              "      <th>TotalWorkingYears</th>\n",
              "      <th>TrainingTimesLastYear</th>\n",
              "      <th>WorkLifeBalance</th>\n",
              "      <th>YearsAtCompany</th>\n",
              "      <th>YearsInCurrentRole</th>\n",
              "      <th>YearsSinceLastPromotion</th>\n",
              "      <th>YearsWithCurrManager</th>\n",
              "      <th>CollegeDegree</th>\n",
              "      <th>Generation</th>\n",
              "    </tr>\n",
              "  </thead>\n",
              "  <tbody>\n",
              "    <tr>\n",
              "      <th>1331</th>\n",
              "      <td>48</td>\n",
              "      <td>Travel_Rarely</td>\n",
              "      <td>1224</td>\n",
              "      <td>Research &amp; Development</td>\n",
              "      <td>10</td>\n",
              "      <td>3</td>\n",
              "      <td>Life Sciences</td>\n",
              "      <td>1</td>\n",
              "      <td>1867</td>\n",
              "      <td>4</td>\n",
              "      <td>...</td>\n",
              "      <td>0</td>\n",
              "      <td>29</td>\n",
              "      <td>3</td>\n",
              "      <td>3</td>\n",
              "      <td>22</td>\n",
              "      <td>10</td>\n",
              "      <td>12</td>\n",
              "      <td>9</td>\n",
              "      <td>College Degree</td>\n",
              "      <td>Gen X</td>\n",
              "    </tr>\n",
              "    <tr>\n",
              "      <th>485</th>\n",
              "      <td>27</td>\n",
              "      <td>Travel_Rarely</td>\n",
              "      <td>798</td>\n",
              "      <td>Research &amp; Development</td>\n",
              "      <td>6</td>\n",
              "      <td>4</td>\n",
              "      <td>Medical</td>\n",
              "      <td>1</td>\n",
              "      <td>655</td>\n",
              "      <td>1</td>\n",
              "      <td>...</td>\n",
              "      <td>2</td>\n",
              "      <td>6</td>\n",
              "      <td>5</td>\n",
              "      <td>2</td>\n",
              "      <td>5</td>\n",
              "      <td>3</td>\n",
              "      <td>0</td>\n",
              "      <td>3</td>\n",
              "      <td>College Degree</td>\n",
              "      <td>Millenial</td>\n",
              "    </tr>\n",
              "    <tr>\n",
              "      <th>1368</th>\n",
              "      <td>34</td>\n",
              "      <td>Travel_Frequently</td>\n",
              "      <td>735</td>\n",
              "      <td>Research &amp; Development</td>\n",
              "      <td>22</td>\n",
              "      <td>4</td>\n",
              "      <td>Other</td>\n",
              "      <td>1</td>\n",
              "      <td>1932</td>\n",
              "      <td>3</td>\n",
              "      <td>...</td>\n",
              "      <td>0</td>\n",
              "      <td>16</td>\n",
              "      <td>3</td>\n",
              "      <td>3</td>\n",
              "      <td>15</td>\n",
              "      <td>10</td>\n",
              "      <td>6</td>\n",
              "      <td>11</td>\n",
              "      <td>College Degree</td>\n",
              "      <td>Millenial</td>\n",
              "    </tr>\n",
              "    <tr>\n",
              "      <th>579</th>\n",
              "      <td>34</td>\n",
              "      <td>Travel_Rarely</td>\n",
              "      <td>121</td>\n",
              "      <td>Research &amp; Development</td>\n",
              "      <td>2</td>\n",
              "      <td>4</td>\n",
              "      <td>Medical</td>\n",
              "      <td>1</td>\n",
              "      <td>804</td>\n",
              "      <td>3</td>\n",
              "      <td>...</td>\n",
              "      <td>0</td>\n",
              "      <td>6</td>\n",
              "      <td>3</td>\n",
              "      <td>3</td>\n",
              "      <td>6</td>\n",
              "      <td>5</td>\n",
              "      <td>1</td>\n",
              "      <td>3</td>\n",
              "      <td>College Degree</td>\n",
              "      <td>Millenial</td>\n",
              "    </tr>\n",
              "    <tr>\n",
              "      <th>142</th>\n",
              "      <td>38</td>\n",
              "      <td>Travel_Rarely</td>\n",
              "      <td>364</td>\n",
              "      <td>Research &amp; Development</td>\n",
              "      <td>3</td>\n",
              "      <td>5</td>\n",
              "      <td>Technical Degree</td>\n",
              "      <td>1</td>\n",
              "      <td>193</td>\n",
              "      <td>4</td>\n",
              "      <td>...</td>\n",
              "      <td>0</td>\n",
              "      <td>19</td>\n",
              "      <td>2</td>\n",
              "      <td>3</td>\n",
              "      <td>3</td>\n",
              "      <td>2</td>\n",
              "      <td>2</td>\n",
              "      <td>2</td>\n",
              "      <td>College Degree</td>\n",
              "      <td>Millenial</td>\n",
              "    </tr>\n",
              "  </tbody>\n",
              "</table>\n",
              "<p>5 rows × 36 columns</p>\n",
              "</div>\n",
              "      <button class=\"colab-df-convert\" onclick=\"convertToInteractive('df-6509d60c-37f1-48ce-9be3-adfff3d53506')\"\n",
              "              title=\"Convert this dataframe to an interactive table.\"\n",
              "              style=\"display:none;\">\n",
              "        \n",
              "  <svg xmlns=\"http://www.w3.org/2000/svg\" height=\"24px\"viewBox=\"0 0 24 24\"\n",
              "       width=\"24px\">\n",
              "    <path d=\"M0 0h24v24H0V0z\" fill=\"none\"/>\n",
              "    <path d=\"M18.56 5.44l.94 2.06.94-2.06 2.06-.94-2.06-.94-.94-2.06-.94 2.06-2.06.94zm-11 1L8.5 8.5l.94-2.06 2.06-.94-2.06-.94L8.5 2.5l-.94 2.06-2.06.94zm10 10l.94 2.06.94-2.06 2.06-.94-2.06-.94-.94-2.06-.94 2.06-2.06.94z\"/><path d=\"M17.41 7.96l-1.37-1.37c-.4-.4-.92-.59-1.43-.59-.52 0-1.04.2-1.43.59L10.3 9.45l-7.72 7.72c-.78.78-.78 2.05 0 2.83L4 21.41c.39.39.9.59 1.41.59.51 0 1.02-.2 1.41-.59l7.78-7.78 2.81-2.81c.8-.78.8-2.07 0-2.86zM5.41 20L4 18.59l7.72-7.72 1.47 1.35L5.41 20z\"/>\n",
              "  </svg>\n",
              "      </button>\n",
              "      \n",
              "  <style>\n",
              "    .colab-df-container {\n",
              "      display:flex;\n",
              "      flex-wrap:wrap;\n",
              "      gap: 12px;\n",
              "    }\n",
              "\n",
              "    .colab-df-convert {\n",
              "      background-color: #E8F0FE;\n",
              "      border: none;\n",
              "      border-radius: 50%;\n",
              "      cursor: pointer;\n",
              "      display: none;\n",
              "      fill: #1967D2;\n",
              "      height: 32px;\n",
              "      padding: 0 0 0 0;\n",
              "      width: 32px;\n",
              "    }\n",
              "\n",
              "    .colab-df-convert:hover {\n",
              "      background-color: #E2EBFA;\n",
              "      box-shadow: 0px 1px 2px rgba(60, 64, 67, 0.3), 0px 1px 3px 1px rgba(60, 64, 67, 0.15);\n",
              "      fill: #174EA6;\n",
              "    }\n",
              "\n",
              "    [theme=dark] .colab-df-convert {\n",
              "      background-color: #3B4455;\n",
              "      fill: #D2E3FC;\n",
              "    }\n",
              "\n",
              "    [theme=dark] .colab-df-convert:hover {\n",
              "      background-color: #434B5C;\n",
              "      box-shadow: 0px 1px 3px 1px rgba(0, 0, 0, 0.15);\n",
              "      filter: drop-shadow(0px 1px 2px rgba(0, 0, 0, 0.3));\n",
              "      fill: #FFFFFF;\n",
              "    }\n",
              "  </style>\n",
              "\n",
              "      <script>\n",
              "        const buttonEl =\n",
              "          document.querySelector('#df-6509d60c-37f1-48ce-9be3-adfff3d53506 button.colab-df-convert');\n",
              "        buttonEl.style.display =\n",
              "          google.colab.kernel.accessAllowed ? 'block' : 'none';\n",
              "\n",
              "        async function convertToInteractive(key) {\n",
              "          const element = document.querySelector('#df-6509d60c-37f1-48ce-9be3-adfff3d53506');\n",
              "          const dataTable =\n",
              "            await google.colab.kernel.invokeFunction('convertToInteractive',\n",
              "                                                     [key], {});\n",
              "          if (!dataTable) return;\n",
              "\n",
              "          const docLinkHtml = 'Like what you see? Visit the ' +\n",
              "            '<a target=\"_blank\" href=https://colab.research.google.com/notebooks/data_table.ipynb>data table notebook</a>'\n",
              "            + ' to learn more about interactive tables.';\n",
              "          element.innerHTML = '';\n",
              "          dataTable['output_type'] = 'display_data';\n",
              "          await google.colab.output.renderOutput(dataTable, element);\n",
              "          const docLink = document.createElement('div');\n",
              "          docLink.innerHTML = docLinkHtml;\n",
              "          element.appendChild(docLink);\n",
              "        }\n",
              "      </script>\n",
              "    </div>\n",
              "  </div>\n",
              "  "
            ]
          },
          "metadata": {}
        },
        {
          "output_type": "stream",
          "name": "stdout",
          "text": [
            "\n",
            "On X test: \n",
            "X test dimensions:  (368, 36)\n"
          ]
        },
        {
          "output_type": "display_data",
          "data": {
            "text/plain": [
              "      Age     BusinessTravel  DailyRate              Department  \\\n",
              "129    49      Travel_Rarely        470  Research & Development   \n",
              "1120   38      Travel_Rarely        437                   Sales   \n",
              "3      33  Travel_Frequently       1392  Research & Development   \n",
              "965    25      Travel_Rarely        882  Research & Development   \n",
              "94     32      Travel_Rarely       1093                   Sales   \n",
              "\n",
              "      DistanceFromHome  Education EducationField  EmployeeCount  \\\n",
              "129                 20          4        Medical              1   \n",
              "1120                16          3  Life Sciences              1   \n",
              "3                    3          4  Life Sciences              1   \n",
              "965                 19          1        Medical              1   \n",
              "94                   6          4        Medical              1   \n",
              "\n",
              "      EmployeeNumber  EnvironmentSatisfaction  ... StockOptionLevel  \\\n",
              "129              170                        3  ...                0   \n",
              "1120            1583                        2  ...                0   \n",
              "3                  5                        4  ...                0   \n",
              "965             1358                        4  ...                3   \n",
              "94               125                        2  ...                0   \n",
              "\n",
              "      TotalWorkingYears  TrainingTimesLastYear  WorkLifeBalance  \\\n",
              "129                  16                      2                2   \n",
              "1120                  8                      5                4   \n",
              "3                     8                      3                3   \n",
              "965                   7                      6                2   \n",
              "94                   12                      0                3   \n",
              "\n",
              "     YearsAtCompany  YearsInCurrentRole YearsSinceLastPromotion  \\\n",
              "129              15                  11                       5   \n",
              "1120              3                   2                       1   \n",
              "3                 8                   7                       3   \n",
              "965               3                   2                       1   \n",
              "94               11                   8                       5   \n",
              "\n",
              "      YearsWithCurrManager   CollegeDegree  Generation  \n",
              "129                     11  College Degree       Gen X  \n",
              "1120                     2  College Degree   Millenial  \n",
              "3                        0  College Degree   Millenial  \n",
              "965                      2       No Degree       Gen Z  \n",
              "94                       7  College Degree   Millenial  \n",
              "\n",
              "[5 rows x 36 columns]"
            ],
            "text/html": [
              "\n",
              "  <div id=\"df-c7aafed8-e431-4d73-a06c-7679783c58ea\">\n",
              "    <div class=\"colab-df-container\">\n",
              "      <div>\n",
              "<style scoped>\n",
              "    .dataframe tbody tr th:only-of-type {\n",
              "        vertical-align: middle;\n",
              "    }\n",
              "\n",
              "    .dataframe tbody tr th {\n",
              "        vertical-align: top;\n",
              "    }\n",
              "\n",
              "    .dataframe thead th {\n",
              "        text-align: right;\n",
              "    }\n",
              "</style>\n",
              "<table border=\"1\" class=\"dataframe\">\n",
              "  <thead>\n",
              "    <tr style=\"text-align: right;\">\n",
              "      <th></th>\n",
              "      <th>Age</th>\n",
              "      <th>BusinessTravel</th>\n",
              "      <th>DailyRate</th>\n",
              "      <th>Department</th>\n",
              "      <th>DistanceFromHome</th>\n",
              "      <th>Education</th>\n",
              "      <th>EducationField</th>\n",
              "      <th>EmployeeCount</th>\n",
              "      <th>EmployeeNumber</th>\n",
              "      <th>EnvironmentSatisfaction</th>\n",
              "      <th>...</th>\n",
              "      <th>StockOptionLevel</th>\n",
              "      <th>TotalWorkingYears</th>\n",
              "      <th>TrainingTimesLastYear</th>\n",
              "      <th>WorkLifeBalance</th>\n",
              "      <th>YearsAtCompany</th>\n",
              "      <th>YearsInCurrentRole</th>\n",
              "      <th>YearsSinceLastPromotion</th>\n",
              "      <th>YearsWithCurrManager</th>\n",
              "      <th>CollegeDegree</th>\n",
              "      <th>Generation</th>\n",
              "    </tr>\n",
              "  </thead>\n",
              "  <tbody>\n",
              "    <tr>\n",
              "      <th>129</th>\n",
              "      <td>49</td>\n",
              "      <td>Travel_Rarely</td>\n",
              "      <td>470</td>\n",
              "      <td>Research &amp; Development</td>\n",
              "      <td>20</td>\n",
              "      <td>4</td>\n",
              "      <td>Medical</td>\n",
              "      <td>1</td>\n",
              "      <td>170</td>\n",
              "      <td>3</td>\n",
              "      <td>...</td>\n",
              "      <td>0</td>\n",
              "      <td>16</td>\n",
              "      <td>2</td>\n",
              "      <td>2</td>\n",
              "      <td>15</td>\n",
              "      <td>11</td>\n",
              "      <td>5</td>\n",
              "      <td>11</td>\n",
              "      <td>College Degree</td>\n",
              "      <td>Gen X</td>\n",
              "    </tr>\n",
              "    <tr>\n",
              "      <th>1120</th>\n",
              "      <td>38</td>\n",
              "      <td>Travel_Rarely</td>\n",
              "      <td>437</td>\n",
              "      <td>Sales</td>\n",
              "      <td>16</td>\n",
              "      <td>3</td>\n",
              "      <td>Life Sciences</td>\n",
              "      <td>1</td>\n",
              "      <td>1583</td>\n",
              "      <td>2</td>\n",
              "      <td>...</td>\n",
              "      <td>0</td>\n",
              "      <td>8</td>\n",
              "      <td>5</td>\n",
              "      <td>4</td>\n",
              "      <td>3</td>\n",
              "      <td>2</td>\n",
              "      <td>1</td>\n",
              "      <td>2</td>\n",
              "      <td>College Degree</td>\n",
              "      <td>Millenial</td>\n",
              "    </tr>\n",
              "    <tr>\n",
              "      <th>3</th>\n",
              "      <td>33</td>\n",
              "      <td>Travel_Frequently</td>\n",
              "      <td>1392</td>\n",
              "      <td>Research &amp; Development</td>\n",
              "      <td>3</td>\n",
              "      <td>4</td>\n",
              "      <td>Life Sciences</td>\n",
              "      <td>1</td>\n",
              "      <td>5</td>\n",
              "      <td>4</td>\n",
              "      <td>...</td>\n",
              "      <td>0</td>\n",
              "      <td>8</td>\n",
              "      <td>3</td>\n",
              "      <td>3</td>\n",
              "      <td>8</td>\n",
              "      <td>7</td>\n",
              "      <td>3</td>\n",
              "      <td>0</td>\n",
              "      <td>College Degree</td>\n",
              "      <td>Millenial</td>\n",
              "    </tr>\n",
              "    <tr>\n",
              "      <th>965</th>\n",
              "      <td>25</td>\n",
              "      <td>Travel_Rarely</td>\n",
              "      <td>882</td>\n",
              "      <td>Research &amp; Development</td>\n",
              "      <td>19</td>\n",
              "      <td>1</td>\n",
              "      <td>Medical</td>\n",
              "      <td>1</td>\n",
              "      <td>1358</td>\n",
              "      <td>4</td>\n",
              "      <td>...</td>\n",
              "      <td>3</td>\n",
              "      <td>7</td>\n",
              "      <td>6</td>\n",
              "      <td>2</td>\n",
              "      <td>3</td>\n",
              "      <td>2</td>\n",
              "      <td>1</td>\n",
              "      <td>2</td>\n",
              "      <td>No Degree</td>\n",
              "      <td>Gen Z</td>\n",
              "    </tr>\n",
              "    <tr>\n",
              "      <th>94</th>\n",
              "      <td>32</td>\n",
              "      <td>Travel_Rarely</td>\n",
              "      <td>1093</td>\n",
              "      <td>Sales</td>\n",
              "      <td>6</td>\n",
              "      <td>4</td>\n",
              "      <td>Medical</td>\n",
              "      <td>1</td>\n",
              "      <td>125</td>\n",
              "      <td>2</td>\n",
              "      <td>...</td>\n",
              "      <td>0</td>\n",
              "      <td>12</td>\n",
              "      <td>0</td>\n",
              "      <td>3</td>\n",
              "      <td>11</td>\n",
              "      <td>8</td>\n",
              "      <td>5</td>\n",
              "      <td>7</td>\n",
              "      <td>College Degree</td>\n",
              "      <td>Millenial</td>\n",
              "    </tr>\n",
              "  </tbody>\n",
              "</table>\n",
              "<p>5 rows × 36 columns</p>\n",
              "</div>\n",
              "      <button class=\"colab-df-convert\" onclick=\"convertToInteractive('df-c7aafed8-e431-4d73-a06c-7679783c58ea')\"\n",
              "              title=\"Convert this dataframe to an interactive table.\"\n",
              "              style=\"display:none;\">\n",
              "        \n",
              "  <svg xmlns=\"http://www.w3.org/2000/svg\" height=\"24px\"viewBox=\"0 0 24 24\"\n",
              "       width=\"24px\">\n",
              "    <path d=\"M0 0h24v24H0V0z\" fill=\"none\"/>\n",
              "    <path d=\"M18.56 5.44l.94 2.06.94-2.06 2.06-.94-2.06-.94-.94-2.06-.94 2.06-2.06.94zm-11 1L8.5 8.5l.94-2.06 2.06-.94-2.06-.94L8.5 2.5l-.94 2.06-2.06.94zm10 10l.94 2.06.94-2.06 2.06-.94-2.06-.94-.94-2.06-.94 2.06-2.06.94z\"/><path d=\"M17.41 7.96l-1.37-1.37c-.4-.4-.92-.59-1.43-.59-.52 0-1.04.2-1.43.59L10.3 9.45l-7.72 7.72c-.78.78-.78 2.05 0 2.83L4 21.41c.39.39.9.59 1.41.59.51 0 1.02-.2 1.41-.59l7.78-7.78 2.81-2.81c.8-.78.8-2.07 0-2.86zM5.41 20L4 18.59l7.72-7.72 1.47 1.35L5.41 20z\"/>\n",
              "  </svg>\n",
              "      </button>\n",
              "      \n",
              "  <style>\n",
              "    .colab-df-container {\n",
              "      display:flex;\n",
              "      flex-wrap:wrap;\n",
              "      gap: 12px;\n",
              "    }\n",
              "\n",
              "    .colab-df-convert {\n",
              "      background-color: #E8F0FE;\n",
              "      border: none;\n",
              "      border-radius: 50%;\n",
              "      cursor: pointer;\n",
              "      display: none;\n",
              "      fill: #1967D2;\n",
              "      height: 32px;\n",
              "      padding: 0 0 0 0;\n",
              "      width: 32px;\n",
              "    }\n",
              "\n",
              "    .colab-df-convert:hover {\n",
              "      background-color: #E2EBFA;\n",
              "      box-shadow: 0px 1px 2px rgba(60, 64, 67, 0.3), 0px 1px 3px 1px rgba(60, 64, 67, 0.15);\n",
              "      fill: #174EA6;\n",
              "    }\n",
              "\n",
              "    [theme=dark] .colab-df-convert {\n",
              "      background-color: #3B4455;\n",
              "      fill: #D2E3FC;\n",
              "    }\n",
              "\n",
              "    [theme=dark] .colab-df-convert:hover {\n",
              "      background-color: #434B5C;\n",
              "      box-shadow: 0px 1px 3px 1px rgba(0, 0, 0, 0.15);\n",
              "      filter: drop-shadow(0px 1px 2px rgba(0, 0, 0, 0.3));\n",
              "      fill: #FFFFFF;\n",
              "    }\n",
              "  </style>\n",
              "\n",
              "      <script>\n",
              "        const buttonEl =\n",
              "          document.querySelector('#df-c7aafed8-e431-4d73-a06c-7679783c58ea button.colab-df-convert');\n",
              "        buttonEl.style.display =\n",
              "          google.colab.kernel.accessAllowed ? 'block' : 'none';\n",
              "\n",
              "        async function convertToInteractive(key) {\n",
              "          const element = document.querySelector('#df-c7aafed8-e431-4d73-a06c-7679783c58ea');\n",
              "          const dataTable =\n",
              "            await google.colab.kernel.invokeFunction('convertToInteractive',\n",
              "                                                     [key], {});\n",
              "          if (!dataTable) return;\n",
              "\n",
              "          const docLinkHtml = 'Like what you see? Visit the ' +\n",
              "            '<a target=\"_blank\" href=https://colab.research.google.com/notebooks/data_table.ipynb>data table notebook</a>'\n",
              "            + ' to learn more about interactive tables.';\n",
              "          element.innerHTML = '';\n",
              "          dataTable['output_type'] = 'display_data';\n",
              "          await google.colab.output.renderOutput(dataTable, element);\n",
              "          const docLink = document.createElement('div');\n",
              "          docLink.innerHTML = docLinkHtml;\n",
              "          element.appendChild(docLink);\n",
              "        }\n",
              "      </script>\n",
              "    </div>\n",
              "  </div>\n",
              "  "
            ]
          },
          "metadata": {}
        }
      ],
      "source": [
        "# X Train\n",
        "print('On X train: ')\n",
        "print('X train dimensions: ', X_train.shape)\n",
        "display(X_train.head())\n",
        "\n",
        "# X test\n",
        "print('\\nOn X test: ')\n",
        "print('X test dimensions: ', X_test.shape)\n",
        "display(X_test.head())"
      ]
    },
    {
      "cell_type": "code",
      "execution_count": null,
      "id": "113d1ab3-739a-4e42-8500-92b6332b2475",
      "metadata": {
        "id": "113d1ab3-739a-4e42-8500-92b6332b2475",
        "colab": {
          "base_uri": "https://localhost:8080/",
          "height": 321
        },
        "outputId": "03684965-aaab-4d51-9281-e795ba8a656a"
      },
      "outputs": [
        {
          "output_type": "stream",
          "name": "stdout",
          "text": [
            "On y train: \n",
            "y train dimensions:  (1102,)\n"
          ]
        },
        {
          "output_type": "display_data",
          "data": {
            "text/plain": [
              "1331    No\n",
              "485     No\n",
              "1368    No\n",
              "579     No\n",
              "142     No\n",
              "Name: Attrition, dtype: object"
            ]
          },
          "metadata": {}
        },
        {
          "output_type": "stream",
          "name": "stdout",
          "text": [
            "\n",
            "On y test: \n",
            "y test dimensions:  (368,)\n"
          ]
        },
        {
          "output_type": "display_data",
          "data": {
            "text/plain": [
              "129     No\n",
              "1120    No\n",
              "3       No\n",
              "965     No\n",
              "94      No\n",
              "Name: Attrition, dtype: object"
            ]
          },
          "metadata": {}
        }
      ],
      "source": [
        "# X Train\n",
        "print('On y train: ')\n",
        "print('y train dimensions: ', y_train.shape)\n",
        "display(y_train.head())\n",
        "\n",
        "# X test\n",
        "print('\\nOn y test: ')\n",
        "print('y test dimensions: ', y_test.shape)\n",
        "display(y_test.head())"
      ]
    },
    {
      "cell_type": "markdown",
      "id": "6a76f5d1-05a4-4f81-8608-099b3b20abef",
      "metadata": {
        "id": "6a76f5d1-05a4-4f81-8608-099b3b20abef"
      },
      "source": [
        "## Establish the training pipeline\n",
        "\n",
        "We can now establish the training pipeline for our models. Since this is a process we would need to repeat several times, it's good to essentially functionalize the process so we do not need to re-write redundant code. Here, we can impute some values that were missing, and encode any categorical values. Note that these pipelines will change according to the model and methodology you choose - additionally, the pipelines will also change depending on the data types of the columns in your dataset. "
      ]
    },
    {
      "cell_type": "code",
      "execution_count": null,
      "id": "9ed44830-4039-4564-bde0-2b6661d672c5",
      "metadata": {
        "id": "9ed44830-4039-4564-bde0-2b6661d672c5"
      },
      "outputs": [],
      "source": [
        "# TODO: establish your own pipelines for the different data types\n",
        "cat_pipeline = Pipeline(steps=[('cat_impute', SimpleImputer(strategy='most_frequent')),\n",
        "                               ('onehot_cat', OneHotEncoder())])\n",
        "num_pipeline = Pipeline(steps=[('impute_num', SimpleImputer(strategy='mean')),\n",
        "                               ('scale_num', StandardScaler())])\n",
        "\n"
      ]
    },
    {
      "cell_type": "code",
      "execution_count": null,
      "id": "242c958a-894d-4259-9dfd-387ddf541144",
      "metadata": {
        "id": "242c958a-894d-4259-9dfd-387ddf541144"
      },
      "outputs": [],
      "source": [
        "# TODO: establish your preprocessing pipeline by your feature set\n",
        "preprocess = ColumnTransformer([('cat_pipe', cat_pipeline, make_column_selector(dtype_include=object)),\n",
        "                             ('num_pipe', num_pipeline, make_column_selector(dtype_include=np.number))],\n",
        "                             remainder='passthrough')\n"
      ]
    },
    {
      "cell_type": "markdown",
      "source": [
        "LogisticRegression"
      ],
      "metadata": {
        "id": "G3OrJaCLo1Mk"
      },
      "id": "G3OrJaCLo1Mk"
    },
    {
      "cell_type": "code",
      "source": [
        "# TODO: set up your modeling pipeline\n",
        "pipeLR = Pipeline(steps=[('preproc', preprocess),\n",
        "                       ('mdl', LogisticRegression(penalty='elasticnet', solver='saga', tol=0.01))])\n",
        "\n",
        "\n",
        "# Feel free to uncomment and edit the code below to visualize your overall pipeline\n",
        "with config_context(display='diagram'):\n",
        "    display(pipeLR)\n"
      ],
      "metadata": {
        "id": "b0qkhbrBpGD6",
        "colab": {
          "base_uri": "https://localhost:8080/",
          "height": 227
        },
        "outputId": "12307ec2-8c88-4387-b36f-1c3fa21bc5c2"
      },
      "id": "b0qkhbrBpGD6",
      "execution_count": null,
      "outputs": [
        {
          "output_type": "display_data",
          "data": {
            "text/plain": [
              "Pipeline(steps=[('preproc',\n",
              "                 ColumnTransformer(remainder='passthrough',\n",
              "                                   transformers=[('cat_pipe',\n",
              "                                                  Pipeline(steps=[('cat_impute',\n",
              "                                                                   SimpleImputer(strategy='most_frequent')),\n",
              "                                                                  ('onehot_cat',\n",
              "                                                                   OneHotEncoder())]),\n",
              "                                                  <sklearn.compose._column_transformer.make_column_selector object at 0x7f5563d10550>),\n",
              "                                                 ('num_pipe',\n",
              "                                                  Pipeline(steps=[('impute_num',\n",
              "                                                                   SimpleImputer()),\n",
              "                                                                  ('scale_num',\n",
              "                                                                   StandardScaler())]),\n",
              "                                                  <sklearn.compose._column_transformer.make_column_selector object at 0x7f5563d10310>)])),\n",
              "                ('mdl',\n",
              "                 LogisticRegression(penalty='elasticnet', solver='saga',\n",
              "                                    tol=0.01))])"
            ],
            "text/html": [
              "<style>#sk-bba221cb-b1a8-47b2-afef-da11999acfcd {color: black;background-color: white;}#sk-bba221cb-b1a8-47b2-afef-da11999acfcd pre{padding: 0;}#sk-bba221cb-b1a8-47b2-afef-da11999acfcd div.sk-toggleable {background-color: white;}#sk-bba221cb-b1a8-47b2-afef-da11999acfcd label.sk-toggleable__label {cursor: pointer;display: block;width: 100%;margin-bottom: 0;padding: 0.3em;box-sizing: border-box;text-align: center;}#sk-bba221cb-b1a8-47b2-afef-da11999acfcd label.sk-toggleable__label-arrow:before {content: \"▸\";float: left;margin-right: 0.25em;color: #696969;}#sk-bba221cb-b1a8-47b2-afef-da11999acfcd label.sk-toggleable__label-arrow:hover:before {color: black;}#sk-bba221cb-b1a8-47b2-afef-da11999acfcd div.sk-estimator:hover label.sk-toggleable__label-arrow:before {color: black;}#sk-bba221cb-b1a8-47b2-afef-da11999acfcd div.sk-toggleable__content {max-height: 0;max-width: 0;overflow: hidden;text-align: left;background-color: #f0f8ff;}#sk-bba221cb-b1a8-47b2-afef-da11999acfcd div.sk-toggleable__content pre {margin: 0.2em;color: black;border-radius: 0.25em;background-color: #f0f8ff;}#sk-bba221cb-b1a8-47b2-afef-da11999acfcd input.sk-toggleable__control:checked~div.sk-toggleable__content {max-height: 200px;max-width: 100%;overflow: auto;}#sk-bba221cb-b1a8-47b2-afef-da11999acfcd input.sk-toggleable__control:checked~label.sk-toggleable__label-arrow:before {content: \"▾\";}#sk-bba221cb-b1a8-47b2-afef-da11999acfcd div.sk-estimator input.sk-toggleable__control:checked~label.sk-toggleable__label {background-color: #d4ebff;}#sk-bba221cb-b1a8-47b2-afef-da11999acfcd div.sk-label input.sk-toggleable__control:checked~label.sk-toggleable__label {background-color: #d4ebff;}#sk-bba221cb-b1a8-47b2-afef-da11999acfcd input.sk-hidden--visually {border: 0;clip: rect(1px 1px 1px 1px);clip: rect(1px, 1px, 1px, 1px);height: 1px;margin: -1px;overflow: hidden;padding: 0;position: absolute;width: 1px;}#sk-bba221cb-b1a8-47b2-afef-da11999acfcd div.sk-estimator {font-family: monospace;background-color: #f0f8ff;border: 1px dotted black;border-radius: 0.25em;box-sizing: border-box;margin-bottom: 0.5em;}#sk-bba221cb-b1a8-47b2-afef-da11999acfcd div.sk-estimator:hover {background-color: #d4ebff;}#sk-bba221cb-b1a8-47b2-afef-da11999acfcd div.sk-parallel-item::after {content: \"\";width: 100%;border-bottom: 1px solid gray;flex-grow: 1;}#sk-bba221cb-b1a8-47b2-afef-da11999acfcd div.sk-label:hover label.sk-toggleable__label {background-color: #d4ebff;}#sk-bba221cb-b1a8-47b2-afef-da11999acfcd div.sk-serial::before {content: \"\";position: absolute;border-left: 1px solid gray;box-sizing: border-box;top: 2em;bottom: 0;left: 50%;}#sk-bba221cb-b1a8-47b2-afef-da11999acfcd div.sk-serial {display: flex;flex-direction: column;align-items: center;background-color: white;padding-right: 0.2em;padding-left: 0.2em;}#sk-bba221cb-b1a8-47b2-afef-da11999acfcd div.sk-item {z-index: 1;}#sk-bba221cb-b1a8-47b2-afef-da11999acfcd div.sk-parallel {display: flex;align-items: stretch;justify-content: center;background-color: white;}#sk-bba221cb-b1a8-47b2-afef-da11999acfcd div.sk-parallel::before {content: \"\";position: absolute;border-left: 1px solid gray;box-sizing: border-box;top: 2em;bottom: 0;left: 50%;}#sk-bba221cb-b1a8-47b2-afef-da11999acfcd div.sk-parallel-item {display: flex;flex-direction: column;position: relative;background-color: white;}#sk-bba221cb-b1a8-47b2-afef-da11999acfcd div.sk-parallel-item:first-child::after {align-self: flex-end;width: 50%;}#sk-bba221cb-b1a8-47b2-afef-da11999acfcd div.sk-parallel-item:last-child::after {align-self: flex-start;width: 50%;}#sk-bba221cb-b1a8-47b2-afef-da11999acfcd div.sk-parallel-item:only-child::after {width: 0;}#sk-bba221cb-b1a8-47b2-afef-da11999acfcd div.sk-dashed-wrapped {border: 1px dashed gray;margin: 0 0.4em 0.5em 0.4em;box-sizing: border-box;padding-bottom: 0.4em;background-color: white;position: relative;}#sk-bba221cb-b1a8-47b2-afef-da11999acfcd div.sk-label label {font-family: monospace;font-weight: bold;background-color: white;display: inline-block;line-height: 1.2em;}#sk-bba221cb-b1a8-47b2-afef-da11999acfcd div.sk-label-container {position: relative;z-index: 2;text-align: center;}#sk-bba221cb-b1a8-47b2-afef-da11999acfcd div.sk-container {/* jupyter's `normalize.less` sets `[hidden] { display: none; }` but bootstrap.min.css set `[hidden] { display: none !important; }` so we also need the `!important` here to be able to override the default hidden behavior on the sphinx rendered scikit-learn.org. See: https://github.com/scikit-learn/scikit-learn/issues/21755 */display: inline-block !important;position: relative;}#sk-bba221cb-b1a8-47b2-afef-da11999acfcd div.sk-text-repr-fallback {display: none;}</style><div id=\"sk-bba221cb-b1a8-47b2-afef-da11999acfcd\" class=\"sk-top-container\"><div class=\"sk-text-repr-fallback\"><pre>Pipeline(steps=[(&#x27;preproc&#x27;,\n",
              "                 ColumnTransformer(remainder=&#x27;passthrough&#x27;,\n",
              "                                   transformers=[(&#x27;cat_pipe&#x27;,\n",
              "                                                  Pipeline(steps=[(&#x27;cat_impute&#x27;,\n",
              "                                                                   SimpleImputer(strategy=&#x27;most_frequent&#x27;)),\n",
              "                                                                  (&#x27;onehot_cat&#x27;,\n",
              "                                                                   OneHotEncoder())]),\n",
              "                                                  &lt;sklearn.compose._column_transformer.make_column_selector object at 0x7f5563d10550&gt;),\n",
              "                                                 (&#x27;num_pipe&#x27;,\n",
              "                                                  Pipeline(steps=[(&#x27;impute_num&#x27;,\n",
              "                                                                   SimpleImputer()),\n",
              "                                                                  (&#x27;scale_num&#x27;,\n",
              "                                                                   StandardScaler())]),\n",
              "                                                  &lt;sklearn.compose._column_transformer.make_column_selector object at 0x7f5563d10310&gt;)])),\n",
              "                (&#x27;mdl&#x27;,\n",
              "                 LogisticRegression(penalty=&#x27;elasticnet&#x27;, solver=&#x27;saga&#x27;,\n",
              "                                    tol=0.01))])</pre><b>Please rerun this cell to show the HTML repr or trust the notebook.</b></div><div class=\"sk-container\" hidden><div class=\"sk-item sk-dashed-wrapped\"><div class=\"sk-label-container\"><div class=\"sk-label sk-toggleable\"><input class=\"sk-toggleable__control sk-hidden--visually\" id=\"1466b406-515e-4825-919d-68486c2d880f\" type=\"checkbox\" ><label for=\"1466b406-515e-4825-919d-68486c2d880f\" class=\"sk-toggleable__label sk-toggleable__label-arrow\">Pipeline</label><div class=\"sk-toggleable__content\"><pre>Pipeline(steps=[(&#x27;preproc&#x27;,\n",
              "                 ColumnTransformer(remainder=&#x27;passthrough&#x27;,\n",
              "                                   transformers=[(&#x27;cat_pipe&#x27;,\n",
              "                                                  Pipeline(steps=[(&#x27;cat_impute&#x27;,\n",
              "                                                                   SimpleImputer(strategy=&#x27;most_frequent&#x27;)),\n",
              "                                                                  (&#x27;onehot_cat&#x27;,\n",
              "                                                                   OneHotEncoder())]),\n",
              "                                                  &lt;sklearn.compose._column_transformer.make_column_selector object at 0x7f5563d10550&gt;),\n",
              "                                                 (&#x27;num_pipe&#x27;,\n",
              "                                                  Pipeline(steps=[(&#x27;impute_num&#x27;,\n",
              "                                                                   SimpleImputer()),\n",
              "                                                                  (&#x27;scale_num&#x27;,\n",
              "                                                                   StandardScaler())]),\n",
              "                                                  &lt;sklearn.compose._column_transformer.make_column_selector object at 0x7f5563d10310&gt;)])),\n",
              "                (&#x27;mdl&#x27;,\n",
              "                 LogisticRegression(penalty=&#x27;elasticnet&#x27;, solver=&#x27;saga&#x27;,\n",
              "                                    tol=0.01))])</pre></div></div></div><div class=\"sk-serial\"><div class=\"sk-item sk-dashed-wrapped\"><div class=\"sk-label-container\"><div class=\"sk-label sk-toggleable\"><input class=\"sk-toggleable__control sk-hidden--visually\" id=\"1926368f-6d9d-40d0-83f4-b144a84ee6bf\" type=\"checkbox\" ><label for=\"1926368f-6d9d-40d0-83f4-b144a84ee6bf\" class=\"sk-toggleable__label sk-toggleable__label-arrow\">preproc: ColumnTransformer</label><div class=\"sk-toggleable__content\"><pre>ColumnTransformer(remainder=&#x27;passthrough&#x27;,\n",
              "                  transformers=[(&#x27;cat_pipe&#x27;,\n",
              "                                 Pipeline(steps=[(&#x27;cat_impute&#x27;,\n",
              "                                                  SimpleImputer(strategy=&#x27;most_frequent&#x27;)),\n",
              "                                                 (&#x27;onehot_cat&#x27;,\n",
              "                                                  OneHotEncoder())]),\n",
              "                                 &lt;sklearn.compose._column_transformer.make_column_selector object at 0x7f5563d10550&gt;),\n",
              "                                (&#x27;num_pipe&#x27;,\n",
              "                                 Pipeline(steps=[(&#x27;impute_num&#x27;,\n",
              "                                                  SimpleImputer()),\n",
              "                                                 (&#x27;scale_num&#x27;,\n",
              "                                                  StandardScaler())]),\n",
              "                                 &lt;sklearn.compose._column_transformer.make_column_selector object at 0x7f5563d10310&gt;)])</pre></div></div></div><div class=\"sk-parallel\"><div class=\"sk-parallel-item\"><div class=\"sk-item\"><div class=\"sk-label-container\"><div class=\"sk-label sk-toggleable\"><input class=\"sk-toggleable__control sk-hidden--visually\" id=\"2c31084e-a88c-4ac4-b6c9-1af70125336a\" type=\"checkbox\" ><label for=\"2c31084e-a88c-4ac4-b6c9-1af70125336a\" class=\"sk-toggleable__label sk-toggleable__label-arrow\">cat_pipe</label><div class=\"sk-toggleable__content\"><pre>&lt;sklearn.compose._column_transformer.make_column_selector object at 0x7f5563d10550&gt;</pre></div></div></div><div class=\"sk-serial\"><div class=\"sk-item\"><div class=\"sk-serial\"><div class=\"sk-item\"><div class=\"sk-estimator sk-toggleable\"><input class=\"sk-toggleable__control sk-hidden--visually\" id=\"19d738cd-0715-4c66-843e-74b4392a850e\" type=\"checkbox\" ><label for=\"19d738cd-0715-4c66-843e-74b4392a850e\" class=\"sk-toggleable__label sk-toggleable__label-arrow\">SimpleImputer</label><div class=\"sk-toggleable__content\"><pre>SimpleImputer(strategy=&#x27;most_frequent&#x27;)</pre></div></div></div><div class=\"sk-item\"><div class=\"sk-estimator sk-toggleable\"><input class=\"sk-toggleable__control sk-hidden--visually\" id=\"3cc2c19b-794e-4518-92b7-9a889f1bdcd6\" type=\"checkbox\" ><label for=\"3cc2c19b-794e-4518-92b7-9a889f1bdcd6\" class=\"sk-toggleable__label sk-toggleable__label-arrow\">OneHotEncoder</label><div class=\"sk-toggleable__content\"><pre>OneHotEncoder()</pre></div></div></div></div></div></div></div></div><div class=\"sk-parallel-item\"><div class=\"sk-item\"><div class=\"sk-label-container\"><div class=\"sk-label sk-toggleable\"><input class=\"sk-toggleable__control sk-hidden--visually\" id=\"021aa131-ba88-465d-8d00-e3b37222ae63\" type=\"checkbox\" ><label for=\"021aa131-ba88-465d-8d00-e3b37222ae63\" class=\"sk-toggleable__label sk-toggleable__label-arrow\">num_pipe</label><div class=\"sk-toggleable__content\"><pre>&lt;sklearn.compose._column_transformer.make_column_selector object at 0x7f5563d10310&gt;</pre></div></div></div><div class=\"sk-serial\"><div class=\"sk-item\"><div class=\"sk-serial\"><div class=\"sk-item\"><div class=\"sk-estimator sk-toggleable\"><input class=\"sk-toggleable__control sk-hidden--visually\" id=\"34ed9b2e-c69c-4bfa-b26b-e207e33edf75\" type=\"checkbox\" ><label for=\"34ed9b2e-c69c-4bfa-b26b-e207e33edf75\" class=\"sk-toggleable__label sk-toggleable__label-arrow\">SimpleImputer</label><div class=\"sk-toggleable__content\"><pre>SimpleImputer()</pre></div></div></div><div class=\"sk-item\"><div class=\"sk-estimator sk-toggleable\"><input class=\"sk-toggleable__control sk-hidden--visually\" id=\"075b35d8-69b9-4a30-a106-b8a4649201fb\" type=\"checkbox\" ><label for=\"075b35d8-69b9-4a30-a106-b8a4649201fb\" class=\"sk-toggleable__label sk-toggleable__label-arrow\">StandardScaler</label><div class=\"sk-toggleable__content\"><pre>StandardScaler()</pre></div></div></div></div></div></div></div></div><div class=\"sk-parallel-item\"><div class=\"sk-item\"><div class=\"sk-label-container\"><div class=\"sk-label sk-toggleable\"><input class=\"sk-toggleable__control sk-hidden--visually\" id=\"15484220-5c6c-4078-a253-b8afafca500c\" type=\"checkbox\" ><label for=\"15484220-5c6c-4078-a253-b8afafca500c\" class=\"sk-toggleable__label sk-toggleable__label-arrow\">remainder</label><div class=\"sk-toggleable__content\"><pre></pre></div></div></div><div class=\"sk-serial\"><div class=\"sk-item\"><div class=\"sk-estimator sk-toggleable\"><input class=\"sk-toggleable__control sk-hidden--visually\" id=\"dbd3a678-36b3-407a-8420-656c8d59d34b\" type=\"checkbox\" ><label for=\"dbd3a678-36b3-407a-8420-656c8d59d34b\" class=\"sk-toggleable__label sk-toggleable__label-arrow\">passthrough</label><div class=\"sk-toggleable__content\"><pre>passthrough</pre></div></div></div></div></div></div></div></div><div class=\"sk-item\"><div class=\"sk-estimator sk-toggleable\"><input class=\"sk-toggleable__control sk-hidden--visually\" id=\"ad93a2a8-c003-4e7b-b439-d4ec6f8537e7\" type=\"checkbox\" ><label for=\"ad93a2a8-c003-4e7b-b439-d4ec6f8537e7\" class=\"sk-toggleable__label sk-toggleable__label-arrow\">LogisticRegression</label><div class=\"sk-toggleable__content\"><pre>LogisticRegression(penalty=&#x27;elasticnet&#x27;, solver=&#x27;saga&#x27;, tol=0.01)</pre></div></div></div></div></div></div></div>"
            ]
          },
          "metadata": {}
        }
      ]
    },
    {
      "cell_type": "markdown",
      "source": [
        "RandomForest"
      ],
      "metadata": {
        "id": "9bCb32vppYIq"
      },
      "id": "9bCb32vppYIq"
    },
    {
      "cell_type": "code",
      "source": [
        "# TODO: set up your modeling pipeline RandomForest\n",
        "pipeRandForest = Pipeline([('preproc', preprocess),\n",
        "                        ('rf', RandomForestClassifier())])\n",
        "\n",
        "# Feel free to uncomment and edit the code below to visualize your overall pipeline\n",
        "with config_context(display='diagram'):\n",
        "    display(pipeRandForest)"
      ],
      "metadata": {
        "id": "nEymwM2Rpaxa",
        "colab": {
          "base_uri": "https://localhost:8080/",
          "height": 227
        },
        "outputId": "25a9ef33-25fc-41a2-8973-be87fcc02c79"
      },
      "id": "nEymwM2Rpaxa",
      "execution_count": null,
      "outputs": [
        {
          "output_type": "display_data",
          "data": {
            "text/plain": [
              "Pipeline(steps=[('preproc',\n",
              "                 ColumnTransformer(remainder='passthrough',\n",
              "                                   transformers=[('cat_pipe',\n",
              "                                                  Pipeline(steps=[('cat_impute',\n",
              "                                                                   SimpleImputer(strategy='most_frequent')),\n",
              "                                                                  ('onehot_cat',\n",
              "                                                                   OneHotEncoder())]),\n",
              "                                                  <sklearn.compose._column_transformer.make_column_selector object at 0x7f5563d10550>),\n",
              "                                                 ('num_pipe',\n",
              "                                                  Pipeline(steps=[('impute_num',\n",
              "                                                                   SimpleImputer()),\n",
              "                                                                  ('scale_num',\n",
              "                                                                   StandardScaler())]),\n",
              "                                                  <sklearn.compose._column_transformer.make_column_selector object at 0x7f5563d10310>)])),\n",
              "                ('rf', RandomForestClassifier())])"
            ],
            "text/html": [
              "<style>#sk-11721005-663e-43f3-a6d7-8b40df2d128b {color: black;background-color: white;}#sk-11721005-663e-43f3-a6d7-8b40df2d128b pre{padding: 0;}#sk-11721005-663e-43f3-a6d7-8b40df2d128b div.sk-toggleable {background-color: white;}#sk-11721005-663e-43f3-a6d7-8b40df2d128b label.sk-toggleable__label {cursor: pointer;display: block;width: 100%;margin-bottom: 0;padding: 0.3em;box-sizing: border-box;text-align: center;}#sk-11721005-663e-43f3-a6d7-8b40df2d128b label.sk-toggleable__label-arrow:before {content: \"▸\";float: left;margin-right: 0.25em;color: #696969;}#sk-11721005-663e-43f3-a6d7-8b40df2d128b label.sk-toggleable__label-arrow:hover:before {color: black;}#sk-11721005-663e-43f3-a6d7-8b40df2d128b div.sk-estimator:hover label.sk-toggleable__label-arrow:before {color: black;}#sk-11721005-663e-43f3-a6d7-8b40df2d128b div.sk-toggleable__content {max-height: 0;max-width: 0;overflow: hidden;text-align: left;background-color: #f0f8ff;}#sk-11721005-663e-43f3-a6d7-8b40df2d128b div.sk-toggleable__content pre {margin: 0.2em;color: black;border-radius: 0.25em;background-color: #f0f8ff;}#sk-11721005-663e-43f3-a6d7-8b40df2d128b input.sk-toggleable__control:checked~div.sk-toggleable__content {max-height: 200px;max-width: 100%;overflow: auto;}#sk-11721005-663e-43f3-a6d7-8b40df2d128b input.sk-toggleable__control:checked~label.sk-toggleable__label-arrow:before {content: \"▾\";}#sk-11721005-663e-43f3-a6d7-8b40df2d128b div.sk-estimator input.sk-toggleable__control:checked~label.sk-toggleable__label {background-color: #d4ebff;}#sk-11721005-663e-43f3-a6d7-8b40df2d128b div.sk-label input.sk-toggleable__control:checked~label.sk-toggleable__label {background-color: #d4ebff;}#sk-11721005-663e-43f3-a6d7-8b40df2d128b input.sk-hidden--visually {border: 0;clip: rect(1px 1px 1px 1px);clip: rect(1px, 1px, 1px, 1px);height: 1px;margin: -1px;overflow: hidden;padding: 0;position: absolute;width: 1px;}#sk-11721005-663e-43f3-a6d7-8b40df2d128b div.sk-estimator {font-family: monospace;background-color: #f0f8ff;border: 1px dotted black;border-radius: 0.25em;box-sizing: border-box;margin-bottom: 0.5em;}#sk-11721005-663e-43f3-a6d7-8b40df2d128b div.sk-estimator:hover {background-color: #d4ebff;}#sk-11721005-663e-43f3-a6d7-8b40df2d128b div.sk-parallel-item::after {content: \"\";width: 100%;border-bottom: 1px solid gray;flex-grow: 1;}#sk-11721005-663e-43f3-a6d7-8b40df2d128b div.sk-label:hover label.sk-toggleable__label {background-color: #d4ebff;}#sk-11721005-663e-43f3-a6d7-8b40df2d128b div.sk-serial::before {content: \"\";position: absolute;border-left: 1px solid gray;box-sizing: border-box;top: 2em;bottom: 0;left: 50%;}#sk-11721005-663e-43f3-a6d7-8b40df2d128b div.sk-serial {display: flex;flex-direction: column;align-items: center;background-color: white;padding-right: 0.2em;padding-left: 0.2em;}#sk-11721005-663e-43f3-a6d7-8b40df2d128b div.sk-item {z-index: 1;}#sk-11721005-663e-43f3-a6d7-8b40df2d128b div.sk-parallel {display: flex;align-items: stretch;justify-content: center;background-color: white;}#sk-11721005-663e-43f3-a6d7-8b40df2d128b div.sk-parallel::before {content: \"\";position: absolute;border-left: 1px solid gray;box-sizing: border-box;top: 2em;bottom: 0;left: 50%;}#sk-11721005-663e-43f3-a6d7-8b40df2d128b div.sk-parallel-item {display: flex;flex-direction: column;position: relative;background-color: white;}#sk-11721005-663e-43f3-a6d7-8b40df2d128b div.sk-parallel-item:first-child::after {align-self: flex-end;width: 50%;}#sk-11721005-663e-43f3-a6d7-8b40df2d128b div.sk-parallel-item:last-child::after {align-self: flex-start;width: 50%;}#sk-11721005-663e-43f3-a6d7-8b40df2d128b div.sk-parallel-item:only-child::after {width: 0;}#sk-11721005-663e-43f3-a6d7-8b40df2d128b div.sk-dashed-wrapped {border: 1px dashed gray;margin: 0 0.4em 0.5em 0.4em;box-sizing: border-box;padding-bottom: 0.4em;background-color: white;position: relative;}#sk-11721005-663e-43f3-a6d7-8b40df2d128b div.sk-label label {font-family: monospace;font-weight: bold;background-color: white;display: inline-block;line-height: 1.2em;}#sk-11721005-663e-43f3-a6d7-8b40df2d128b div.sk-label-container {position: relative;z-index: 2;text-align: center;}#sk-11721005-663e-43f3-a6d7-8b40df2d128b div.sk-container {/* jupyter's `normalize.less` sets `[hidden] { display: none; }` but bootstrap.min.css set `[hidden] { display: none !important; }` so we also need the `!important` here to be able to override the default hidden behavior on the sphinx rendered scikit-learn.org. See: https://github.com/scikit-learn/scikit-learn/issues/21755 */display: inline-block !important;position: relative;}#sk-11721005-663e-43f3-a6d7-8b40df2d128b div.sk-text-repr-fallback {display: none;}</style><div id=\"sk-11721005-663e-43f3-a6d7-8b40df2d128b\" class=\"sk-top-container\"><div class=\"sk-text-repr-fallback\"><pre>Pipeline(steps=[(&#x27;preproc&#x27;,\n",
              "                 ColumnTransformer(remainder=&#x27;passthrough&#x27;,\n",
              "                                   transformers=[(&#x27;cat_pipe&#x27;,\n",
              "                                                  Pipeline(steps=[(&#x27;cat_impute&#x27;,\n",
              "                                                                   SimpleImputer(strategy=&#x27;most_frequent&#x27;)),\n",
              "                                                                  (&#x27;onehot_cat&#x27;,\n",
              "                                                                   OneHotEncoder())]),\n",
              "                                                  &lt;sklearn.compose._column_transformer.make_column_selector object at 0x7f5563d10550&gt;),\n",
              "                                                 (&#x27;num_pipe&#x27;,\n",
              "                                                  Pipeline(steps=[(&#x27;impute_num&#x27;,\n",
              "                                                                   SimpleImputer()),\n",
              "                                                                  (&#x27;scale_num&#x27;,\n",
              "                                                                   StandardScaler())]),\n",
              "                                                  &lt;sklearn.compose._column_transformer.make_column_selector object at 0x7f5563d10310&gt;)])),\n",
              "                (&#x27;rf&#x27;, RandomForestClassifier())])</pre><b>Please rerun this cell to show the HTML repr or trust the notebook.</b></div><div class=\"sk-container\" hidden><div class=\"sk-item sk-dashed-wrapped\"><div class=\"sk-label-container\"><div class=\"sk-label sk-toggleable\"><input class=\"sk-toggleable__control sk-hidden--visually\" id=\"98251f0f-9492-4698-8313-a648e7fbb931\" type=\"checkbox\" ><label for=\"98251f0f-9492-4698-8313-a648e7fbb931\" class=\"sk-toggleable__label sk-toggleable__label-arrow\">Pipeline</label><div class=\"sk-toggleable__content\"><pre>Pipeline(steps=[(&#x27;preproc&#x27;,\n",
              "                 ColumnTransformer(remainder=&#x27;passthrough&#x27;,\n",
              "                                   transformers=[(&#x27;cat_pipe&#x27;,\n",
              "                                                  Pipeline(steps=[(&#x27;cat_impute&#x27;,\n",
              "                                                                   SimpleImputer(strategy=&#x27;most_frequent&#x27;)),\n",
              "                                                                  (&#x27;onehot_cat&#x27;,\n",
              "                                                                   OneHotEncoder())]),\n",
              "                                                  &lt;sklearn.compose._column_transformer.make_column_selector object at 0x7f5563d10550&gt;),\n",
              "                                                 (&#x27;num_pipe&#x27;,\n",
              "                                                  Pipeline(steps=[(&#x27;impute_num&#x27;,\n",
              "                                                                   SimpleImputer()),\n",
              "                                                                  (&#x27;scale_num&#x27;,\n",
              "                                                                   StandardScaler())]),\n",
              "                                                  &lt;sklearn.compose._column_transformer.make_column_selector object at 0x7f5563d10310&gt;)])),\n",
              "                (&#x27;rf&#x27;, RandomForestClassifier())])</pre></div></div></div><div class=\"sk-serial\"><div class=\"sk-item sk-dashed-wrapped\"><div class=\"sk-label-container\"><div class=\"sk-label sk-toggleable\"><input class=\"sk-toggleable__control sk-hidden--visually\" id=\"7fce4f34-64ea-4eb0-90e7-1f4b4b2bf732\" type=\"checkbox\" ><label for=\"7fce4f34-64ea-4eb0-90e7-1f4b4b2bf732\" class=\"sk-toggleable__label sk-toggleable__label-arrow\">preproc: ColumnTransformer</label><div class=\"sk-toggleable__content\"><pre>ColumnTransformer(remainder=&#x27;passthrough&#x27;,\n",
              "                  transformers=[(&#x27;cat_pipe&#x27;,\n",
              "                                 Pipeline(steps=[(&#x27;cat_impute&#x27;,\n",
              "                                                  SimpleImputer(strategy=&#x27;most_frequent&#x27;)),\n",
              "                                                 (&#x27;onehot_cat&#x27;,\n",
              "                                                  OneHotEncoder())]),\n",
              "                                 &lt;sklearn.compose._column_transformer.make_column_selector object at 0x7f5563d10550&gt;),\n",
              "                                (&#x27;num_pipe&#x27;,\n",
              "                                 Pipeline(steps=[(&#x27;impute_num&#x27;,\n",
              "                                                  SimpleImputer()),\n",
              "                                                 (&#x27;scale_num&#x27;,\n",
              "                                                  StandardScaler())]),\n",
              "                                 &lt;sklearn.compose._column_transformer.make_column_selector object at 0x7f5563d10310&gt;)])</pre></div></div></div><div class=\"sk-parallel\"><div class=\"sk-parallel-item\"><div class=\"sk-item\"><div class=\"sk-label-container\"><div class=\"sk-label sk-toggleable\"><input class=\"sk-toggleable__control sk-hidden--visually\" id=\"a062e9eb-9892-477c-b284-b239e5463c4a\" type=\"checkbox\" ><label for=\"a062e9eb-9892-477c-b284-b239e5463c4a\" class=\"sk-toggleable__label sk-toggleable__label-arrow\">cat_pipe</label><div class=\"sk-toggleable__content\"><pre>&lt;sklearn.compose._column_transformer.make_column_selector object at 0x7f5563d10550&gt;</pre></div></div></div><div class=\"sk-serial\"><div class=\"sk-item\"><div class=\"sk-serial\"><div class=\"sk-item\"><div class=\"sk-estimator sk-toggleable\"><input class=\"sk-toggleable__control sk-hidden--visually\" id=\"b89b3d31-73c9-4fc2-94e2-b68b9feac5b9\" type=\"checkbox\" ><label for=\"b89b3d31-73c9-4fc2-94e2-b68b9feac5b9\" class=\"sk-toggleable__label sk-toggleable__label-arrow\">SimpleImputer</label><div class=\"sk-toggleable__content\"><pre>SimpleImputer(strategy=&#x27;most_frequent&#x27;)</pre></div></div></div><div class=\"sk-item\"><div class=\"sk-estimator sk-toggleable\"><input class=\"sk-toggleable__control sk-hidden--visually\" id=\"e331e428-5095-4df6-935d-9ebf87588467\" type=\"checkbox\" ><label for=\"e331e428-5095-4df6-935d-9ebf87588467\" class=\"sk-toggleable__label sk-toggleable__label-arrow\">OneHotEncoder</label><div class=\"sk-toggleable__content\"><pre>OneHotEncoder()</pre></div></div></div></div></div></div></div></div><div class=\"sk-parallel-item\"><div class=\"sk-item\"><div class=\"sk-label-container\"><div class=\"sk-label sk-toggleable\"><input class=\"sk-toggleable__control sk-hidden--visually\" id=\"8244b8bd-4ff3-483a-a838-4df6401562fe\" type=\"checkbox\" ><label for=\"8244b8bd-4ff3-483a-a838-4df6401562fe\" class=\"sk-toggleable__label sk-toggleable__label-arrow\">num_pipe</label><div class=\"sk-toggleable__content\"><pre>&lt;sklearn.compose._column_transformer.make_column_selector object at 0x7f5563d10310&gt;</pre></div></div></div><div class=\"sk-serial\"><div class=\"sk-item\"><div class=\"sk-serial\"><div class=\"sk-item\"><div class=\"sk-estimator sk-toggleable\"><input class=\"sk-toggleable__control sk-hidden--visually\" id=\"e1bdf7e0-e521-409f-92c9-41cbc7b820b9\" type=\"checkbox\" ><label for=\"e1bdf7e0-e521-409f-92c9-41cbc7b820b9\" class=\"sk-toggleable__label sk-toggleable__label-arrow\">SimpleImputer</label><div class=\"sk-toggleable__content\"><pre>SimpleImputer()</pre></div></div></div><div class=\"sk-item\"><div class=\"sk-estimator sk-toggleable\"><input class=\"sk-toggleable__control sk-hidden--visually\" id=\"36666827-e56c-4a1f-b189-5da1dd09009a\" type=\"checkbox\" ><label for=\"36666827-e56c-4a1f-b189-5da1dd09009a\" class=\"sk-toggleable__label sk-toggleable__label-arrow\">StandardScaler</label><div class=\"sk-toggleable__content\"><pre>StandardScaler()</pre></div></div></div></div></div></div></div></div><div class=\"sk-parallel-item\"><div class=\"sk-item\"><div class=\"sk-label-container\"><div class=\"sk-label sk-toggleable\"><input class=\"sk-toggleable__control sk-hidden--visually\" id=\"af0584f9-d515-418a-aa64-2576ed4364d1\" type=\"checkbox\" ><label for=\"af0584f9-d515-418a-aa64-2576ed4364d1\" class=\"sk-toggleable__label sk-toggleable__label-arrow\">remainder</label><div class=\"sk-toggleable__content\"><pre></pre></div></div></div><div class=\"sk-serial\"><div class=\"sk-item\"><div class=\"sk-estimator sk-toggleable\"><input class=\"sk-toggleable__control sk-hidden--visually\" id=\"511d65d9-adc7-43dc-a2e1-05b9aec7fb63\" type=\"checkbox\" ><label for=\"511d65d9-adc7-43dc-a2e1-05b9aec7fb63\" class=\"sk-toggleable__label sk-toggleable__label-arrow\">passthrough</label><div class=\"sk-toggleable__content\"><pre>passthrough</pre></div></div></div></div></div></div></div></div><div class=\"sk-item\"><div class=\"sk-estimator sk-toggleable\"><input class=\"sk-toggleable__control sk-hidden--visually\" id=\"fce8d020-f8e4-47b6-8321-71512b509689\" type=\"checkbox\" ><label for=\"fce8d020-f8e4-47b6-8321-71512b509689\" class=\"sk-toggleable__label sk-toggleable__label-arrow\">RandomForestClassifier</label><div class=\"sk-toggleable__content\"><pre>RandomForestClassifier()</pre></div></div></div></div></div></div></div>"
            ]
          },
          "metadata": {}
        }
      ]
    },
    {
      "cell_type": "markdown",
      "source": [
        "GradientBoost"
      ],
      "metadata": {
        "id": "EYYhH4P7pjrM"
      },
      "id": "EYYhH4P7pjrM"
    },
    {
      "cell_type": "code",
      "source": [
        "# TODO: set up your modeling pipeline GradientBoosting\n",
        "pipeGradBoost = Pipeline(steps=[('preproc', preprocess),\n",
        "                       ('gbc', GradientBoostingClassifier())])\n",
        "\n",
        "\n",
        "# Feel free to uncomment and edit the code below to visualize your overall pipeline\n",
        "with config_context(display='diagram'):\n",
        "    display(pipeGradBoost)"
      ],
      "metadata": {
        "id": "XcmAZh5Opot1",
        "colab": {
          "base_uri": "https://localhost:8080/",
          "height": 227
        },
        "outputId": "93337279-10d9-4eb9-ae3c-c4154b3bbb9c"
      },
      "id": "XcmAZh5Opot1",
      "execution_count": null,
      "outputs": [
        {
          "output_type": "display_data",
          "data": {
            "text/plain": [
              "Pipeline(steps=[('preproc',\n",
              "                 ColumnTransformer(remainder='passthrough',\n",
              "                                   transformers=[('cat_pipe',\n",
              "                                                  Pipeline(steps=[('cat_impute',\n",
              "                                                                   SimpleImputer(strategy='most_frequent')),\n",
              "                                                                  ('onehot_cat',\n",
              "                                                                   OneHotEncoder())]),\n",
              "                                                  <sklearn.compose._column_transformer.make_column_selector object at 0x7f5563d10550>),\n",
              "                                                 ('num_pipe',\n",
              "                                                  Pipeline(steps=[('impute_num',\n",
              "                                                                   SimpleImputer()),\n",
              "                                                                  ('scale_num',\n",
              "                                                                   StandardScaler())]),\n",
              "                                                  <sklearn.compose._column_transformer.make_column_selector object at 0x7f5563d10310>)])),\n",
              "                ('gbc', GradientBoostingClassifier())])"
            ],
            "text/html": [
              "<style>#sk-a0efc26d-e3f0-4525-a7e2-aed8d78d3840 {color: black;background-color: white;}#sk-a0efc26d-e3f0-4525-a7e2-aed8d78d3840 pre{padding: 0;}#sk-a0efc26d-e3f0-4525-a7e2-aed8d78d3840 div.sk-toggleable {background-color: white;}#sk-a0efc26d-e3f0-4525-a7e2-aed8d78d3840 label.sk-toggleable__label {cursor: pointer;display: block;width: 100%;margin-bottom: 0;padding: 0.3em;box-sizing: border-box;text-align: center;}#sk-a0efc26d-e3f0-4525-a7e2-aed8d78d3840 label.sk-toggleable__label-arrow:before {content: \"▸\";float: left;margin-right: 0.25em;color: #696969;}#sk-a0efc26d-e3f0-4525-a7e2-aed8d78d3840 label.sk-toggleable__label-arrow:hover:before {color: black;}#sk-a0efc26d-e3f0-4525-a7e2-aed8d78d3840 div.sk-estimator:hover label.sk-toggleable__label-arrow:before {color: black;}#sk-a0efc26d-e3f0-4525-a7e2-aed8d78d3840 div.sk-toggleable__content {max-height: 0;max-width: 0;overflow: hidden;text-align: left;background-color: #f0f8ff;}#sk-a0efc26d-e3f0-4525-a7e2-aed8d78d3840 div.sk-toggleable__content pre {margin: 0.2em;color: black;border-radius: 0.25em;background-color: #f0f8ff;}#sk-a0efc26d-e3f0-4525-a7e2-aed8d78d3840 input.sk-toggleable__control:checked~div.sk-toggleable__content {max-height: 200px;max-width: 100%;overflow: auto;}#sk-a0efc26d-e3f0-4525-a7e2-aed8d78d3840 input.sk-toggleable__control:checked~label.sk-toggleable__label-arrow:before {content: \"▾\";}#sk-a0efc26d-e3f0-4525-a7e2-aed8d78d3840 div.sk-estimator input.sk-toggleable__control:checked~label.sk-toggleable__label {background-color: #d4ebff;}#sk-a0efc26d-e3f0-4525-a7e2-aed8d78d3840 div.sk-label input.sk-toggleable__control:checked~label.sk-toggleable__label {background-color: #d4ebff;}#sk-a0efc26d-e3f0-4525-a7e2-aed8d78d3840 input.sk-hidden--visually {border: 0;clip: rect(1px 1px 1px 1px);clip: rect(1px, 1px, 1px, 1px);height: 1px;margin: -1px;overflow: hidden;padding: 0;position: absolute;width: 1px;}#sk-a0efc26d-e3f0-4525-a7e2-aed8d78d3840 div.sk-estimator {font-family: monospace;background-color: #f0f8ff;border: 1px dotted black;border-radius: 0.25em;box-sizing: border-box;margin-bottom: 0.5em;}#sk-a0efc26d-e3f0-4525-a7e2-aed8d78d3840 div.sk-estimator:hover {background-color: #d4ebff;}#sk-a0efc26d-e3f0-4525-a7e2-aed8d78d3840 div.sk-parallel-item::after {content: \"\";width: 100%;border-bottom: 1px solid gray;flex-grow: 1;}#sk-a0efc26d-e3f0-4525-a7e2-aed8d78d3840 div.sk-label:hover label.sk-toggleable__label {background-color: #d4ebff;}#sk-a0efc26d-e3f0-4525-a7e2-aed8d78d3840 div.sk-serial::before {content: \"\";position: absolute;border-left: 1px solid gray;box-sizing: border-box;top: 2em;bottom: 0;left: 50%;}#sk-a0efc26d-e3f0-4525-a7e2-aed8d78d3840 div.sk-serial {display: flex;flex-direction: column;align-items: center;background-color: white;padding-right: 0.2em;padding-left: 0.2em;}#sk-a0efc26d-e3f0-4525-a7e2-aed8d78d3840 div.sk-item {z-index: 1;}#sk-a0efc26d-e3f0-4525-a7e2-aed8d78d3840 div.sk-parallel {display: flex;align-items: stretch;justify-content: center;background-color: white;}#sk-a0efc26d-e3f0-4525-a7e2-aed8d78d3840 div.sk-parallel::before {content: \"\";position: absolute;border-left: 1px solid gray;box-sizing: border-box;top: 2em;bottom: 0;left: 50%;}#sk-a0efc26d-e3f0-4525-a7e2-aed8d78d3840 div.sk-parallel-item {display: flex;flex-direction: column;position: relative;background-color: white;}#sk-a0efc26d-e3f0-4525-a7e2-aed8d78d3840 div.sk-parallel-item:first-child::after {align-self: flex-end;width: 50%;}#sk-a0efc26d-e3f0-4525-a7e2-aed8d78d3840 div.sk-parallel-item:last-child::after {align-self: flex-start;width: 50%;}#sk-a0efc26d-e3f0-4525-a7e2-aed8d78d3840 div.sk-parallel-item:only-child::after {width: 0;}#sk-a0efc26d-e3f0-4525-a7e2-aed8d78d3840 div.sk-dashed-wrapped {border: 1px dashed gray;margin: 0 0.4em 0.5em 0.4em;box-sizing: border-box;padding-bottom: 0.4em;background-color: white;position: relative;}#sk-a0efc26d-e3f0-4525-a7e2-aed8d78d3840 div.sk-label label {font-family: monospace;font-weight: bold;background-color: white;display: inline-block;line-height: 1.2em;}#sk-a0efc26d-e3f0-4525-a7e2-aed8d78d3840 div.sk-label-container {position: relative;z-index: 2;text-align: center;}#sk-a0efc26d-e3f0-4525-a7e2-aed8d78d3840 div.sk-container {/* jupyter's `normalize.less` sets `[hidden] { display: none; }` but bootstrap.min.css set `[hidden] { display: none !important; }` so we also need the `!important` here to be able to override the default hidden behavior on the sphinx rendered scikit-learn.org. See: https://github.com/scikit-learn/scikit-learn/issues/21755 */display: inline-block !important;position: relative;}#sk-a0efc26d-e3f0-4525-a7e2-aed8d78d3840 div.sk-text-repr-fallback {display: none;}</style><div id=\"sk-a0efc26d-e3f0-4525-a7e2-aed8d78d3840\" class=\"sk-top-container\"><div class=\"sk-text-repr-fallback\"><pre>Pipeline(steps=[(&#x27;preproc&#x27;,\n",
              "                 ColumnTransformer(remainder=&#x27;passthrough&#x27;,\n",
              "                                   transformers=[(&#x27;cat_pipe&#x27;,\n",
              "                                                  Pipeline(steps=[(&#x27;cat_impute&#x27;,\n",
              "                                                                   SimpleImputer(strategy=&#x27;most_frequent&#x27;)),\n",
              "                                                                  (&#x27;onehot_cat&#x27;,\n",
              "                                                                   OneHotEncoder())]),\n",
              "                                                  &lt;sklearn.compose._column_transformer.make_column_selector object at 0x7f5563d10550&gt;),\n",
              "                                                 (&#x27;num_pipe&#x27;,\n",
              "                                                  Pipeline(steps=[(&#x27;impute_num&#x27;,\n",
              "                                                                   SimpleImputer()),\n",
              "                                                                  (&#x27;scale_num&#x27;,\n",
              "                                                                   StandardScaler())]),\n",
              "                                                  &lt;sklearn.compose._column_transformer.make_column_selector object at 0x7f5563d10310&gt;)])),\n",
              "                (&#x27;gbc&#x27;, GradientBoostingClassifier())])</pre><b>Please rerun this cell to show the HTML repr or trust the notebook.</b></div><div class=\"sk-container\" hidden><div class=\"sk-item sk-dashed-wrapped\"><div class=\"sk-label-container\"><div class=\"sk-label sk-toggleable\"><input class=\"sk-toggleable__control sk-hidden--visually\" id=\"e3978d09-c489-4f58-987e-b9081cc80d50\" type=\"checkbox\" ><label for=\"e3978d09-c489-4f58-987e-b9081cc80d50\" class=\"sk-toggleable__label sk-toggleable__label-arrow\">Pipeline</label><div class=\"sk-toggleable__content\"><pre>Pipeline(steps=[(&#x27;preproc&#x27;,\n",
              "                 ColumnTransformer(remainder=&#x27;passthrough&#x27;,\n",
              "                                   transformers=[(&#x27;cat_pipe&#x27;,\n",
              "                                                  Pipeline(steps=[(&#x27;cat_impute&#x27;,\n",
              "                                                                   SimpleImputer(strategy=&#x27;most_frequent&#x27;)),\n",
              "                                                                  (&#x27;onehot_cat&#x27;,\n",
              "                                                                   OneHotEncoder())]),\n",
              "                                                  &lt;sklearn.compose._column_transformer.make_column_selector object at 0x7f5563d10550&gt;),\n",
              "                                                 (&#x27;num_pipe&#x27;,\n",
              "                                                  Pipeline(steps=[(&#x27;impute_num&#x27;,\n",
              "                                                                   SimpleImputer()),\n",
              "                                                                  (&#x27;scale_num&#x27;,\n",
              "                                                                   StandardScaler())]),\n",
              "                                                  &lt;sklearn.compose._column_transformer.make_column_selector object at 0x7f5563d10310&gt;)])),\n",
              "                (&#x27;gbc&#x27;, GradientBoostingClassifier())])</pre></div></div></div><div class=\"sk-serial\"><div class=\"sk-item sk-dashed-wrapped\"><div class=\"sk-label-container\"><div class=\"sk-label sk-toggleable\"><input class=\"sk-toggleable__control sk-hidden--visually\" id=\"1ec6c2be-9349-43b7-b5fd-d131c22014b7\" type=\"checkbox\" ><label for=\"1ec6c2be-9349-43b7-b5fd-d131c22014b7\" class=\"sk-toggleable__label sk-toggleable__label-arrow\">preproc: ColumnTransformer</label><div class=\"sk-toggleable__content\"><pre>ColumnTransformer(remainder=&#x27;passthrough&#x27;,\n",
              "                  transformers=[(&#x27;cat_pipe&#x27;,\n",
              "                                 Pipeline(steps=[(&#x27;cat_impute&#x27;,\n",
              "                                                  SimpleImputer(strategy=&#x27;most_frequent&#x27;)),\n",
              "                                                 (&#x27;onehot_cat&#x27;,\n",
              "                                                  OneHotEncoder())]),\n",
              "                                 &lt;sklearn.compose._column_transformer.make_column_selector object at 0x7f5563d10550&gt;),\n",
              "                                (&#x27;num_pipe&#x27;,\n",
              "                                 Pipeline(steps=[(&#x27;impute_num&#x27;,\n",
              "                                                  SimpleImputer()),\n",
              "                                                 (&#x27;scale_num&#x27;,\n",
              "                                                  StandardScaler())]),\n",
              "                                 &lt;sklearn.compose._column_transformer.make_column_selector object at 0x7f5563d10310&gt;)])</pre></div></div></div><div class=\"sk-parallel\"><div class=\"sk-parallel-item\"><div class=\"sk-item\"><div class=\"sk-label-container\"><div class=\"sk-label sk-toggleable\"><input class=\"sk-toggleable__control sk-hidden--visually\" id=\"b3dbc986-c7bf-4b20-b831-e073da0fac77\" type=\"checkbox\" ><label for=\"b3dbc986-c7bf-4b20-b831-e073da0fac77\" class=\"sk-toggleable__label sk-toggleable__label-arrow\">cat_pipe</label><div class=\"sk-toggleable__content\"><pre>&lt;sklearn.compose._column_transformer.make_column_selector object at 0x7f5563d10550&gt;</pre></div></div></div><div class=\"sk-serial\"><div class=\"sk-item\"><div class=\"sk-serial\"><div class=\"sk-item\"><div class=\"sk-estimator sk-toggleable\"><input class=\"sk-toggleable__control sk-hidden--visually\" id=\"9b27d49d-046d-4013-8c6e-5caa76094bf5\" type=\"checkbox\" ><label for=\"9b27d49d-046d-4013-8c6e-5caa76094bf5\" class=\"sk-toggleable__label sk-toggleable__label-arrow\">SimpleImputer</label><div class=\"sk-toggleable__content\"><pre>SimpleImputer(strategy=&#x27;most_frequent&#x27;)</pre></div></div></div><div class=\"sk-item\"><div class=\"sk-estimator sk-toggleable\"><input class=\"sk-toggleable__control sk-hidden--visually\" id=\"78266dec-087b-4179-9e3d-906b3ac0890b\" type=\"checkbox\" ><label for=\"78266dec-087b-4179-9e3d-906b3ac0890b\" class=\"sk-toggleable__label sk-toggleable__label-arrow\">OneHotEncoder</label><div class=\"sk-toggleable__content\"><pre>OneHotEncoder()</pre></div></div></div></div></div></div></div></div><div class=\"sk-parallel-item\"><div class=\"sk-item\"><div class=\"sk-label-container\"><div class=\"sk-label sk-toggleable\"><input class=\"sk-toggleable__control sk-hidden--visually\" id=\"0a6a773e-4dca-4234-955d-b34eb30385df\" type=\"checkbox\" ><label for=\"0a6a773e-4dca-4234-955d-b34eb30385df\" class=\"sk-toggleable__label sk-toggleable__label-arrow\">num_pipe</label><div class=\"sk-toggleable__content\"><pre>&lt;sklearn.compose._column_transformer.make_column_selector object at 0x7f5563d10310&gt;</pre></div></div></div><div class=\"sk-serial\"><div class=\"sk-item\"><div class=\"sk-serial\"><div class=\"sk-item\"><div class=\"sk-estimator sk-toggleable\"><input class=\"sk-toggleable__control sk-hidden--visually\" id=\"d52db35b-7baa-42be-9a6b-768b9999d298\" type=\"checkbox\" ><label for=\"d52db35b-7baa-42be-9a6b-768b9999d298\" class=\"sk-toggleable__label sk-toggleable__label-arrow\">SimpleImputer</label><div class=\"sk-toggleable__content\"><pre>SimpleImputer()</pre></div></div></div><div class=\"sk-item\"><div class=\"sk-estimator sk-toggleable\"><input class=\"sk-toggleable__control sk-hidden--visually\" id=\"9c00beac-e53b-49dd-9ad8-160953db2f70\" type=\"checkbox\" ><label for=\"9c00beac-e53b-49dd-9ad8-160953db2f70\" class=\"sk-toggleable__label sk-toggleable__label-arrow\">StandardScaler</label><div class=\"sk-toggleable__content\"><pre>StandardScaler()</pre></div></div></div></div></div></div></div></div><div class=\"sk-parallel-item\"><div class=\"sk-item\"><div class=\"sk-label-container\"><div class=\"sk-label sk-toggleable\"><input class=\"sk-toggleable__control sk-hidden--visually\" id=\"a2d6b4d4-0d0c-4542-bd07-08b19efea9d7\" type=\"checkbox\" ><label for=\"a2d6b4d4-0d0c-4542-bd07-08b19efea9d7\" class=\"sk-toggleable__label sk-toggleable__label-arrow\">remainder</label><div class=\"sk-toggleable__content\"><pre></pre></div></div></div><div class=\"sk-serial\"><div class=\"sk-item\"><div class=\"sk-estimator sk-toggleable\"><input class=\"sk-toggleable__control sk-hidden--visually\" id=\"9f825cca-b344-4694-844b-5a14660602f7\" type=\"checkbox\" ><label for=\"9f825cca-b344-4694-844b-5a14660602f7\" class=\"sk-toggleable__label sk-toggleable__label-arrow\">passthrough</label><div class=\"sk-toggleable__content\"><pre>passthrough</pre></div></div></div></div></div></div></div></div><div class=\"sk-item\"><div class=\"sk-estimator sk-toggleable\"><input class=\"sk-toggleable__control sk-hidden--visually\" id=\"d3516057-bafa-4ee8-be62-1a783d851fea\" type=\"checkbox\" ><label for=\"d3516057-bafa-4ee8-be62-1a783d851fea\" class=\"sk-toggleable__label sk-toggleable__label-arrow\">GradientBoostingClassifier</label><div class=\"sk-toggleable__content\"><pre>GradientBoostingClassifier()</pre></div></div></div></div></div></div></div>"
            ]
          },
          "metadata": {}
        }
      ]
    },
    {
      "cell_type": "code",
      "execution_count": null,
      "id": "917a7dae-35ff-43b2-8186-dbe731d0f08d",
      "metadata": {
        "id": "917a7dae-35ff-43b2-8186-dbe731d0f08d",
        "colab": {
          "base_uri": "https://localhost:8080/",
          "height": 227
        },
        "outputId": "de304fa1-3060-4b66-d548-41111d6b26b6"
      },
      "outputs": [
        {
          "output_type": "display_data",
          "data": {
            "text/plain": [
              "Pipeline(steps=[('preproc',\n",
              "                 ColumnTransformer(remainder='passthrough',\n",
              "                                   transformers=[('cat_pipe',\n",
              "                                                  Pipeline(steps=[('cat_impute',\n",
              "                                                                   SimpleImputer(strategy='most_frequent')),\n",
              "                                                                  ('onehot_cat',\n",
              "                                                                   OneHotEncoder())]),\n",
              "                                                  <sklearn.compose._column_transformer.make_column_selector object at 0x7f5563d10550>),\n",
              "                                                 ('num_pipe',\n",
              "                                                  Pipeline(steps=[('impute_num',\n",
              "                                                                   SimpleImputer()),\n",
              "                                                                  ('scale_num',\n",
              "                                                                   StandardScaler())]),\n",
              "                                                  <sklearn.compose._column_transformer.make_column_selector object at 0x7f5563d10310>)])),\n",
              "                ('mdl',\n",
              "                 LogisticRegression(penalty='elasticnet', solver='saga',\n",
              "                                    tol=0.01))])"
            ],
            "text/html": [
              "<style>#sk-12ef628f-5efa-4c1a-b1e5-de8ad8b0c380 {color: black;background-color: white;}#sk-12ef628f-5efa-4c1a-b1e5-de8ad8b0c380 pre{padding: 0;}#sk-12ef628f-5efa-4c1a-b1e5-de8ad8b0c380 div.sk-toggleable {background-color: white;}#sk-12ef628f-5efa-4c1a-b1e5-de8ad8b0c380 label.sk-toggleable__label {cursor: pointer;display: block;width: 100%;margin-bottom: 0;padding: 0.3em;box-sizing: border-box;text-align: center;}#sk-12ef628f-5efa-4c1a-b1e5-de8ad8b0c380 label.sk-toggleable__label-arrow:before {content: \"▸\";float: left;margin-right: 0.25em;color: #696969;}#sk-12ef628f-5efa-4c1a-b1e5-de8ad8b0c380 label.sk-toggleable__label-arrow:hover:before {color: black;}#sk-12ef628f-5efa-4c1a-b1e5-de8ad8b0c380 div.sk-estimator:hover label.sk-toggleable__label-arrow:before {color: black;}#sk-12ef628f-5efa-4c1a-b1e5-de8ad8b0c380 div.sk-toggleable__content {max-height: 0;max-width: 0;overflow: hidden;text-align: left;background-color: #f0f8ff;}#sk-12ef628f-5efa-4c1a-b1e5-de8ad8b0c380 div.sk-toggleable__content pre {margin: 0.2em;color: black;border-radius: 0.25em;background-color: #f0f8ff;}#sk-12ef628f-5efa-4c1a-b1e5-de8ad8b0c380 input.sk-toggleable__control:checked~div.sk-toggleable__content {max-height: 200px;max-width: 100%;overflow: auto;}#sk-12ef628f-5efa-4c1a-b1e5-de8ad8b0c380 input.sk-toggleable__control:checked~label.sk-toggleable__label-arrow:before {content: \"▾\";}#sk-12ef628f-5efa-4c1a-b1e5-de8ad8b0c380 div.sk-estimator input.sk-toggleable__control:checked~label.sk-toggleable__label {background-color: #d4ebff;}#sk-12ef628f-5efa-4c1a-b1e5-de8ad8b0c380 div.sk-label input.sk-toggleable__control:checked~label.sk-toggleable__label {background-color: #d4ebff;}#sk-12ef628f-5efa-4c1a-b1e5-de8ad8b0c380 input.sk-hidden--visually {border: 0;clip: rect(1px 1px 1px 1px);clip: rect(1px, 1px, 1px, 1px);height: 1px;margin: -1px;overflow: hidden;padding: 0;position: absolute;width: 1px;}#sk-12ef628f-5efa-4c1a-b1e5-de8ad8b0c380 div.sk-estimator {font-family: monospace;background-color: #f0f8ff;border: 1px dotted black;border-radius: 0.25em;box-sizing: border-box;margin-bottom: 0.5em;}#sk-12ef628f-5efa-4c1a-b1e5-de8ad8b0c380 div.sk-estimator:hover {background-color: #d4ebff;}#sk-12ef628f-5efa-4c1a-b1e5-de8ad8b0c380 div.sk-parallel-item::after {content: \"\";width: 100%;border-bottom: 1px solid gray;flex-grow: 1;}#sk-12ef628f-5efa-4c1a-b1e5-de8ad8b0c380 div.sk-label:hover label.sk-toggleable__label {background-color: #d4ebff;}#sk-12ef628f-5efa-4c1a-b1e5-de8ad8b0c380 div.sk-serial::before {content: \"\";position: absolute;border-left: 1px solid gray;box-sizing: border-box;top: 2em;bottom: 0;left: 50%;}#sk-12ef628f-5efa-4c1a-b1e5-de8ad8b0c380 div.sk-serial {display: flex;flex-direction: column;align-items: center;background-color: white;padding-right: 0.2em;padding-left: 0.2em;}#sk-12ef628f-5efa-4c1a-b1e5-de8ad8b0c380 div.sk-item {z-index: 1;}#sk-12ef628f-5efa-4c1a-b1e5-de8ad8b0c380 div.sk-parallel {display: flex;align-items: stretch;justify-content: center;background-color: white;}#sk-12ef628f-5efa-4c1a-b1e5-de8ad8b0c380 div.sk-parallel::before {content: \"\";position: absolute;border-left: 1px solid gray;box-sizing: border-box;top: 2em;bottom: 0;left: 50%;}#sk-12ef628f-5efa-4c1a-b1e5-de8ad8b0c380 div.sk-parallel-item {display: flex;flex-direction: column;position: relative;background-color: white;}#sk-12ef628f-5efa-4c1a-b1e5-de8ad8b0c380 div.sk-parallel-item:first-child::after {align-self: flex-end;width: 50%;}#sk-12ef628f-5efa-4c1a-b1e5-de8ad8b0c380 div.sk-parallel-item:last-child::after {align-self: flex-start;width: 50%;}#sk-12ef628f-5efa-4c1a-b1e5-de8ad8b0c380 div.sk-parallel-item:only-child::after {width: 0;}#sk-12ef628f-5efa-4c1a-b1e5-de8ad8b0c380 div.sk-dashed-wrapped {border: 1px dashed gray;margin: 0 0.4em 0.5em 0.4em;box-sizing: border-box;padding-bottom: 0.4em;background-color: white;position: relative;}#sk-12ef628f-5efa-4c1a-b1e5-de8ad8b0c380 div.sk-label label {font-family: monospace;font-weight: bold;background-color: white;display: inline-block;line-height: 1.2em;}#sk-12ef628f-5efa-4c1a-b1e5-de8ad8b0c380 div.sk-label-container {position: relative;z-index: 2;text-align: center;}#sk-12ef628f-5efa-4c1a-b1e5-de8ad8b0c380 div.sk-container {/* jupyter's `normalize.less` sets `[hidden] { display: none; }` but bootstrap.min.css set `[hidden] { display: none !important; }` so we also need the `!important` here to be able to override the default hidden behavior on the sphinx rendered scikit-learn.org. See: https://github.com/scikit-learn/scikit-learn/issues/21755 */display: inline-block !important;position: relative;}#sk-12ef628f-5efa-4c1a-b1e5-de8ad8b0c380 div.sk-text-repr-fallback {display: none;}</style><div id=\"sk-12ef628f-5efa-4c1a-b1e5-de8ad8b0c380\" class=\"sk-top-container\"><div class=\"sk-text-repr-fallback\"><pre>Pipeline(steps=[(&#x27;preproc&#x27;,\n",
              "                 ColumnTransformer(remainder=&#x27;passthrough&#x27;,\n",
              "                                   transformers=[(&#x27;cat_pipe&#x27;,\n",
              "                                                  Pipeline(steps=[(&#x27;cat_impute&#x27;,\n",
              "                                                                   SimpleImputer(strategy=&#x27;most_frequent&#x27;)),\n",
              "                                                                  (&#x27;onehot_cat&#x27;,\n",
              "                                                                   OneHotEncoder())]),\n",
              "                                                  &lt;sklearn.compose._column_transformer.make_column_selector object at 0x7f5563d10550&gt;),\n",
              "                                                 (&#x27;num_pipe&#x27;,\n",
              "                                                  Pipeline(steps=[(&#x27;impute_num&#x27;,\n",
              "                                                                   SimpleImputer()),\n",
              "                                                                  (&#x27;scale_num&#x27;,\n",
              "                                                                   StandardScaler())]),\n",
              "                                                  &lt;sklearn.compose._column_transformer.make_column_selector object at 0x7f5563d10310&gt;)])),\n",
              "                (&#x27;mdl&#x27;,\n",
              "                 LogisticRegression(penalty=&#x27;elasticnet&#x27;, solver=&#x27;saga&#x27;,\n",
              "                                    tol=0.01))])</pre><b>Please rerun this cell to show the HTML repr or trust the notebook.</b></div><div class=\"sk-container\" hidden><div class=\"sk-item sk-dashed-wrapped\"><div class=\"sk-label-container\"><div class=\"sk-label sk-toggleable\"><input class=\"sk-toggleable__control sk-hidden--visually\" id=\"94dd93ca-0467-4884-bf6b-93fa7c0bdd19\" type=\"checkbox\" ><label for=\"94dd93ca-0467-4884-bf6b-93fa7c0bdd19\" class=\"sk-toggleable__label sk-toggleable__label-arrow\">Pipeline</label><div class=\"sk-toggleable__content\"><pre>Pipeline(steps=[(&#x27;preproc&#x27;,\n",
              "                 ColumnTransformer(remainder=&#x27;passthrough&#x27;,\n",
              "                                   transformers=[(&#x27;cat_pipe&#x27;,\n",
              "                                                  Pipeline(steps=[(&#x27;cat_impute&#x27;,\n",
              "                                                                   SimpleImputer(strategy=&#x27;most_frequent&#x27;)),\n",
              "                                                                  (&#x27;onehot_cat&#x27;,\n",
              "                                                                   OneHotEncoder())]),\n",
              "                                                  &lt;sklearn.compose._column_transformer.make_column_selector object at 0x7f5563d10550&gt;),\n",
              "                                                 (&#x27;num_pipe&#x27;,\n",
              "                                                  Pipeline(steps=[(&#x27;impute_num&#x27;,\n",
              "                                                                   SimpleImputer()),\n",
              "                                                                  (&#x27;scale_num&#x27;,\n",
              "                                                                   StandardScaler())]),\n",
              "                                                  &lt;sklearn.compose._column_transformer.make_column_selector object at 0x7f5563d10310&gt;)])),\n",
              "                (&#x27;mdl&#x27;,\n",
              "                 LogisticRegression(penalty=&#x27;elasticnet&#x27;, solver=&#x27;saga&#x27;,\n",
              "                                    tol=0.01))])</pre></div></div></div><div class=\"sk-serial\"><div class=\"sk-item sk-dashed-wrapped\"><div class=\"sk-label-container\"><div class=\"sk-label sk-toggleable\"><input class=\"sk-toggleable__control sk-hidden--visually\" id=\"44ab2177-f29f-4b99-bde8-8867fab53db8\" type=\"checkbox\" ><label for=\"44ab2177-f29f-4b99-bde8-8867fab53db8\" class=\"sk-toggleable__label sk-toggleable__label-arrow\">preproc: ColumnTransformer</label><div class=\"sk-toggleable__content\"><pre>ColumnTransformer(remainder=&#x27;passthrough&#x27;,\n",
              "                  transformers=[(&#x27;cat_pipe&#x27;,\n",
              "                                 Pipeline(steps=[(&#x27;cat_impute&#x27;,\n",
              "                                                  SimpleImputer(strategy=&#x27;most_frequent&#x27;)),\n",
              "                                                 (&#x27;onehot_cat&#x27;,\n",
              "                                                  OneHotEncoder())]),\n",
              "                                 &lt;sklearn.compose._column_transformer.make_column_selector object at 0x7f5563d10550&gt;),\n",
              "                                (&#x27;num_pipe&#x27;,\n",
              "                                 Pipeline(steps=[(&#x27;impute_num&#x27;,\n",
              "                                                  SimpleImputer()),\n",
              "                                                 (&#x27;scale_num&#x27;,\n",
              "                                                  StandardScaler())]),\n",
              "                                 &lt;sklearn.compose._column_transformer.make_column_selector object at 0x7f5563d10310&gt;)])</pre></div></div></div><div class=\"sk-parallel\"><div class=\"sk-parallel-item\"><div class=\"sk-item\"><div class=\"sk-label-container\"><div class=\"sk-label sk-toggleable\"><input class=\"sk-toggleable__control sk-hidden--visually\" id=\"5537bffe-ada5-4100-91fe-9172f0deb5ea\" type=\"checkbox\" ><label for=\"5537bffe-ada5-4100-91fe-9172f0deb5ea\" class=\"sk-toggleable__label sk-toggleable__label-arrow\">cat_pipe</label><div class=\"sk-toggleable__content\"><pre>&lt;sklearn.compose._column_transformer.make_column_selector object at 0x7f5563d10550&gt;</pre></div></div></div><div class=\"sk-serial\"><div class=\"sk-item\"><div class=\"sk-serial\"><div class=\"sk-item\"><div class=\"sk-estimator sk-toggleable\"><input class=\"sk-toggleable__control sk-hidden--visually\" id=\"1c629fcd-9617-4105-89a8-eb402ac01074\" type=\"checkbox\" ><label for=\"1c629fcd-9617-4105-89a8-eb402ac01074\" class=\"sk-toggleable__label sk-toggleable__label-arrow\">SimpleImputer</label><div class=\"sk-toggleable__content\"><pre>SimpleImputer(strategy=&#x27;most_frequent&#x27;)</pre></div></div></div><div class=\"sk-item\"><div class=\"sk-estimator sk-toggleable\"><input class=\"sk-toggleable__control sk-hidden--visually\" id=\"46acf3b0-9d91-4c17-8c8d-5a2f43f2ddca\" type=\"checkbox\" ><label for=\"46acf3b0-9d91-4c17-8c8d-5a2f43f2ddca\" class=\"sk-toggleable__label sk-toggleable__label-arrow\">OneHotEncoder</label><div class=\"sk-toggleable__content\"><pre>OneHotEncoder()</pre></div></div></div></div></div></div></div></div><div class=\"sk-parallel-item\"><div class=\"sk-item\"><div class=\"sk-label-container\"><div class=\"sk-label sk-toggleable\"><input class=\"sk-toggleable__control sk-hidden--visually\" id=\"2833ecac-7d8d-4df6-8e77-97da2811b0e2\" type=\"checkbox\" ><label for=\"2833ecac-7d8d-4df6-8e77-97da2811b0e2\" class=\"sk-toggleable__label sk-toggleable__label-arrow\">num_pipe</label><div class=\"sk-toggleable__content\"><pre>&lt;sklearn.compose._column_transformer.make_column_selector object at 0x7f5563d10310&gt;</pre></div></div></div><div class=\"sk-serial\"><div class=\"sk-item\"><div class=\"sk-serial\"><div class=\"sk-item\"><div class=\"sk-estimator sk-toggleable\"><input class=\"sk-toggleable__control sk-hidden--visually\" id=\"27ad022a-ebc5-4f77-a8f2-f07cf270df44\" type=\"checkbox\" ><label for=\"27ad022a-ebc5-4f77-a8f2-f07cf270df44\" class=\"sk-toggleable__label sk-toggleable__label-arrow\">SimpleImputer</label><div class=\"sk-toggleable__content\"><pre>SimpleImputer()</pre></div></div></div><div class=\"sk-item\"><div class=\"sk-estimator sk-toggleable\"><input class=\"sk-toggleable__control sk-hidden--visually\" id=\"a0141b25-f88d-4c6d-953c-75cf2b4d9c37\" type=\"checkbox\" ><label for=\"a0141b25-f88d-4c6d-953c-75cf2b4d9c37\" class=\"sk-toggleable__label sk-toggleable__label-arrow\">StandardScaler</label><div class=\"sk-toggleable__content\"><pre>StandardScaler()</pre></div></div></div></div></div></div></div></div><div class=\"sk-parallel-item\"><div class=\"sk-item\"><div class=\"sk-label-container\"><div class=\"sk-label sk-toggleable\"><input class=\"sk-toggleable__control sk-hidden--visually\" id=\"4892a41f-851b-48e8-8f7d-109f745a93c7\" type=\"checkbox\" ><label for=\"4892a41f-851b-48e8-8f7d-109f745a93c7\" class=\"sk-toggleable__label sk-toggleable__label-arrow\">remainder</label><div class=\"sk-toggleable__content\"><pre></pre></div></div></div><div class=\"sk-serial\"><div class=\"sk-item\"><div class=\"sk-estimator sk-toggleable\"><input class=\"sk-toggleable__control sk-hidden--visually\" id=\"88ef9a9a-7cde-4d2f-bb63-879156cd9d4f\" type=\"checkbox\" ><label for=\"88ef9a9a-7cde-4d2f-bb63-879156cd9d4f\" class=\"sk-toggleable__label sk-toggleable__label-arrow\">passthrough</label><div class=\"sk-toggleable__content\"><pre>passthrough</pre></div></div></div></div></div></div></div></div><div class=\"sk-item\"><div class=\"sk-estimator sk-toggleable\"><input class=\"sk-toggleable__control sk-hidden--visually\" id=\"fd00d5d6-9916-41e7-88e0-d632d7e5806b\" type=\"checkbox\" ><label for=\"fd00d5d6-9916-41e7-88e0-d632d7e5806b\" class=\"sk-toggleable__label sk-toggleable__label-arrow\">LogisticRegression</label><div class=\"sk-toggleable__content\"><pre>LogisticRegression(penalty=&#x27;elasticnet&#x27;, solver=&#x27;saga&#x27;, tol=0.01)</pre></div></div></div></div></div></div></div>"
            ]
          },
          "metadata": {}
        }
      ],
      "source": [
        "# TODO: set up your modeling pipeline\n",
        "pipe = Pipeline(steps=[('preproc', preprocess),\n",
        "('mdl', LogisticRegression(penalty='elasticnet', solver='saga', tol=0.01))])\n",
        "\n",
        "#pipe = Pipeline(steps=[('preproc', preproc),\n",
        "#                       ('mdl', GradientBoostingClassifier())])\n",
        "\n",
        "# pipe = Pipeline(steps=[('preproc', preproc),\n",
        "#                        ('mdl', RandomForestClassifier())])\n",
        "\n",
        "\n",
        "# Feel free to uncomment and edit the code below to visualize your overall pieline\n",
        "with config_context(display='diagram'):\n",
        "  display(pipe)\n"
      ]
    },
    {
      "cell_type": "markdown",
      "id": "32517c21-62d6-4d8c-81ad-aa08a3199ff3",
      "metadata": {
        "id": "32517c21-62d6-4d8c-81ad-aa08a3199ff3"
      },
      "source": [
        "## Cross-validation with hyperparameter tuning\n",
        "\n",
        "Now that we have our pipelines, we can now use this as part of cross validation and hyperparameter tuning."
      ]
    },
    {
      "cell_type": "markdown",
      "source": [
        "Logistic"
      ],
      "metadata": {
        "id": "_FDNQ28eqN9M"
      },
      "id": "_FDNQ28eqN9M"
    },
    {
      "cell_type": "code",
      "source": [
        "# TODO: set up your tuning grid \n",
        "# grid_search_lr.get_params().keys()\n",
        "tuning_grid_lr = {'mdl__l1_ratio' : np.linspace(0,1,5),\n",
        "                           'mdl__C': np.logspace(-1, 6, 3) }\n",
        "grid_search_lr = GridSearchCV(pipeLR, param_grid = tuning_grid_lr, cv = 5, return_train_score=True)"
      ],
      "metadata": {
        "id": "N5h6ZhqaqSAh"
      },
      "id": "N5h6ZhqaqSAh",
      "execution_count": null,
      "outputs": []
    },
    {
      "cell_type": "markdown",
      "source": [
        "Random Forest"
      ],
      "metadata": {
        "id": "LV-fslkNqbnG"
      },
      "id": "LV-fslkNqbnG"
    },
    {
      "cell_type": "code",
      "source": [
        "# TODO: set up your tuning grid\n",
        "# grid_search_rf.get_params().keys()\n",
        "tuning_grid_rf = param_grid = {'rf__n_estimators': [10, 50],\n",
        "                                        'rf__max_features': ['auto', 'sqrt', 'log2'],\n",
        "                                        'rf__max_depth' : [4,5,6],\n",
        "                                        'rf__criterion' :['gini', 'entropy']\n",
        "                                       }\n",
        "grid_search_rf = GridSearchCV(pipeRandForest, param_grid = tuning_grid_rf, cv = 5, return_train_score=True)"
      ],
      "metadata": {
        "id": "QTJVLm_sqdDC"
      },
      "id": "QTJVLm_sqdDC",
      "execution_count": null,
      "outputs": []
    },
    {
      "cell_type": "markdown",
      "source": [
        "Gradient Boosting"
      ],
      "metadata": {
        "id": "xZF1GE6RqlDg"
      },
      "id": "xZF1GE6RqlDg"
    },
    {
      "cell_type": "code",
      "source": [
        "# TODO: set up your tuning grid\n",
        "# grid_search_gb.get_params().keys()\n",
        "tuning_grid_gb = param_grid = {'gbc__learning_rate': [1, 0.5, 0.25],\n",
        "                                       'gbc__n_estimators': [64, 128, 256],\n",
        "                                       'gbc__max_depth': [2, 4],\n",
        "                                       'gbc__min_samples_split': [2, 4]\n",
        "                                      }\n",
        "grid_search_gb = GridSearchCV(pipeGradBoost, param_grid = tuning_grid_gb, cv = 5, return_train_score=True)"
      ],
      "metadata": {
        "id": "0iH-FxDcqnbm"
      },
      "id": "0iH-FxDcqnbm",
      "execution_count": null,
      "outputs": []
    },
    {
      "cell_type": "code",
      "execution_count": null,
      "id": "e8f2cb02-c5eb-4fd4-9331-050191081014",
      "metadata": {
        "id": "e8f2cb02-c5eb-4fd4-9331-050191081014",
        "colab": {
          "base_uri": "https://localhost:8080/"
        },
        "outputId": "1d33ca1b-c7ee-4ef1-8ad9-acd0169b6d5b"
      },
      "outputs": [
        {
          "output_type": "execute_result",
          "data": {
            "text/plain": [
              "GridSearchCV(cv=5,\n",
              "             estimator=Pipeline(steps=[('preproc',\n",
              "                                        ColumnTransformer(remainder='passthrough',\n",
              "                                                          transformers=[('cat_pipe',\n",
              "                                                                         Pipeline(steps=[('cat_impute',\n",
              "                                                                                          SimpleImputer(strategy='most_frequent')),\n",
              "                                                                                         ('onehot_cat',\n",
              "                                                                                          OneHotEncoder())]),\n",
              "                                                                         <sklearn.compose._column_transformer.make_column_selector object at 0x7f5563d10550>),\n",
              "                                                                        ('num_pipe',\n",
              "                                                                         Pipeline(steps=[('impute_num',\n",
              "                                                                                          SimpleImputer()),\n",
              "                                                                                         ('scale_num',\n",
              "                                                                                          StandardScaler())]),\n",
              "                                                                         <sklearn.compose._column_transformer.make_column_selector object at 0x7f5563d10310>)])),\n",
              "                                       ('gbc', GradientBoostingClassifier())]),\n",
              "             param_grid={'gbc__learning_rate': [1, 0.5, 0.25],\n",
              "                         'gbc__max_depth': [2, 4],\n",
              "                         'gbc__min_samples_split': [2, 4],\n",
              "                         'gbc__n_estimators': [64, 128, 256]},\n",
              "             return_train_score=True)"
            ]
          },
          "metadata": {},
          "execution_count": 496
        }
      ],
      "source": [
        "# TODO: fit your model\n",
        "# Fit Logistic\n",
        "grid_search_lr.fit(X_train, y_train)\n",
        "# Fit RandomRainForest\n",
        "grid_search_rf.fit(X_train, y_train)\n",
        "# Fit Gradient Boosting\n",
        "grid_search_gb.fit(X_train, y_train)"
      ]
    },
    {
      "cell_type": "markdown",
      "source": [
        "# Best performing model parameters"
      ],
      "metadata": {
        "id": "CBLhZ2r7tfC1"
      },
      "id": "CBLhZ2r7tfC1"
    },
    {
      "cell_type": "markdown",
      "source": [
        "Random Forest"
      ],
      "metadata": {
        "id": "dvMs5FBCttj_"
      },
      "id": "dvMs5FBCttj_"
    },
    {
      "cell_type": "code",
      "execution_count": null,
      "id": "69f4874e-0de3-462f-95ef-d01ba648f7a4",
      "metadata": {
        "id": "69f4874e-0de3-462f-95ef-d01ba648f7a4",
        "colab": {
          "base_uri": "https://localhost:8080/"
        },
        "outputId": "b4c6c6de-f63d-4139-f43b-725147c040a3"
      },
      "outputs": [
        {
          "output_type": "stream",
          "name": "stdout",
          "text": [
            "RandomForest best score: 0.8557260386672152\n"
          ]
        },
        {
          "output_type": "execute_result",
          "data": {
            "text/plain": [
              "{'rf__criterion': 'gini',\n",
              " 'rf__max_depth': 6,\n",
              " 'rf__max_features': 'sqrt',\n",
              " 'rf__n_estimators': 50}"
            ]
          },
          "metadata": {},
          "execution_count": 497
        }
      ],
      "source": [
        "# TODO: find the best performing model parameters and their values\n",
        "#print(grid_search.best_score_)\n",
        "#grid_search.best_params_\n",
        "\n",
        "print(\"RandomForest best score:\", grid_search_rf.best_score_)\n",
        "grid_search_rf.best_params_"
      ]
    },
    {
      "cell_type": "markdown",
      "source": [
        "LogisticRegression"
      ],
      "metadata": {
        "id": "dZcjEub5tyOb"
      },
      "id": "dZcjEub5tyOb"
    },
    {
      "cell_type": "code",
      "source": [
        "print(\"LogisticRegression best score:\", grid_search_lr.best_score_)\n",
        "grid_search_lr.best_params_\n"
      ],
      "metadata": {
        "id": "GpoCa8lZtWOA",
        "colab": {
          "base_uri": "https://localhost:8080/"
        },
        "outputId": "0eb35e18-4900-475f-f392-03b12d5c8ba4"
      },
      "id": "GpoCa8lZtWOA",
      "execution_count": null,
      "outputs": [
        {
          "output_type": "stream",
          "name": "stdout",
          "text": [
            "LogisticRegression best score: 0.8711435623200329\n"
          ]
        },
        {
          "output_type": "execute_result",
          "data": {
            "text/plain": [
              "{'mdl__C': 0.1, 'mdl__l1_ratio': 0.0}"
            ]
          },
          "metadata": {},
          "execution_count": 498
        }
      ]
    },
    {
      "cell_type": "markdown",
      "source": [
        "GradientBoost"
      ],
      "metadata": {
        "id": "wtL5cDOwt1v8"
      },
      "id": "wtL5cDOwt1v8"
    },
    {
      "cell_type": "code",
      "source": [
        "print(\"Grid search GradientBoost best score:\", grid_search_gb.best_score_)\n",
        "grid_search_gb.best_params_"
      ],
      "metadata": {
        "id": "QK-UfYcDtWjU",
        "colab": {
          "base_uri": "https://localhost:8080/"
        },
        "outputId": "64c7159d-9287-4b9a-f608-117ab880e9b7"
      },
      "id": "QK-UfYcDtWjU",
      "execution_count": null,
      "outputs": [
        {
          "output_type": "stream",
          "name": "stdout",
          "text": [
            "Grid search GradientBoost best score: 0.8566269025092556\n"
          ]
        },
        {
          "output_type": "execute_result",
          "data": {
            "text/plain": [
              "{'gbc__learning_rate': 0.5,\n",
              " 'gbc__max_depth': 2,\n",
              " 'gbc__min_samples_split': 2,\n",
              " 'gbc__n_estimators': 64}"
            ]
          },
          "metadata": {},
          "execution_count": 499
        }
      ]
    },
    {
      "cell_type": "markdown",
      "id": "289be208-bf90-4699-951e-b09a0289aa9d",
      "metadata": {
        "id": "289be208-bf90-4699-951e-b09a0289aa9d"
      },
      "source": [
        "## Final fit\n",
        "\n",
        "The final fit here is already present in the generated model due to the way we set our parameters in the grid search. If we want to look at the performance, we can do so. Here is a non-helpful description of the best model:"
      ]
    },
    {
      "cell_type": "markdown",
      "source": [
        "Gradient Boost"
      ],
      "metadata": {
        "id": "Gcnw6KAzura0"
      },
      "id": "Gcnw6KAzura0"
    },
    {
      "cell_type": "code",
      "source": [
        "# TODO: print your best estimator (pipeline)\n",
        "grid_search_gb.best_estimator_"
      ],
      "metadata": {
        "id": "I0hpT20qu2ab",
        "colab": {
          "base_uri": "https://localhost:8080/"
        },
        "outputId": "1e9c7131-0c58-475e-9d8c-1983d58f5e53"
      },
      "id": "I0hpT20qu2ab",
      "execution_count": null,
      "outputs": [
        {
          "output_type": "execute_result",
          "data": {
            "text/plain": [
              "Pipeline(steps=[('preproc',\n",
              "                 ColumnTransformer(remainder='passthrough',\n",
              "                                   transformers=[('cat_pipe',\n",
              "                                                  Pipeline(steps=[('cat_impute',\n",
              "                                                                   SimpleImputer(strategy='most_frequent')),\n",
              "                                                                  ('onehot_cat',\n",
              "                                                                   OneHotEncoder())]),\n",
              "                                                  <sklearn.compose._column_transformer.make_column_selector object at 0x7f5563de0d50>),\n",
              "                                                 ('num_pipe',\n",
              "                                                  Pipeline(steps=[('impute_num',\n",
              "                                                                   SimpleImputer()),\n",
              "                                                                  ('scale_num',\n",
              "                                                                   StandardScaler())]),\n",
              "                                                  <sklearn.compose._column_transformer.make_column_selector object at 0x7f5563de0550>)])),\n",
              "                ('gbc',\n",
              "                 GradientBoostingClassifier(learning_rate=0.5, max_depth=2,\n",
              "                                            n_estimators=64))])"
            ]
          },
          "metadata": {},
          "execution_count": 500
        }
      ]
    },
    {
      "cell_type": "markdown",
      "source": [
        "RandomForest"
      ],
      "metadata": {
        "id": "kw09FQonuzmx"
      },
      "id": "kw09FQonuzmx"
    },
    {
      "cell_type": "code",
      "source": [
        "# TODO: print your best estimator (pipeline)\n",
        "grid_search_rf.best_estimator_"
      ],
      "metadata": {
        "id": "SPn4YiojuvPT",
        "colab": {
          "base_uri": "https://localhost:8080/"
        },
        "outputId": "8d7696a9-d9a4-4bbe-bb20-511e97f485a8"
      },
      "id": "SPn4YiojuvPT",
      "execution_count": null,
      "outputs": [
        {
          "output_type": "execute_result",
          "data": {
            "text/plain": [
              "Pipeline(steps=[('preproc',\n",
              "                 ColumnTransformer(remainder='passthrough',\n",
              "                                   transformers=[('cat_pipe',\n",
              "                                                  Pipeline(steps=[('cat_impute',\n",
              "                                                                   SimpleImputer(strategy='most_frequent')),\n",
              "                                                                  ('onehot_cat',\n",
              "                                                                   OneHotEncoder())]),\n",
              "                                                  <sklearn.compose._column_transformer.make_column_selector object at 0x7f5563e40990>),\n",
              "                                                 ('num_pipe',\n",
              "                                                  Pipeline(steps=[('impute_num',\n",
              "                                                                   SimpleImputer()),\n",
              "                                                                  ('scale_num',\n",
              "                                                                   StandardScaler())]),\n",
              "                                                  <sklearn.compose._column_transformer.make_column_selector object at 0x7f5563e753d0>)])),\n",
              "                ('rf',\n",
              "                 RandomForestClassifier(max_depth=6, max_features='sqrt',\n",
              "                                        n_estimators=50))])"
            ]
          },
          "metadata": {},
          "execution_count": 501
        }
      ]
    },
    {
      "cell_type": "markdown",
      "source": [
        "Logistic"
      ],
      "metadata": {
        "id": "DqIWEbJFuts4"
      },
      "id": "DqIWEbJFuts4"
    },
    {
      "cell_type": "code",
      "source": [
        "# TODO: print your best estimator (pipeline)\n",
        "grid_search_lr.best_estimator_"
      ],
      "metadata": {
        "id": "PXq6xGkMvB_3",
        "colab": {
          "base_uri": "https://localhost:8080/"
        },
        "outputId": "bec45950-90f4-4da1-de0a-e2028adf074e"
      },
      "id": "PXq6xGkMvB_3",
      "execution_count": null,
      "outputs": [
        {
          "output_type": "execute_result",
          "data": {
            "text/plain": [
              "Pipeline(steps=[('preproc',\n",
              "                 ColumnTransformer(remainder='passthrough',\n",
              "                                   transformers=[('cat_pipe',\n",
              "                                                  Pipeline(steps=[('cat_impute',\n",
              "                                                                   SimpleImputer(strategy='most_frequent')),\n",
              "                                                                  ('onehot_cat',\n",
              "                                                                   OneHotEncoder())]),\n",
              "                                                  <sklearn.compose._column_transformer.make_column_selector object at 0x7f556429dbd0>),\n",
              "                                                 ('num_pipe',\n",
              "                                                  Pipeline(steps=[('impute_num',\n",
              "                                                                   SimpleImputer()),\n",
              "                                                                  ('scale_num',\n",
              "                                                                   StandardScaler())]),\n",
              "                                                  <sklearn.compose._column_transformer.make_column_selector object at 0x7f5563e217d0>)])),\n",
              "                ('mdl',\n",
              "                 LogisticRegression(C=0.1, l1_ratio=0.0, penalty='elasticnet',\n",
              "                                    solver='saga', tol=0.01))])"
            ]
          },
          "metadata": {},
          "execution_count": 502
        }
      ]
    },
    {
      "cell_type": "markdown",
      "id": "3feb06cf-bf30-4383-9449-4153c0fa996e",
      "metadata": {
        "id": "3feb06cf-bf30-4383-9449-4153c0fa996e"
      },
      "source": [
        "## Variable importance\n",
        "\n",
        "Now we assess the importance in the selected model to reveal any potential insights."
      ]
    },
    {
      "cell_type": "markdown",
      "source": [
        "RandomForest"
      ],
      "metadata": {
        "id": "K0QyAWeNvgdS"
      },
      "id": "K0QyAWeNvgdS"
    },
    {
      "cell_type": "code",
      "source": [
        "# TODO: feel free to print out the target classes\n",
        "grid_search_rf.classes_"
      ],
      "metadata": {
        "id": "U6UkYww1vsyg",
        "colab": {
          "base_uri": "https://localhost:8080/"
        },
        "outputId": "1ec9216e-a8f7-442c-ec49-4f5920f2bacd"
      },
      "id": "U6UkYww1vsyg",
      "execution_count": null,
      "outputs": [
        {
          "output_type": "execute_result",
          "data": {
            "text/plain": [
              "array(['No', 'Yes'], dtype=object)"
            ]
          },
          "metadata": {},
          "execution_count": 503
        }
      ]
    },
    {
      "cell_type": "code",
      "source": [
        "# TODO: feel free to uncomment and edit the code below to obtain your feature weights\n",
        "\n",
        "vip_rf = grid_search_rf.best_estimator_['rf']\n",
        "vip_rf"
      ],
      "metadata": {
        "id": "Pv6AvJuMvspq",
        "colab": {
          "base_uri": "https://localhost:8080/"
        },
        "outputId": "ccd30804-d1fb-48a8-cc93-6b80f6fba2cd"
      },
      "id": "Pv6AvJuMvspq",
      "execution_count": null,
      "outputs": [
        {
          "output_type": "execute_result",
          "data": {
            "text/plain": [
              "RandomForestClassifier(max_depth=6, max_features='sqrt', n_estimators=50)"
            ]
          },
          "metadata": {},
          "execution_count": 504
        }
      ]
    },
    {
      "cell_type": "code",
      "execution_count": null,
      "id": "7ebdc166-bdb7-4863-b46f-165f1aec7a7d",
      "metadata": {
        "id": "7ebdc166-bdb7-4863-b46f-165f1aec7a7d"
      },
      "outputs": [],
      "source": [
        "# TODO: feel free to uncomment and edit the code below to obtain your feature importance graph. \n",
        "# Did the graph surprise you? What features did you think were more important?\n",
        "\n",
        "#get names in correct preproc order\n",
        "cat_names = grid_search_rf.best_estimator_.named_steps['preproc'].transformers_[0][1].named_steps['onehot_cat'].get_feature_names_out()\n",
        "num_names = grid_search_rf.best_estimator_.named_steps['preproc'].transformers_[1][2]\n",
        "\n",
        "#create df with vip info\n",
        "#coef_info = pd.DataFrame({'feat_names':np.hstack([cat_names, num_names]), 'vip': vip_rf})\n",
        "\n",
        "#get sign and magnitude information\n",
        "#coef_info = coef_info.assign(coef_mag = abs(coef_info['vip']),\n",
        "                             #coef_sign = np.sign(coef_info['vip']))\n",
        "\n",
        "#sort and plot\n",
        "#coef_info = coef_info.set_index('feat_names').sort_values(by='coef_mag', ascending=False)\n",
        "#plt.figure(figsize = (17,15))\n",
        "#sns.barplot(y=coef_info.index, x='coef_mag', hue='coef_sign', data=coef_info, orient='h', dodge=False)"
      ]
    },
    {
      "cell_type": "markdown",
      "source": [
        "Gradient"
      ],
      "metadata": {
        "id": "CDylHLy2wuQz"
      },
      "id": "CDylHLy2wuQz"
    },
    {
      "cell_type": "code",
      "source": [
        "# TODO: feel free to print out the target classes\n",
        "grid_search_gb.classes_"
      ],
      "metadata": {
        "id": "bGsKEniNwzLY",
        "colab": {
          "base_uri": "https://localhost:8080/"
        },
        "outputId": "825ea450-1890-4b4c-c84c-76f3eff2332b"
      },
      "id": "bGsKEniNwzLY",
      "execution_count": null,
      "outputs": [
        {
          "output_type": "execute_result",
          "data": {
            "text/plain": [
              "array(['No', 'Yes'], dtype=object)"
            ]
          },
          "metadata": {},
          "execution_count": 506
        }
      ]
    },
    {
      "cell_type": "code",
      "source": [
        "# TODO: feel free to uncomment and edit the code below to obtain your feature weights\n",
        "\n",
        "vip_gb = grid_search_gb.best_estimator_['gbc']\n",
        "vip_gb"
      ],
      "metadata": {
        "id": "zi0npwv-w5Kd",
        "colab": {
          "base_uri": "https://localhost:8080/"
        },
        "outputId": "b26e8060-b389-46bc-9d12-bc6c50f5ef65"
      },
      "id": "zi0npwv-w5Kd",
      "execution_count": null,
      "outputs": [
        {
          "output_type": "execute_result",
          "data": {
            "text/plain": [
              "GradientBoostingClassifier(learning_rate=0.5, max_depth=2, n_estimators=64)"
            ]
          },
          "metadata": {},
          "execution_count": 507
        }
      ]
    },
    {
      "cell_type": "code",
      "source": [
        "# TODO: feel free to uncomment and edit the code below to obtain your feature importance graph. \n",
        "# Did the graph surprise you? What features did you think were more important?\n",
        "\n",
        "#get names in correct preproc order\n",
        "cat_names = grid_search_gb.best_estimator_.named_steps['preproc'].transformers_[0][1].named_steps['onehot_cat'].get_feature_names_out()\n",
        "num_names = grid_search_gb.best_estimator_.named_steps['preproc'].transformers_[1][2]\n",
        "\n",
        "#create df with vip info\n",
        "#coef_info = pd.DataFrame({'feat_names':np.hstack([cat_names, num_names]), 'vip': vip_gb})\n",
        "\n",
        "#get sign and magnitude information\n",
        "#coef_info = coef_info.assign(coef_mag = abs(coef_info['vip']),\n",
        " #                            coef_sign = np.sign(coef_info['vip']))\n",
        "\n",
        "#sort and plot\n",
        "#coef_info = coef_info.set_index('feat_names').sort_values(by='coef_mag', ascending=False)\n",
        "#plt.figure(figsize = (17,15))\n",
        "#sns.barplot(y=coef_info.index, x='coef_mag', hue='coef_sign', data=coef_info, orient='h', dodge=False)"
      ],
      "metadata": {
        "id": "fTHFJk2jxAX6"
      },
      "id": "fTHFJk2jxAX6",
      "execution_count": null,
      "outputs": []
    },
    {
      "cell_type": "markdown",
      "source": [
        "Logistic"
      ],
      "metadata": {
        "id": "lyOamIqXxw8e"
      },
      "id": "lyOamIqXxw8e"
    },
    {
      "cell_type": "code",
      "source": [
        "# TODO: feel free to print out the target classes\n",
        "grid_search_gb.classes_"
      ],
      "metadata": {
        "id": "b1OHcAcpx8fh",
        "colab": {
          "base_uri": "https://localhost:8080/"
        },
        "outputId": "27e6d3cc-d1eb-4100-f0dc-c87aaff8dce2"
      },
      "id": "b1OHcAcpx8fh",
      "execution_count": null,
      "outputs": [
        {
          "output_type": "execute_result",
          "data": {
            "text/plain": [
              "array(['No', 'Yes'], dtype=object)"
            ]
          },
          "metadata": {},
          "execution_count": 509
        }
      ]
    },
    {
      "cell_type": "code",
      "source": [
        "# TODO: feel free to uncomment and edit the code below to obtain your feature weights\n",
        "\n",
        "vip_lr = grid_search_lr.best_estimator_['mdl'].coef_[0]\n",
        "vip_lr"
      ],
      "metadata": {
        "id": "-199a_b-yBXO",
        "colab": {
          "base_uri": "https://localhost:8080/"
        },
        "outputId": "b440be98-ab11-47de-d7c4-70390c347691"
      },
      "id": "-199a_b-yBXO",
      "execution_count": null,
      "outputs": [
        {
          "output_type": "execute_result",
          "data": {
            "text/plain": [
              "array([-0.50509241,  0.40689053, -0.15227485,  0.00545222, -0.34074152,\n",
              "        0.08481257,  0.07692836, -0.25750648,  0.05977044, -0.16244001,\n",
              "       -0.2180093 ,  0.25078028, -0.28097983,  0.03050311, -0.23562599,\n",
              "        0.0440498 ,  0.3518692 , -0.01618581, -0.18177224, -0.13941151,\n",
              "       -0.24156488, -0.01246073,  0.18062543, -0.29102211, -0.28513589,\n",
              "        0.32568128, -0.25047673, -0.90669045,  0.65621373, -0.08515109,\n",
              "       -0.16532564,  0.09167602, -0.11283771,  0.07576772, -0.30508275,\n",
              "       -0.28561556, -0.16027382,  0.28844544,  0.00588472,  0.        ,\n",
              "       -0.04885063, -0.3023789 ,  0.00781065, -0.31785229, -0.2918512 ,\n",
              "       -0.34836329, -0.17684499, -0.01253857,  0.34415371, -0.03925075,\n",
              "       -0.04345276, -0.21125897,  0.        , -0.15313036, -0.11412641,\n",
              "       -0.20426999, -0.27921434,  0.27289499, -0.36851143,  0.50095736,\n",
              "       -0.45199206])"
            ]
          },
          "metadata": {},
          "execution_count": 510
        }
      ]
    },
    {
      "cell_type": "code",
      "source": [
        "# TODO: feel free to uncomment and edit the code below to obtain your feature importance graph. \n",
        "# Did the graph surprise you? What features did you think were more important?\n",
        "\n",
        "#get names in correct preproc order\n",
        "cat_names = grid_search_lr.best_estimator_.named_steps['preproc'].transformers_[0][1].named_steps['onehot_cat'].get_feature_names_out()\n",
        "num_names = grid_search_lr.best_estimator_.named_steps['preproc'].transformers_[1][2]\n",
        "\n",
        "print(cat_names)\n",
        "print(num_names)\n",
        "\n",
        "#create df with vip info\n",
        "coef_info = pd.DataFrame({'feat_names':np.hstack([cat_names, num_names]), 'vip': vip_lr})\n",
        "\n",
        "#get sign and magnitude information\n",
        "coef_info = coef_info.assign(coef_mag = abs(coef_info['vip']),\n",
        "                             coef_sign = np.sign(coef_info['vip']))\n",
        "\n",
        "#sort and plot\n",
        "coef_info = coef_info.set_index('feat_names').sort_values(by='coef_mag', ascending=False)\n",
        "plt.figure(figsize = (17,15))\n",
        "sns.barplot(y=coef_info.index, x='coef_mag', hue='coef_sign', data=coef_info, orient='h', dodge=False)"
      ],
      "metadata": {
        "id": "4xKgCkrJxzrM",
        "colab": {
          "base_uri": "https://localhost:8080/",
          "height": 1000
        },
        "outputId": "be127da1-a07f-4afd-cde0-b1f22e6d79cb"
      },
      "id": "4xKgCkrJxzrM",
      "execution_count": null,
      "outputs": [
        {
          "output_type": "stream",
          "name": "stdout",
          "text": [
            "['x0_Non-Travel' 'x0_Travel_Frequently' 'x0_Travel_Rarely'\n",
            " 'x1_Human Resources' 'x1_Research & Development' 'x1_Sales'\n",
            " 'x2_Human Resources' 'x2_Life Sciences' 'x2_Marketing' 'x2_Medical'\n",
            " 'x2_Other' 'x2_Technical Degree' 'x3_Female' 'x3_Male'\n",
            " 'x4_Healthcare Representative' 'x4_Human Resources'\n",
            " 'x4_Laboratory Technician' 'x4_Manager' 'x4_Manufacturing Director'\n",
            " 'x4_Research Director' 'x4_Research Scientist' 'x4_Sales Executive'\n",
            " 'x4_Sales Representative' 'x5_Divorced' 'x5_Married' 'x5_Single' 'x6_Y'\n",
            " 'x7_No' 'x7_Yes' 'x8_College Degree' 'x8_No Degree' 'x9_Boomer'\n",
            " 'x9_Gen X' 'x9_Gen Z' 'x9_Millenial']\n",
            "['Age', 'DailyRate', 'DistanceFromHome', 'Education', 'EmployeeCount', 'EmployeeNumber', 'EnvironmentSatisfaction', 'HourlyRate', 'JobInvolvement', 'JobLevel', 'JobSatisfaction', 'MonthlyIncome', 'MonthlyRate', 'NumCompaniesWorked', 'PercentSalaryHike', 'PerformanceRating', 'RelationshipSatisfaction', 'StandardHours', 'StockOptionLevel', 'TotalWorkingYears', 'TrainingTimesLastYear', 'WorkLifeBalance', 'YearsAtCompany', 'YearsInCurrentRole', 'YearsSinceLastPromotion', 'YearsWithCurrManager']\n"
          ]
        },
        {
          "output_type": "execute_result",
          "data": {
            "text/plain": [
              "<matplotlib.axes._subplots.AxesSubplot at 0x7f5563e4b810>"
            ]
          },
          "metadata": {},
          "execution_count": 511
        },
        {
          "output_type": "display_data",
          "data": {
            "text/plain": [
              "<Figure size 1224x1080 with 1 Axes>"
            ],
            "image/png": "[encoded data removed]"
          },
          "metadata": {
            "needs_background": "light"
          }
        }
      ]
    },
    {
      "cell_type": "markdown",
      "id": "aa95eb91-77ec-4d33-a039-b2f9f95097fb",
      "metadata": {
        "id": "aa95eb91-77ec-4d33-a039-b2f9f95097fb"
      },
      "source": [
        "## Performance metrics on test data\n",
        "\n",
        "\n",
        "Here, we can see the performance of the model, which is pretty nice! We can also look into different scores specifically for more insight into the performance."
      ]
    },
    {
      "cell_type": "markdown",
      "source": [
        "Logistic"
      ],
      "metadata": {
        "id": "IZ-NvJtB0lmD"
      },
      "id": "IZ-NvJtB0lmD"
    },
    {
      "cell_type": "code",
      "source": [
        "# TODO: print your classification report of your model\n",
        "print(classification_report(y_test, grid_search_lr.best_estimator_.predict(X_test)))"
      ],
      "metadata": {
        "id": "s23KSnBF0m4V",
        "colab": {
          "base_uri": "https://localhost:8080/"
        },
        "outputId": "b3b5d942-a9ed-461d-b2a8-b61197eaaaa5"
      },
      "id": "s23KSnBF0m4V",
      "execution_count": null,
      "outputs": [
        {
          "output_type": "stream",
          "name": "stdout",
          "text": [
            "              precision    recall  f1-score   support\n",
            "\n",
            "          No       0.90      0.98      0.94       309\n",
            "         Yes       0.79      0.46      0.58        59\n",
            "\n",
            "    accuracy                           0.89       368\n",
            "   macro avg       0.85      0.72      0.76       368\n",
            "weighted avg       0.89      0.89      0.88       368\n",
            "\n"
          ]
        }
      ]
    },
    {
      "cell_type": "code",
      "source": [
        "# TODO: plot the confusion matrix graph\n",
        "confMatrix_lr = confusion_matrix(y_test, grid_search_lr.best_estimator_.predict(X_test))\n",
        "confMatrixDisplay = ConfusionMatrixDisplay(confusion_matrix=confMatrix_lr, \n",
        "                                           display_labels=grid_search_lr.classes_)\n",
        "confMatrixDisplay.plot()\n",
        "plt.show()"
      ],
      "metadata": {
        "id": "9qnA2m8f0nEC",
        "colab": {
          "base_uri": "https://localhost:8080/",
          "height": 282
        },
        "outputId": "db4bcd13-2684-43d0-cdf8-58b8ba811021"
      },
      "id": "9qnA2m8f0nEC",
      "execution_count": null,
      "outputs": [
        {
          "output_type": "display_data",
          "data": {
            "text/plain": [
              "<Figure size 432x288 with 2 Axes>"
            ],
            "image/png": "[encoded data removed]"
          },
          "metadata": {
            "needs_background": "light"
          }
        }
      ]
    },
    {
      "cell_type": "markdown",
      "source": [
        "Gradient"
      ],
      "metadata": {
        "id": "lpC_vMzh0ncR"
      },
      "id": "lpC_vMzh0ncR"
    },
    {
      "cell_type": "code",
      "source": [
        "# TODO: print your classification report of your model\n",
        "print(classification_report(y_test, grid_search_gb.best_estimator_.predict(X_test)))"
      ],
      "metadata": {
        "id": "sVV5Wr-90o5x",
        "colab": {
          "base_uri": "https://localhost:8080/"
        },
        "outputId": "044e672e-3fde-480e-ddf1-c39a0f9d5524"
      },
      "id": "sVV5Wr-90o5x",
      "execution_count": null,
      "outputs": [
        {
          "output_type": "stream",
          "name": "stdout",
          "text": [
            "              precision    recall  f1-score   support\n",
            "\n",
            "          No       0.89      0.94      0.92       309\n",
            "         Yes       0.57      0.39      0.46        59\n",
            "\n",
            "    accuracy                           0.86       368\n",
            "   macro avg       0.73      0.67      0.69       368\n",
            "weighted avg       0.84      0.86      0.84       368\n",
            "\n"
          ]
        }
      ]
    },
    {
      "cell_type": "code",
      "source": [
        "# TODO: plot the confusion matrix graph\n",
        "confMatrix_gb = confusion_matrix(y_test, grid_search_gb.best_estimator_.predict(X_test))\n",
        "confMatrixDisplay = ConfusionMatrixDisplay(confusion_matrix=confMatrix_gb, \n",
        "                                           display_labels=grid_search_gb.classes_)\n",
        "confMatrixDisplay.plot()\n",
        "plt.show()"
      ],
      "metadata": {
        "id": "cbxPjVTz0pB1",
        "colab": {
          "base_uri": "https://localhost:8080/",
          "height": 279
        },
        "outputId": "5e58823b-1232-4956-ef1a-210187728cf0"
      },
      "id": "cbxPjVTz0pB1",
      "execution_count": null,
      "outputs": [
        {
          "output_type": "display_data",
          "data": {
            "text/plain": [
              "<Figure size 432x288 with 2 Axes>"
            ],
            "image/png": "[encoded data removed]"
          },
          "metadata": {
            "needs_background": "light"
          }
        }
      ]
    },
    {
      "cell_type": "markdown",
      "source": [
        "Random Forest"
      ],
      "metadata": {
        "id": "nPIZj-0n0pSP"
      },
      "id": "nPIZj-0n0pSP"
    },
    {
      "cell_type": "code",
      "source": [
        "# TODO: print your classification report of your model\n",
        "print(classification_report(y_test, grid_search_rf.best_estimator_.predict(X_test)))"
      ],
      "metadata": {
        "id": "hh97WtWg003Y",
        "colab": {
          "base_uri": "https://localhost:8080/"
        },
        "outputId": "6072bac6-e72c-4669-d96e-ed2e6734006c"
      },
      "id": "hh97WtWg003Y",
      "execution_count": null,
      "outputs": [
        {
          "output_type": "stream",
          "name": "stdout",
          "text": [
            "              precision    recall  f1-score   support\n",
            "\n",
            "          No       0.86      0.98      0.92       309\n",
            "         Yes       0.64      0.15      0.25        59\n",
            "\n",
            "    accuracy                           0.85       368\n",
            "   macro avg       0.75      0.57      0.58       368\n",
            "weighted avg       0.82      0.85      0.81       368\n",
            "\n"
          ]
        }
      ]
    },
    {
      "cell_type": "code",
      "source": [
        "# TODO: plot the confusion matrix graph\n",
        "confMatrix_rf = confusion_matrix(y_test, grid_search_rf.best_estimator_.predict(X_test))\n",
        "confMatrixDisplay = ConfusionMatrixDisplay(confusion_matrix=confMatrix_rf, \n",
        "                                           display_labels=grid_search_rf.classes_)\n",
        "confMatrixDisplay.plot()\n",
        "plt.show()"
      ],
      "metadata": {
        "id": "PqRggOiD00_q",
        "colab": {
          "base_uri": "https://localhost:8080/",
          "height": 280
        },
        "outputId": "8985af97-cadc-45ca-d29a-cb49f65ad5d2"
      },
      "id": "PqRggOiD00_q",
      "execution_count": null,
      "outputs": [
        {
          "output_type": "display_data",
          "data": {
            "text/plain": [
              "<Figure size 432x288 with 2 Axes>"
            ],
            "image/png": "[encoded data removed]"
          },
          "metadata": {
            "needs_background": "light"
          }
        }
      ]
    },
    {
      "cell_type": "markdown",
      "source": [
        "# Calculate the financial value of your models based on the following costs and benefits\n",
        "\n",
        "*   Cost of replacing an employee is $120,000 (RC)\n",
        "\n",
        "*   Cost of intervention $2,000 used on each employee predicted to leave (IC)\n",
        "\n",
        "*   Intervention success rate is 20% (SR)\n",
        "\n",
        "**Compare models on value, what is the best model according to your value metric?**\n"
      ],
      "metadata": {
        "id": "ckdT90JwHF9E"
      },
      "id": "ckdT90JwHF9E"
    },
    {
      "cell_type": "code",
      "source": [
        "cost = np.array([[0, 2000], [120000, 2000 - 120000*0.2]])\n",
        "# No features\n",
        "total_cost_rf = np.multiply(confMatrix_rf, cost).sum()\n",
        "print('Random Forest =', \"${:,}\".format(total_cost_rf))\n",
        "print(\"TN:\", 305, \"FP:\", 4, \"FN:\", 51, \"TP:\", 8 )\n",
        "print(\"Accuracy:\", 85, \"%\")\n",
        "print(\"\\n\")\n",
        "\n",
        "total_cost_gb = np.multiply(confMatrix_gb, cost).sum()\n",
        "print('Gradient Boost =', \"${:,}\".format(total_cost_gb))\n",
        "print(\"TN:\", 295, \"FP:\", 14, \"FN:\", 38, \"TP:\", 21 )\n",
        "print(\"Accuracy:\", 86, \"%\")\n",
        "print(\"\\n\")\n",
        "\n",
        "total_cost_lr = np.multiply(confMatrix_lr, cost).sum()\n",
        "print('Logistic Regression =', \"${:,}\".format(total_cost_lr))\n",
        "print(\"TN:\", 303, \"FP:\", 6, \"FN:\", 50, \"TP:\", 9 )\n",
        "print(\"Accuracy:\", 90, \"%\")\n",
        "print(\"\\n\")\n",
        "\n",
        "#With Fature 1 College\n",
        "total_cost_with_college_feature_rf = 6094000\n",
        "savings_rf_college = total_cost_with_college_feature_rf - total_cost_rf\n",
        "print(\"Random w/College Feature\", \"${:,.2f}\".format(total_cost_with_college_feature_rf))\n",
        "print(\"Random w/College Feature Savings\", \"${:,.2f}\".format(total_cost_with_college_feature_rf-total_cost_rf))\n",
        "print(\"TN:\", 305, \"FP:\", 4, \"FN:\", 52, \"TP:\", 7 )\n",
        "print(\"Accuracy:\", 85, \"%\")\n",
        "print(\"\\n\")\n",
        "total_cost_with_college_feature_gb = 3714000\n",
        "savings_gb_college = total_cost_with_college_feature_gb - total_cost_gb\n",
        "print(\"Gradient w/College Feature\", \"${:,.2f}\".format(total_cost_with_college_feature_gb))\n",
        "print(\"Gradient w/College Feature Savings\", \"${:,.2f}\".format(total_cost_with_college_feature_gb-total_cost_gb))\n",
        "print(\"TN:\", 288, \"FP:\", 21, \"FN:\", 35, \"TP:\", 24 )\n",
        "print(\"Accuracy:\", 85, \"%\")\n",
        "print(\"\\n\")\n",
        "total_cost_with_college_feature_lr = 3115000\n",
        "savings_lr_college = total_cost_with_college_feature_lr - total_cost_lr\n",
        "print(\"Logistic w/College Feature\", \"${:,.2f}\".format(total_cost_with_college_feature_lr))\n",
        "print(\"Logistic w/College Feature Savings\", \"${:,.2f}\".format(total_cost_with_college_feature_lr-total_cost_lr))\n",
        "print(\"TN:\", 303, \"FP:\", 6, \"FN:\", 31, \"TP:\", 28 )\n",
        "print(\"Accuracy:\", 90, \"%\")\n",
        "print(\"\\n\")\n",
        "#With Fature 2 Generation\n",
        "total_cost_with_generation_feature_rf = 5959000\n",
        "savings_rf_generation = total_cost_with_generation_feature_rf - total_cost_rf\n",
        "print(\"Random w/Generation Feature\", \"${:,.2f}\".format(total_cost_with_college_feature_rf))\n",
        "print(\"Random w/Generation Feature Savings\", \"${:,.2f}\".format(total_cost_with_college_feature_rf-total_cost_rf))\n",
        "print(\"TN:\", 306, \"FP:\", 3, \"FN:\", 51, \"TP:\", 8 )\n",
        "print(\"Accuracy:\", 85, \"%\")\n",
        "print(\"\\n\")\n",
        "\n",
        "total_cost_with_generation_feature_gb = 3848000\n",
        "savings_gb_generation = total_cost_with_generation_feature_gb - total_cost_gb\n",
        "print(\"Gradient w/Generation Feature\", \"${:,.2f}\".format(total_cost_with_college_feature_gb))\n",
        "print(\"Gradient w/Generation Feature Savings\", \"${:,.2f}\".format(total_cost_with_college_feature_gb-total_cost_gb))\n",
        "print(\"TN:\", 292, \"FP:\", 17, \"FN:\", 36, \"TP:\", 23 )\n",
        "print(\"Accuracy:\", 86, \"%\")\n",
        "print(\"\\n\")\n",
        "\n",
        "total_cost_with_generation_feature_lr = 2988000\n",
        "savings_lr_generation = total_cost_with_generation_feature_lr - total_cost_lr\n",
        "print(\"Logistical w/Generation  Feature\", \"${:,.2f}\".format(total_cost_with_generation_feature_lr))\n",
        "print(\"Logistical w/Generation  Feature Savings\", \"${:,.2f}\".format(savings_lr_generation))\n",
        "print(\"TN:\", 302, \"FP:\", 7, \"FN:\", 46, \"TP:\", 13 )\n",
        "print(\"Accuracy:\", 88, \"%\")\n",
        "print(\"\\n\")\n",
        "\n",
        "#With BOTH festures\n",
        "total_cost_with_both_feature_rf = 5816000\n",
        "savings_rf_both = total_cost_with_both_feature_rf - total_cost_rf\n",
        "print(\"Random w/Both Features\", \"${:,.2f}\".format(total_cost_with_college_feature_rf))\n",
        "print(\"Random w/Both Features Savings\", \"${:,.2f}\".format(total_cost_with_college_feature_rf-total_cost_rf))\n",
        "print(\"TN:\", 302, \"FP:\", 7, \"FN:\", 50, \"TP:\", 9 )\n",
        "print(\"Accuracy:\", 85, \"%\")\n",
        "print(\"\\n\")\n",
        "\n",
        "total_cost_with_both_feature_gb = 3848000\n",
        "savings_gb_both = total_cost_with_both_feature_gb - total_cost_gb\n",
        "print(\"Gradient w/Both Features\", \"${:,.2f}\".format(total_cost_with_college_feature_gb))\n",
        "print(\"Gradient w/Both Features Savings\", \"${:,.2f}\".format(total_cost_with_college_feature_gb-total_cost_gb))\n",
        "print(\"TN:\", 306, \"FP:\", 3, \"FN:\", 51, \"TP:\", 8 )\n",
        "print(\"Accuracy:\", 86, \"%\")\n",
        "print(\"\\n\")\n",
        "\n",
        "total_cost_with_both_feature_lr = 3260000\n",
        "savings_lr_both = total_cost_with_both_feature_lr - total_cost_lr\n",
        "print(\"Logistical w/Both Features\", \"${:,.2f}\".format(total_cost_with_college_feature_lr))\n",
        "print(\"Logitical w/Both Features Savings\", \"${:,.2f}\".format(total_cost_with_college_feature_lr-total_cost_lr))\n",
        "print(\"TN:\", 302, \"FP:\", 7, \"FN:\", 32, \"TP:\", 27 )\n",
        "print(\"Accuracy:\", 89, \"%\")\n",
        "print(\"\\n\")"
      ],
      "metadata": {
        "id": "XcAS5dsY4b0R",
        "colab": {
          "base_uri": "https://localhost:8080/"
        },
        "outputId": "c0c618af-6099-47b7-afb9-af8056bd05da"
      },
      "id": "XcAS5dsY4b0R",
      "execution_count": null,
      "outputs": [
        {
          "output_type": "stream",
          "name": "stdout",
          "text": [
            "Random Forest = $5,812,000.0\n",
            "TN: 305 FP: 4 FN: 51 TP: 8\n",
            "Accuracy: 85 %\n",
            "\n",
            "\n",
            "Gradient Boost = $3,848,000.0\n",
            "TN: 295 FP: 14 FN: 38 TP: 21\n",
            "Accuracy: 86 %\n",
            "\n",
            "\n",
            "Logistic Regression = $3,260,000.0\n",
            "TN: 303 FP: 6 FN: 50 TP: 9\n",
            "Accuracy: 90 %\n",
            "\n",
            "\n",
            "Random w/College Feature $6,094,000.00\n",
            "Random w/College Feature Savings $282,000.00\n",
            "TN: 305 FP: 4 FN: 52 TP: 7\n",
            "Accuracy: 85 %\n",
            "\n",
            "\n",
            "Gradient w/College Feature $3,714,000.00\n",
            "Gradient w/College Feature Savings $-134,000.00\n",
            "TN: 288 FP: 21 FN: 35 TP: 24\n",
            "Accuracy: 85 %\n",
            "\n",
            "\n",
            "Logistic w/College Feature $3,115,000.00\n",
            "Logistic w/College Feature Savings $-145,000.00\n",
            "TN: 303 FP: 6 FN: 31 TP: 28\n",
            "Accuracy: 90 %\n",
            "\n",
            "\n",
            "Random w/Generation Feature $6,094,000.00\n",
            "Random w/Generation Feature Savings $282,000.00\n",
            "TN: 306 FP: 3 FN: 51 TP: 8\n",
            "Accuracy: 85 %\n",
            "\n",
            "\n",
            "Gradient w/Generation Feature $3,714,000.00\n",
            "Gradient w/Generation Feature Savings $-134,000.00\n",
            "TN: 292 FP: 17 FN: 36 TP: 23\n",
            "Accuracy: 86 %\n",
            "\n",
            "\n",
            "Logistical w/Generation  Feature $2,988,000.00\n",
            "Logistical w/Generation  Feature Savings $-272,000.00\n",
            "TN: 302 FP: 7 FN: 46 TP: 13\n",
            "Accuracy: 88 %\n",
            "\n",
            "\n",
            "Random w/Both Features $6,094,000.00\n",
            "Random w/Both Features Savings $282,000.00\n",
            "TN: 302 FP: 7 FN: 50 TP: 9\n",
            "Accuracy: 85 %\n",
            "\n",
            "\n",
            "Gradient w/Both Features $3,714,000.00\n",
            "Gradient w/Both Features Savings $-134,000.00\n",
            "TN: 306 FP: 3 FN: 51 TP: 8\n",
            "Accuracy: 86 %\n",
            "\n",
            "\n",
            "Logistical w/Both Features $3,115,000.00\n",
            "Logitical w/Both Features Savings $-145,000.00\n",
            "TN: 302 FP: 7 FN: 32 TP: 27\n",
            "Accuracy: 89 %\n",
            "\n",
            "\n"
          ]
        }
      ]
    },
    {
      "cell_type": "markdown",
      "source": [
        "# Feature 1 - College Diploma\n",
        "\n",
        "Using the College Dimploma gave mixed results. It seems the Random Forest model did slightly worse than with no additional features, costing about $284,000 more than the orignal 284,000 with more false negatives and less true positives. \n",
        "\n",
        "Using the Gradient Boost model however seemed to be an implovement over the model with the original fetaures. It seems to cost 412,000 less. There are less false positives and more true positives than the original.\n",
        "\n"
      ],
      "metadata": {
        "id": "WgVxzuRXj7nt"
      },
      "id": "WgVxzuRXj7nt"
    },
    {
      "cell_type": "markdown",
      "source": [
        "# Feature 2 - Employee Generation\n",
        "\n",
        "Using the Employee Generation as a feature had somewhat similar results. It performed slightly worse with the Random Forest moodel. It was more accurate with the Gradient Boost and the Logistical Regression. The new feature created less False negatives and More true positives.\n",
        "\n",
        "The \"Generation\" feature with the Logistical Regression model knocked the cost down to 2,988,000, saving $128,000 from the original Logitical Regression model, making it the most cost effective combination.\n",
        "\n",
        "Of the two features, it appears to be more successful at making the model more accurate by cutting down false predictions."
      ],
      "metadata": {
        "id": "o8YowqYwkF6R"
      },
      "id": "o8YowqYwkF6R"
    }
  ],
  "metadata": {
    "kernelspec": {
      "display_name": "Python 3 (ipykernel)",
      "language": "python",
      "name": "python3"
    },
    "language_info": {
      "codemirror_mode": {
        "name": "ipython",
        "version": 3
      },
      "file_extension": ".py",
      "mimetype": "text/x-python",
      "name": "python",
      "nbconvert_exporter": "python",
      "pygments_lexer": "ipython3",
      "version": "3.9.7"
    },
    "colab": {
      "name": "employee_churn_bray.ipynb",
      "provenance": [],
      "collapsed_sections": [],
      "include_colab_link": true
    }
  },
  "nbformat": 4,
  "nbformat_minor": 5
}